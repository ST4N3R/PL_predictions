{
 "cells": [
  {
   "cell_type": "code",
   "execution_count": 79,
   "metadata": {},
   "outputs": [],
   "source": [
    "from pyspark.sql import SparkSession, Window\n",
    "from pyspark.sql.functions import to_date, col, split, regexp_replace, when, count, sum, concat_ws, least, greatest, lag"
   ]
  },
  {
   "cell_type": "code",
   "execution_count": 80,
   "metadata": {},
   "outputs": [],
   "source": [
    "spark = SparkSession.builder.appName(\"epl\").getOrCreate()"
   ]
  },
  {
   "cell_type": "code",
   "execution_count": 81,
   "metadata": {},
   "outputs": [
    {
     "data": {
      "text/html": [
       "\n",
       "            <div>\n",
       "                <p><b>SparkSession - in-memory</b></p>\n",
       "                \n",
       "        <div>\n",
       "            <p><b>SparkContext</b></p>\n",
       "\n",
       "            <p><a href=\"http://192.168.1.110:4040\">Spark UI</a></p>\n",
       "\n",
       "            <dl>\n",
       "              <dt>Version</dt>\n",
       "                <dd><code>v3.5.3</code></dd>\n",
       "              <dt>Master</dt>\n",
       "                <dd><code>local[*]</code></dd>\n",
       "              <dt>AppName</dt>\n",
       "                <dd><code>epl</code></dd>\n",
       "            </dl>\n",
       "        </div>\n",
       "        \n",
       "            </div>\n",
       "        "
      ],
      "text/plain": [
       "<pyspark.sql.session.SparkSession at 0x22d7fd909b0>"
      ]
     },
     "execution_count": 81,
     "metadata": {},
     "output_type": "execute_result"
    }
   ],
   "source": [
    "spark"
   ]
  },
  {
   "cell_type": "markdown",
   "metadata": {},
   "source": [
    "### Code for Results"
   ]
  },
  {
   "cell_type": "code",
   "execution_count": 82,
   "metadata": {},
   "outputs": [],
   "source": [
    "resutls_path = r\"C:\\Users\\Stanisław\\Desktop\\Programowanie\\GitHub\\PL_predictions\\epl_predictions\\data\\raw\\results.csv\"\n",
    "\n",
    "df = spark.read.option(\"header\", True).csv(resutls_path)"
   ]
  },
  {
   "cell_type": "code",
   "execution_count": 83,
   "metadata": {},
   "outputs": [
    {
     "name": "stdout",
     "output_type": "stream",
     "text": [
      "+-----+---+---+----------+----+-------------+-----+---------------+----------+---------------+------------+--------------------+-----+-------+-------+---------+\n",
      "|index| Wk|Day|      Date|Time|         Home|Score|           Away|Attendance|          Venue|     Referee|        Match Report|Notes|xG_Home|xG_Away|   Season|\n",
      "+-----+---+---+----------+----+-------------+-----+---------------+----------+---------------+------------+--------------------+-----+-------+-------+---------+\n",
      "|    0|  1|Sat|1995-08-19|NULL|  Southampton|  3–4|Nott'ham Forest|    15,164|       The Dell|Gary Willard|https://fbref.com...| NULL|   NULL|   NULL|1995-1996|\n",
      "|    1|  1|Sat|1995-08-19|NULL|Newcastle Utd|  3–0|  Coventry City|    36,485|St. James' Park|Roger Dilkes|https://fbref.com...| NULL|   NULL|   NULL|1995-1996|\n",
      "|    2|  1|Sat|1995-08-19|NULL|    Wimbledon|  3–2|         Bolton|     9,317|  Selhurst Park|Keith Cooper|https://fbref.com...| NULL|   NULL|   NULL|1995-1996|\n",
      "|    3|  1|Sat|1995-08-19|NULL|    Liverpool|  1–0| Sheffield Weds|    40,535|        Anfield| Paul Durkin|https://fbref.com...| NULL|   NULL|   NULL|1995-1996|\n",
      "|    4|  1|Sat|1995-08-19|NULL|     West Ham|  1–2|   Leeds United|    22,901|  Boleyn Ground| Keith Burge|https://fbref.com...| NULL|   NULL|   NULL|1995-1996|\n",
      "+-----+---+---+----------+----+-------------+-----+---------------+----------+---------------+------------+--------------------+-----+-------+-------+---------+\n",
      "only showing top 5 rows\n",
      "\n"
     ]
    }
   ],
   "source": [
    "df.show(5)"
   ]
  },
  {
   "cell_type": "markdown",
   "metadata": {},
   "source": [
    "Casting Data column to right format"
   ]
  },
  {
   "cell_type": "code",
   "execution_count": 84,
   "metadata": {},
   "outputs": [],
   "source": [
    "df = df.withColumn(\"Date\", to_date(col(\"Date\"), \"yyyy-MM-dd\"))"
   ]
  },
  {
   "cell_type": "markdown",
   "metadata": {},
   "source": [
    "Creating Home_score and Away_score columns"
   ]
  },
  {
   "cell_type": "code",
   "execution_count": 85,
   "metadata": {},
   "outputs": [],
   "source": [
    "df = df.withColumn(\"Home_score\", split(col(\"Score\"), \"–\").getItem(0).cast(\"integer\"))\n",
    "df = df.withColumn(\"Away_score\", split(col(\"Score\"), \"–\").getItem(1).cast(\"integer\"))"
   ]
  },
  {
   "cell_type": "markdown",
   "metadata": {},
   "source": [
    "Changing type of xG columns to float"
   ]
  },
  {
   "cell_type": "code",
   "execution_count": 86,
   "metadata": {},
   "outputs": [],
   "source": [
    "df = df.withColumn(\"xG_Home\", col(\"xG_Home\").cast(\"float\"))\n",
    "df = df.withColumn(\"xG_Away\", col(\"xG_Away\").cast(\"float\"))"
   ]
  },
  {
   "cell_type": "markdown",
   "metadata": {},
   "source": [
    "Deleting Notes column"
   ]
  },
  {
   "cell_type": "code",
   "execution_count": 87,
   "metadata": {},
   "outputs": [],
   "source": [
    "df = df.drop(\"Notes\")"
   ]
  },
  {
   "cell_type": "markdown",
   "metadata": {},
   "source": [
    "Changing type of Attendance column to int"
   ]
  },
  {
   "cell_type": "code",
   "execution_count": 88,
   "metadata": {},
   "outputs": [],
   "source": [
    "df = df.withColumn(\"Attendance\", regexp_replace(col(\"Attendance\"), \",\", \"\").cast(\"integer\"))"
   ]
  },
  {
   "cell_type": "markdown",
   "metadata": {},
   "source": [
    "Creating column Match_result"
   ]
  },
  {
   "cell_type": "code",
   "execution_count": 89,
   "metadata": {},
   "outputs": [],
   "source": [
    "df = df.withColumn(\"Score_diff\", col(\"Home_score\") - col(\"Away_Score\"))\n",
    "\n",
    "result_condition = when(col(\"Score_diff\") > 0, \"W\").when(col(\"Score_diff\") == 0, \"D\").otherwise(\"L\")\n",
    "df = df.withColumn(\"Match_result\", result_condition)"
   ]
  },
  {
   "cell_type": "code",
   "execution_count": 90,
   "metadata": {},
   "outputs": [
    {
     "name": "stdout",
     "output_type": "stream",
     "text": [
      "+-----+---+---+----------+----+-------------+-----+---------------+----------+---------------+------------+--------------------+-------+-------+---------+----------+----------+----------+------------+\n",
      "|index| Wk|Day|      Date|Time|         Home|Score|           Away|Attendance|          Venue|     Referee|        Match Report|xG_Home|xG_Away|   Season|Home_score|Away_score|Score_diff|Match_result|\n",
      "+-----+---+---+----------+----+-------------+-----+---------------+----------+---------------+------------+--------------------+-------+-------+---------+----------+----------+----------+------------+\n",
      "|    0|  1|Sat|1995-08-19|NULL|  Southampton|  3–4|Nott'ham Forest|     15164|       The Dell|Gary Willard|https://fbref.com...|   NULL|   NULL|1995-1996|         3|         4|        -1|           L|\n",
      "|    1|  1|Sat|1995-08-19|NULL|Newcastle Utd|  3–0|  Coventry City|     36485|St. James' Park|Roger Dilkes|https://fbref.com...|   NULL|   NULL|1995-1996|         3|         0|         3|           W|\n",
      "|    2|  1|Sat|1995-08-19|NULL|    Wimbledon|  3–2|         Bolton|      9317|  Selhurst Park|Keith Cooper|https://fbref.com...|   NULL|   NULL|1995-1996|         3|         2|         1|           W|\n",
      "|    3|  1|Sat|1995-08-19|NULL|    Liverpool|  1–0| Sheffield Weds|     40535|        Anfield| Paul Durkin|https://fbref.com...|   NULL|   NULL|1995-1996|         1|         0|         1|           W|\n",
      "|    4|  1|Sat|1995-08-19|NULL|     West Ham|  1–2|   Leeds United|     22901|  Boleyn Ground| Keith Burge|https://fbref.com...|   NULL|   NULL|1995-1996|         1|         2|        -1|           L|\n",
      "+-----+---+---+----------+----+-------------+-----+---------------+----------+---------------+------------+--------------------+-------+-------+---------+----------+----------+----------+------------+\n",
      "only showing top 5 rows\n",
      "\n"
     ]
    }
   ],
   "source": [
    "df.show(5)"
   ]
  },
  {
   "cell_type": "markdown",
   "metadata": {},
   "source": [
    "Creating column points_last_5_matches for home and away team"
   ]
  },
  {
   "cell_type": "code",
   "execution_count": 91,
   "metadata": {},
   "outputs": [],
   "source": [
    "#Creating two df where the main team is home team or away team\n",
    "home_df = df.select(col(\"Date\"), col(\"Home\").alias(\"Team\"), col(\"Away\").alias(\"Opponent\"), col(\"Match_result\").alias(\"Result\"))\n",
    "away_df = df.select(col(\"Date\"), col(\"Away\").alias(\"Team\"), col(\"Home\").alias(\"Opponent\"), when(col(\"Match_result\") == \"W\", \"L\").when(col(\"Match_result\") == \"L\", \"W\").otherwise(\"D\").alias(\"Result\"))"
   ]
  },
  {
   "cell_type": "code",
   "execution_count": 92,
   "metadata": {},
   "outputs": [],
   "source": [
    "#Combining two df. Now we have with double the rows, beacuase we split the home and away team, to new rows\n",
    "combined_df = home_df.union(away_df)\n",
    "combined_df = combined_df.withColumn(\"Points\", when(col(\"Result\") == \"W\", 3).when(col(\"Result\") == \"L\", 0).otherwise(1))"
   ]
  },
  {
   "cell_type": "code",
   "execution_count": 93,
   "metadata": {},
   "outputs": [],
   "source": [
    "match_count_window = Window.partitionBy(\"Team\").orderBy(\"Date\").rowsBetween(Window.unboundedPreceding, -1)\n",
    "combined_df = combined_df.withColumn(\"Match_count\", count(\"Points\").over(match_count_window))"
   ]
  },
  {
   "cell_type": "code",
   "execution_count": 94,
   "metadata": {},
   "outputs": [],
   "source": [
    "#Sum of last 5 matches\n",
    "form_window = Window.partitionBy(\"Team\").orderBy(\"Date\").rowsBetween(-5, -1)\n",
    "\n",
    "combined_df = combined_df.withColumn(\"Points_last_5_matches\", when(col(\"Match_count\") >= 5, sum(\"Points\").over(form_window)).otherwise(None))"
   ]
  },
  {
   "cell_type": "code",
   "execution_count": 95,
   "metadata": {},
   "outputs": [],
   "source": [
    "#This line of code fix te issue with naming of columns and adding the same columns with join\n",
    "combined_df_prepared = combined_df.select(\"Date\", \"Team\", \"Points_last_5_matches\").withColumnRenamed(\"Date\", \"Date_combined\")"
   ]
  },
  {
   "cell_type": "code",
   "execution_count": 96,
   "metadata": {},
   "outputs": [],
   "source": [
    "#Adding form column for the home team, to original df\n",
    "df= df.join(combined_df_prepared, (df[\"Date\"] == combined_df_prepared[\"Date_combined\"]) & (df[\"Home\"] == combined_df_prepared[\"Team\"]), \"left\") \\\n",
    "       .withColumnRenamed(\"Points_last_5_matches\", \"Home_points_last_5_matches\") \\\n",
    "       .drop(\"Date_combined\", \"Team\")"
   ]
  },
  {
   "cell_type": "code",
   "execution_count": 97,
   "metadata": {},
   "outputs": [],
   "source": [
    "#Adding form column for the away team, to original df\n",
    "df = df.join(combined_df_prepared, (df[\"Date\"] == combined_df_prepared[\"Date_combined\"]) & (df[\"Away\"] == combined_df_prepared[\"Team\"]), \"left\") \\\n",
    "       .withColumnRenamed(\"Points_last_5_matches\", \"Away_points_last_5_matches\") \\\n",
    "       .drop(\"Date_combined\", \"Team\")"
   ]
  },
  {
   "cell_type": "code",
   "execution_count": 98,
   "metadata": {},
   "outputs": [
    {
     "name": "stdout",
     "output_type": "stream",
     "text": [
      "+-----+---+---+----------+----+---------------+-----+---------------+----------+---------------+----------------+--------------------+-------+-------+---------+----------+----------+----------+------------+--------------------------+--------------------------+\n",
      "|index| Wk|Day|      Date|Time|           Home|Score|           Away|Attendance|          Venue|         Referee|        Match Report|xG_Home|xG_Away|   Season|Home_score|Away_score|Score_diff|Match_result|Home_points_last_5_matches|Away_points_last_5_matches|\n",
      "+-----+---+---+----------+----+---------------+-----+---------------+----------+---------------+----------------+--------------------+-------+-------+---------+----------+----------+----------+------------+--------------------------+--------------------------+\n",
      "|    0|  1|Sat|1995-08-19|NULL|    Southampton|  3–4|Nott'ham Forest|     15164|       The Dell|    Gary Willard|https://fbref.com...|   NULL|   NULL|1995-1996|         3|         4|        -1|           L|                      NULL|                      NULL|\n",
      "|    1|  1|Sat|1995-08-19|NULL|  Newcastle Utd|  3–0|  Coventry City|     36485|St. James' Park|    Roger Dilkes|https://fbref.com...|   NULL|   NULL|1995-1996|         3|         0|         3|           W|                      NULL|                      NULL|\n",
      "|    2|  1|Sat|1995-08-19|NULL|      Wimbledon|  3–2|         Bolton|      9317|  Selhurst Park|    Keith Cooper|https://fbref.com...|   NULL|   NULL|1995-1996|         3|         2|         1|           W|                      NULL|                      NULL|\n",
      "|    3|  1|Sat|1995-08-19|NULL|      Liverpool|  1–0| Sheffield Weds|     40535|        Anfield|     Paul Durkin|https://fbref.com...|   NULL|   NULL|1995-1996|         1|         0|         1|           W|                      NULL|                      NULL|\n",
      "|    4|  1|Sat|1995-08-19|NULL|       West Ham|  1–2|   Leeds United|     22901|  Boleyn Ground|     Keith Burge|https://fbref.com...|   NULL|   NULL|1995-1996|         1|         2|        -1|           L|                      NULL|                      NULL|\n",
      "|    5|  1|Sat|1995-08-19|NULL|      Blackburn|  1–0|            QPR|     22860|     Ewood Park|     Alan Wilkie|https://fbref.com...|   NULL|   NULL|1995-1996|         1|         0|         1|           W|                      NULL|                      NULL|\n",
      "|    6|  1|Sat|1995-08-19|NULL|    Aston Villa|  3–1| Manchester Utd|     34655|     Villa Park|     Robbie Hart|https://fbref.com...|   NULL|   NULL|1995-1996|         3|         1|         2|           W|                      NULL|                      NULL|\n",
      "|    7|  1|Sat|1995-08-19|NULL|Manchester City|  1–1|      Tottenham|     30827|     Maine Road|     Graham Poll|https://fbref.com...|   NULL|   NULL|1995-1996|         1|         1|         0|           D|                      NULL|                      NULL|\n",
      "|    8|  1|Sat|1995-08-19|NULL|        Chelsea|  0–0|        Everton|     29858|Stamford Bridge|       Mike Reed|https://fbref.com...|   NULL|   NULL|1995-1996|         0|         0|         0|           D|                      NULL|                      NULL|\n",
      "|    9|  1|Sun|1995-08-20|NULL|        Arsenal|  1–1|  Middlesbrough|     37308|       Highbury|    Gerald Ashby|https://fbref.com...|   NULL|   NULL|1995-1996|         1|         1|         0|           D|                      NULL|                      NULL|\n",
      "|   10|  2|Mon|1995-08-21|NULL|   Leeds United|  1–0|      Liverpool|     35852|    Elland Road|   David Elleray|https://fbref.com...|   NULL|   NULL|1995-1996|         1|         0|         1|           W|                      NULL|                      NULL|\n",
      "|   11|  2|Tue|1995-08-22|NULL|         Bolton|  1–3|  Newcastle Utd|     20253|   Burnden Park|     Keith Burge|https://fbref.com...|   NULL|   NULL|1995-1996|         1|         3|        -2|           L|                      NULL|                      NULL|\n",
      "|   12|  2|Wed|1995-08-23|NULL|      Tottenham|  0–1|    Aston Villa|     26726|White Hart Lane|      Steve Dunn|https://fbref.com...|   NULL|   NULL|1995-1996|         0|         1|        -1|           L|                      NULL|                      NULL|\n",
      "|   13|  2|Wed|1995-08-23|NULL|Nott'ham Forest|  0–0|        Chelsea|     27007|    City Ground|     Jeff Winter|https://fbref.com...|   NULL|   NULL|1995-1996|         0|         0|         0|           D|                      NULL|                      NULL|\n",
      "|   14|  2|Wed|1995-08-23|NULL|            QPR|  0–3|      Wimbledon|     11837|    Loftus Road|     Graham Poll|https://fbref.com...|   NULL|   NULL|1995-1996|         0|         3|        -3|           L|                      NULL|                      NULL|\n",
      "|   15|  2|Wed|1995-08-23|NULL| Sheffield Weds|  2–1|      Blackburn|     25544|   Hillsborough|     Paul Danson|https://fbref.com...|   NULL|   NULL|1995-1996|         2|         1|         1|           W|                      NULL|                      NULL|\n",
      "|   16|  2|Wed|1995-08-23|NULL| Manchester Utd|  2–1|       West Ham|     31966|   Old Trafford|Dermot Gallagher|https://fbref.com...|   NULL|   NULL|1995-1996|         2|         1|         1|           W|                      NULL|                      NULL|\n",
      "|   17|  2|Wed|1995-08-23|NULL|  Coventry City|  2–1|Manchester City|     15957| Highfield Road|     Paul Alcock|https://fbref.com...|   NULL|   NULL|1995-1996|         2|         1|         1|           W|                      NULL|                      NULL|\n",
      "|   18|  2|Wed|1995-08-23|NULL|        Everton|  0–2|        Arsenal|     35775|  Goodison Park|     Keith Burge|https://fbref.com...|   NULL|   NULL|1995-1996|         0|         2|        -2|           L|                      NULL|                      NULL|\n",
      "|   19|  3|Sat|1995-08-26|NULL|      Tottenham|  1–3|      Liverpool|     31254|White Hart Lane|    Keith Cooper|https://fbref.com...|   NULL|   NULL|1995-1996|         1|         3|        -2|           L|                      NULL|                      NULL|\n",
      "+-----+---+---+----------+----+---------------+-----+---------------+----------+---------------+----------------+--------------------+-------+-------+---------+----------+----------+----------+------------+--------------------------+--------------------------+\n",
      "only showing top 20 rows\n",
      "\n"
     ]
    }
   ],
   "source": [
    "df.show(20)"
   ]
  },
  {
   "cell_type": "code",
   "execution_count": null,
   "metadata": {},
   "outputs": [],
   "source": []
  }
 ],
 "metadata": {
  "kernelspec": {
   "display_name": "Python 3",
   "language": "python",
   "name": "python3"
  },
  "language_info": {
   "codemirror_mode": {
    "name": "ipython",
    "version": 3
   },
   "file_extension": ".py",
   "mimetype": "text/x-python",
   "name": "python",
   "nbconvert_exporter": "python",
   "pygments_lexer": "ipython3",
   "version": "3.12.3"
  }
 },
 "nbformat": 4,
 "nbformat_minor": 2
}
