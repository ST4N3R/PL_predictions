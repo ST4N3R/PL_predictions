{
 "cells": [
  {
   "cell_type": "code",
   "execution_count": 46,
   "metadata": {},
   "outputs": [],
   "source": [
    "from pyspark.sql import SparkSession, Window\n",
    "from pyspark.sql.functions import to_date, col, split, regexp_replace, when, count, sum, concat_ws, least, greatest"
   ]
  },
  {
   "cell_type": "code",
   "execution_count": 2,
   "metadata": {},
   "outputs": [],
   "source": [
    "spark = SparkSession.builder.appName(\"epl\").getOrCreate()"
   ]
  },
  {
   "cell_type": "code",
   "execution_count": 3,
   "metadata": {},
   "outputs": [
    {
     "data": {
      "text/html": [
       "\n",
       "            <div>\n",
       "                <p><b>SparkSession - in-memory</b></p>\n",
       "                \n",
       "        <div>\n",
       "            <p><b>SparkContext</b></p>\n",
       "\n",
       "            <p><a href=\"http://192.168.1.110:4040\">Spark UI</a></p>\n",
       "\n",
       "            <dl>\n",
       "              <dt>Version</dt>\n",
       "                <dd><code>v3.5.3</code></dd>\n",
       "              <dt>Master</dt>\n",
       "                <dd><code>local[*]</code></dd>\n",
       "              <dt>AppName</dt>\n",
       "                <dd><code>epl</code></dd>\n",
       "            </dl>\n",
       "        </div>\n",
       "        \n",
       "            </div>\n",
       "        "
      ],
      "text/plain": [
       "<pyspark.sql.session.SparkSession at 0x24cf09542c0>"
      ]
     },
     "execution_count": 3,
     "metadata": {},
     "output_type": "execute_result"
    }
   ],
   "source": [
    "spark"
   ]
  },
  {
   "cell_type": "markdown",
   "metadata": {},
   "source": [
    "### Code for Results"
   ]
  },
  {
   "cell_type": "code",
   "execution_count": 26,
   "metadata": {},
   "outputs": [],
   "source": [
    "resutls_path = r\"C:\\Users\\Stanisław\\Desktop\\Programowanie\\GitHub\\PL_predictions\\epl_predictions\\data\\raw\\results.csv\"\n",
    "\n",
    "df = spark.read.option(\"header\", True).csv(resutls_path)"
   ]
  },
  {
   "cell_type": "code",
   "execution_count": 27,
   "metadata": {},
   "outputs": [
    {
     "name": "stdout",
     "output_type": "stream",
     "text": [
      "+-----+---+---+----------+----+-------------+-----+---------------+----------+---------------+------------+--------------------+-----+-------+-------+---------+\n",
      "|index| Wk|Day|      Date|Time|         Home|Score|           Away|Attendance|          Venue|     Referee|        Match Report|Notes|xG_Home|xG_Away|   Season|\n",
      "+-----+---+---+----------+----+-------------+-----+---------------+----------+---------------+------------+--------------------+-----+-------+-------+---------+\n",
      "|    0|  1|Sat|1995-08-19|NULL|  Southampton|  3–4|Nott'ham Forest|    15,164|       The Dell|Gary Willard|https://fbref.com...| NULL|   NULL|   NULL|1995-1996|\n",
      "|    1|  1|Sat|1995-08-19|NULL|Newcastle Utd|  3–0|  Coventry City|    36,485|St. James' Park|Roger Dilkes|https://fbref.com...| NULL|   NULL|   NULL|1995-1996|\n",
      "|    2|  1|Sat|1995-08-19|NULL|    Wimbledon|  3–2|         Bolton|     9,317|  Selhurst Park|Keith Cooper|https://fbref.com...| NULL|   NULL|   NULL|1995-1996|\n",
      "|    3|  1|Sat|1995-08-19|NULL|    Liverpool|  1–0| Sheffield Weds|    40,535|        Anfield| Paul Durkin|https://fbref.com...| NULL|   NULL|   NULL|1995-1996|\n",
      "|    4|  1|Sat|1995-08-19|NULL|     West Ham|  1–2|   Leeds United|    22,901|  Boleyn Ground| Keith Burge|https://fbref.com...| NULL|   NULL|   NULL|1995-1996|\n",
      "+-----+---+---+----------+----+-------------+-----+---------------+----------+---------------+------------+--------------------+-----+-------+-------+---------+\n",
      "only showing top 5 rows\n",
      "\n"
     ]
    }
   ],
   "source": [
    "df.show(5)"
   ]
  },
  {
   "cell_type": "markdown",
   "metadata": {},
   "source": [
    "Casting Data column to right format"
   ]
  },
  {
   "cell_type": "code",
   "execution_count": 28,
   "metadata": {},
   "outputs": [],
   "source": [
    "df = df.withColumn(\"Date\", to_date(col(\"Date\"), \"yyyy-MM-dd\"))"
   ]
  },
  {
   "cell_type": "markdown",
   "metadata": {},
   "source": [
    "Creating Home_score and Away_score columns"
   ]
  },
  {
   "cell_type": "code",
   "execution_count": 29,
   "metadata": {},
   "outputs": [],
   "source": [
    "df = df.withColumn(\"Home_score\", split(col(\"Score\"), \"–\").getItem(0).cast(\"integer\"))\n",
    "df = df.withColumn(\"Away_score\", split(col(\"Score\"), \"–\").getItem(1).cast(\"integer\"))"
   ]
  },
  {
   "cell_type": "markdown",
   "metadata": {},
   "source": [
    "Changing type of xG columns to float"
   ]
  },
  {
   "cell_type": "code",
   "execution_count": 30,
   "metadata": {},
   "outputs": [],
   "source": [
    "df = df.withColumn(\"xG_Home\", col(\"xG_Home\").cast(\"float\"))\n",
    "df = df.withColumn(\"xG_Away\", col(\"xG_Away\").cast(\"float\"))"
   ]
  },
  {
   "cell_type": "markdown",
   "metadata": {},
   "source": [
    "Deleting Notes column"
   ]
  },
  {
   "cell_type": "code",
   "execution_count": 31,
   "metadata": {},
   "outputs": [],
   "source": [
    "df = df.drop(\"Notes\")"
   ]
  },
  {
   "cell_type": "markdown",
   "metadata": {},
   "source": [
    "Changing type of Attendance column to int"
   ]
  },
  {
   "cell_type": "code",
   "execution_count": 32,
   "metadata": {},
   "outputs": [],
   "source": [
    "df = df.withColumn(\"Attendance\", regexp_replace(col(\"Attendance\"), \",\", \"\").cast(\"integer\"))"
   ]
  },
  {
   "cell_type": "markdown",
   "metadata": {},
   "source": [
    "Creating column Match_result"
   ]
  },
  {
   "cell_type": "code",
   "execution_count": 33,
   "metadata": {},
   "outputs": [],
   "source": [
    "df = df.withColumn(\"Score_diff\", col(\"Home_score\") - col(\"Away_Score\"))\n",
    "\n",
    "result_condition = when(col(\"Score_diff\") > 0, \"W\").when(col(\"Score_diff\") == 0, \"D\").otherwise(\"L\")\n",
    "df = df.withColumn(\"Match_result\", result_condition)"
   ]
  },
  {
   "cell_type": "code",
   "execution_count": 34,
   "metadata": {},
   "outputs": [
    {
     "name": "stdout",
     "output_type": "stream",
     "text": [
      "+-----+---+---+----------+----+-------------+-----+---------------+----------+---------------+------------+--------------------+-------+-------+---------+----------+----------+----------+------------+\n",
      "|index| Wk|Day|      Date|Time|         Home|Score|           Away|Attendance|          Venue|     Referee|        Match Report|xG_Home|xG_Away|   Season|Home_score|Away_score|Score_diff|Match_result|\n",
      "+-----+---+---+----------+----+-------------+-----+---------------+----------+---------------+------------+--------------------+-------+-------+---------+----------+----------+----------+------------+\n",
      "|    0|  1|Sat|1995-08-19|NULL|  Southampton|  3–4|Nott'ham Forest|     15164|       The Dell|Gary Willard|https://fbref.com...|   NULL|   NULL|1995-1996|         3|         4|        -1|           L|\n",
      "|    1|  1|Sat|1995-08-19|NULL|Newcastle Utd|  3–0|  Coventry City|     36485|St. James' Park|Roger Dilkes|https://fbref.com...|   NULL|   NULL|1995-1996|         3|         0|         3|           W|\n",
      "|    2|  1|Sat|1995-08-19|NULL|    Wimbledon|  3–2|         Bolton|      9317|  Selhurst Park|Keith Cooper|https://fbref.com...|   NULL|   NULL|1995-1996|         3|         2|         1|           W|\n",
      "|    3|  1|Sat|1995-08-19|NULL|    Liverpool|  1–0| Sheffield Weds|     40535|        Anfield| Paul Durkin|https://fbref.com...|   NULL|   NULL|1995-1996|         1|         0|         1|           W|\n",
      "|    4|  1|Sat|1995-08-19|NULL|     West Ham|  1–2|   Leeds United|     22901|  Boleyn Ground| Keith Burge|https://fbref.com...|   NULL|   NULL|1995-1996|         1|         2|        -1|           L|\n",
      "+-----+---+---+----------+----+-------------+-----+---------------+----------+---------------+------------+--------------------+-------+-------+---------+----------+----------+----------+------------+\n",
      "only showing top 5 rows\n",
      "\n"
     ]
    }
   ],
   "source": [
    "df.show(5)"
   ]
  },
  {
   "cell_type": "markdown",
   "metadata": {},
   "source": [
    "Creating column points_last_5_matches for home and away team"
   ]
  },
  {
   "cell_type": "code",
   "execution_count": 35,
   "metadata": {},
   "outputs": [],
   "source": [
    "#Creating two df where the main team is home team or away team\n",
    "home_df = df.select(col(\"Date\"), col(\"Home\").alias(\"Team\"), col(\"Away\").alias(\"Opponent\"), col(\"Match_result\").alias(\"Result\"))\n",
    "away_df = df.select(col(\"Date\"), col(\"Away\").alias(\"Team\"), col(\"Home\").alias(\"Opponent\"), when(col(\"Match_result\") == \"W\", \"L\").when(col(\"Match_result\") == \"L\", \"W\").otherwise(\"D\").alias(\"Result\"))"
   ]
  },
  {
   "cell_type": "code",
   "execution_count": 36,
   "metadata": {},
   "outputs": [],
   "source": [
    "#Combining two df. Now we have with double the rows, beacuase we split the home and away team, to new rows\n",
    "combined_df = home_df.union(away_df)\n",
    "combined_df = combined_df.withColumn(\"Points\", when(col(\"Result\") == \"W\", 3).when(col(\"Result\") == \"L\", 0).otherwise(1))"
   ]
  },
  {
   "cell_type": "code",
   "execution_count": 37,
   "metadata": {},
   "outputs": [],
   "source": [
    "match_count_window = Window.partitionBy(\"Team\").orderBy(\"Date\").rowsBetween(Window.unboundedPreceding, -1)\n",
    "combined_df = combined_df.withColumn(\"Match_count\", count(\"Points\").over(match_count_window))"
   ]
  },
  {
   "cell_type": "code",
   "execution_count": 38,
   "metadata": {},
   "outputs": [],
   "source": [
    "#Sum of last 5 matches\n",
    "form_window = Window.partitionBy(\"Team\").orderBy(\"Date\").rowsBetween(-5, -1)\n",
    "\n",
    "combined_df = combined_df.withColumn(\"Points_last_5_matches\", when(col(\"Match_count\") >= 5, sum(\"Points\").over(form_window)).otherwise(None))"
   ]
  },
  {
   "cell_type": "code",
   "execution_count": null,
   "metadata": {},
   "outputs": [],
   "source": [
    "#This line of code fix te issue with naming of columns and adding the same columns with join\n",
    "combined_df_prepared = combined_df.select(\"Date\", \"Team\", \"Points_last_5_matches\").withColumnRenamed(\"Date\", \"Date_combined\")"
   ]
  },
  {
   "cell_type": "code",
   "execution_count": 40,
   "metadata": {},
   "outputs": [],
   "source": [
    "#Adding form column for the home team, to original df\n",
    "df= df.join(combined_df_prepared, (df[\"Date\"] == combined_df_prepared[\"Date_combined\"]) & (df[\"Home\"] == combined_df_prepared[\"Team\"]), \"left\") \\\n",
    "       .withColumnRenamed(\"Points_last_5_matches\", \"Home_points_last_5_matches\") \\\n",
    "       .drop(\"Date_combined\", \"Team\")"
   ]
  },
  {
   "cell_type": "code",
   "execution_count": 41,
   "metadata": {},
   "outputs": [],
   "source": [
    "#Adding form column for the away team, to original df\n",
    "df = df.join(combined_df_prepared, (df[\"Date\"] == combined_df_prepared[\"Date_combined\"]) & (df[\"Away\"] == combined_df_prepared[\"Team\"]), \"left\") \\\n",
    "       .withColumnRenamed(\"Points_last_5_matches\", \"Away_points_last_5_matches\") \\\n",
    "       .drop(\"Date_combined\", \"Team\")"
   ]
  },
  {
   "cell_type": "code",
   "execution_count": 42,
   "metadata": {},
   "outputs": [
    {
     "name": "stdout",
     "output_type": "stream",
     "text": [
      "+-----+---+---+----------+----+---------------+-----+---------------+----------+---------------+----------------+--------------------+-------+-------+---------+----------+----------+----------+------------+--------------------------+--------------------------+\n",
      "|index| Wk|Day|      Date|Time|           Home|Score|           Away|Attendance|          Venue|         Referee|        Match Report|xG_Home|xG_Away|   Season|Home_score|Away_score|Score_diff|Match_result|Home_points_last_5_matches|Away_points_last_5_matches|\n",
      "+-----+---+---+----------+----+---------------+-----+---------------+----------+---------------+----------------+--------------------+-------+-------+---------+----------+----------+----------+------------+--------------------------+--------------------------+\n",
      "|    0|  1|Sat|1995-08-19|NULL|    Southampton|  3–4|Nott'ham Forest|     15164|       The Dell|    Gary Willard|https://fbref.com...|   NULL|   NULL|1995-1996|         3|         4|        -1|           L|                      NULL|                      NULL|\n",
      "|    1|  1|Sat|1995-08-19|NULL|  Newcastle Utd|  3–0|  Coventry City|     36485|St. James' Park|    Roger Dilkes|https://fbref.com...|   NULL|   NULL|1995-1996|         3|         0|         3|           W|                      NULL|                      NULL|\n",
      "|    2|  1|Sat|1995-08-19|NULL|      Wimbledon|  3–2|         Bolton|      9317|  Selhurst Park|    Keith Cooper|https://fbref.com...|   NULL|   NULL|1995-1996|         3|         2|         1|           W|                      NULL|                      NULL|\n",
      "|    3|  1|Sat|1995-08-19|NULL|      Liverpool|  1–0| Sheffield Weds|     40535|        Anfield|     Paul Durkin|https://fbref.com...|   NULL|   NULL|1995-1996|         1|         0|         1|           W|                      NULL|                      NULL|\n",
      "|    4|  1|Sat|1995-08-19|NULL|       West Ham|  1–2|   Leeds United|     22901|  Boleyn Ground|     Keith Burge|https://fbref.com...|   NULL|   NULL|1995-1996|         1|         2|        -1|           L|                      NULL|                      NULL|\n",
      "|    5|  1|Sat|1995-08-19|NULL|      Blackburn|  1–0|            QPR|     22860|     Ewood Park|     Alan Wilkie|https://fbref.com...|   NULL|   NULL|1995-1996|         1|         0|         1|           W|                      NULL|                      NULL|\n",
      "|    6|  1|Sat|1995-08-19|NULL|    Aston Villa|  3–1| Manchester Utd|     34655|     Villa Park|     Robbie Hart|https://fbref.com...|   NULL|   NULL|1995-1996|         3|         1|         2|           W|                      NULL|                      NULL|\n",
      "|    7|  1|Sat|1995-08-19|NULL|Manchester City|  1–1|      Tottenham|     30827|     Maine Road|     Graham Poll|https://fbref.com...|   NULL|   NULL|1995-1996|         1|         1|         0|           D|                      NULL|                      NULL|\n",
      "|    8|  1|Sat|1995-08-19|NULL|        Chelsea|  0–0|        Everton|     29858|Stamford Bridge|       Mike Reed|https://fbref.com...|   NULL|   NULL|1995-1996|         0|         0|         0|           D|                      NULL|                      NULL|\n",
      "|    9|  1|Sun|1995-08-20|NULL|        Arsenal|  1–1|  Middlesbrough|     37308|       Highbury|    Gerald Ashby|https://fbref.com...|   NULL|   NULL|1995-1996|         1|         1|         0|           D|                      NULL|                      NULL|\n",
      "|   10|  2|Mon|1995-08-21|NULL|   Leeds United|  1–0|      Liverpool|     35852|    Elland Road|   David Elleray|https://fbref.com...|   NULL|   NULL|1995-1996|         1|         0|         1|           W|                      NULL|                      NULL|\n",
      "|   11|  2|Tue|1995-08-22|NULL|         Bolton|  1–3|  Newcastle Utd|     20253|   Burnden Park|     Keith Burge|https://fbref.com...|   NULL|   NULL|1995-1996|         1|         3|        -2|           L|                      NULL|                      NULL|\n",
      "|   12|  2|Wed|1995-08-23|NULL|      Tottenham|  0–1|    Aston Villa|     26726|White Hart Lane|      Steve Dunn|https://fbref.com...|   NULL|   NULL|1995-1996|         0|         1|        -1|           L|                      NULL|                      NULL|\n",
      "|   13|  2|Wed|1995-08-23|NULL|Nott'ham Forest|  0–0|        Chelsea|     27007|    City Ground|     Jeff Winter|https://fbref.com...|   NULL|   NULL|1995-1996|         0|         0|         0|           D|                      NULL|                      NULL|\n",
      "|   14|  2|Wed|1995-08-23|NULL|            QPR|  0–3|      Wimbledon|     11837|    Loftus Road|     Graham Poll|https://fbref.com...|   NULL|   NULL|1995-1996|         0|         3|        -3|           L|                      NULL|                      NULL|\n",
      "|   15|  2|Wed|1995-08-23|NULL| Sheffield Weds|  2–1|      Blackburn|     25544|   Hillsborough|     Paul Danson|https://fbref.com...|   NULL|   NULL|1995-1996|         2|         1|         1|           W|                      NULL|                      NULL|\n",
      "|   16|  2|Wed|1995-08-23|NULL| Manchester Utd|  2–1|       West Ham|     31966|   Old Trafford|Dermot Gallagher|https://fbref.com...|   NULL|   NULL|1995-1996|         2|         1|         1|           W|                      NULL|                      NULL|\n",
      "|   17|  2|Wed|1995-08-23|NULL|  Coventry City|  2–1|Manchester City|     15957| Highfield Road|     Paul Alcock|https://fbref.com...|   NULL|   NULL|1995-1996|         2|         1|         1|           W|                      NULL|                      NULL|\n",
      "|   18|  2|Wed|1995-08-23|NULL|        Everton|  0–2|        Arsenal|     35775|  Goodison Park|     Keith Burge|https://fbref.com...|   NULL|   NULL|1995-1996|         0|         2|        -2|           L|                      NULL|                      NULL|\n",
      "|   19|  3|Sat|1995-08-26|NULL|      Tottenham|  1–3|      Liverpool|     31254|White Hart Lane|    Keith Cooper|https://fbref.com...|   NULL|   NULL|1995-1996|         1|         3|        -2|           L|                      NULL|                      NULL|\n",
      "+-----+---+---+----------+----+---------------+-----+---------------+----------+---------------+----------------+--------------------+-------+-------+---------+----------+----------+----------+------------+--------------------------+--------------------------+\n",
      "only showing top 20 rows\n",
      "\n"
     ]
    }
   ],
   "source": [
    "df.show(20)"
   ]
  },
  {
   "cell_type": "markdown",
   "metadata": {},
   "source": [
    "Creating column with form in last 3 matches between two teams"
   ]
  },
  {
   "cell_type": "code",
   "execution_count": null,
   "metadata": {},
   "outputs": [],
   "source": [
    "#Creating second df with all the calculations\n",
    "home_head_to_head = df.select(col(\"Home\").alias(\"Team\"), \n",
    "                              col(\"Away\").alias(\"Opponent\"), \n",
    "                              col(\"Date\").alias(\"Date_head_to_head\"), \n",
    "                              col(\"Match_result\").alias(\"Result\"))\n",
    "\n",
    "away_head_to_head = df.select(col(\"Away\").alias(\"Team\"),\n",
    "                              col(\"Home\").alias(\"Opponent\"), \n",
    "                              col(\"Date\").alias(\"Date_head_to_head\"), \n",
    "                              when(col(\"Match_result\") == \"W\", \"L\").when(col(\"Match_result\") == \"L\", \"W\").otherwise(\"D\").alias(\"Result\"))"
   ]
  },
  {
   "cell_type": "code",
   "execution_count": 129,
   "metadata": {},
   "outputs": [],
   "source": [
    "#Creating column with unique paring of team and opponent\n",
    "home_head_to_head = home_head_to_head.withColumn(\"Matchup\", concat_ws(\"_\", least(\"Team\", \"Opponent\"), greatest(\"Team\", \"Opponent\")))\n",
    "away_head_to_head = away_head_to_head.withColumn(\"Matchup\", concat_ws(\"_\", least(\"Team\", \"Opponent\"), greatest(\"Team\", \"Opponent\")))"
   ]
  },
  {
   "cell_type": "code",
   "execution_count": 130,
   "metadata": {},
   "outputs": [],
   "source": [
    "combined_head_to_head = home_head_to_head.union(away_head_to_head)\n",
    "combined_head_to_head = combined_head_to_head.withColumn(\"Points\", when(col(\"Result\") == \"W\", 3).when(col(\"Result\") == \"L\", 0).otherwise(1))"
   ]
  },
  {
   "cell_type": "code",
   "execution_count": 131,
   "metadata": {},
   "outputs": [
    {
     "name": "stdout",
     "output_type": "stream",
     "text": [
      "+-------------+---------------+-----------------+------+--------------------+------+\n",
      "|         Team|       Opponent|Date_head_to_head|Result|             Matchup|Points|\n",
      "+-------------+---------------+-----------------+------+--------------------+------+\n",
      "|  Southampton|Nott'ham Forest|       1995-08-19|     L|Nott'ham Forest_S...|     0|\n",
      "|Newcastle Utd|  Coventry City|       1995-08-19|     W|Coventry City_New...|     3|\n",
      "|    Wimbledon|         Bolton|       1995-08-19|     W|    Bolton_Wimbledon|     3|\n",
      "|    Liverpool| Sheffield Weds|       1995-08-19|     W|Liverpool_Sheffie...|     3|\n",
      "|     West Ham|   Leeds United|       1995-08-19|     L|Leeds United_West...|     0|\n",
      "+-------------+---------------+-----------------+------+--------------------+------+\n",
      "only showing top 5 rows\n",
      "\n"
     ]
    }
   ],
   "source": [
    "combined_head_to_head.show(5)"
   ]
  },
  {
   "cell_type": "code",
   "execution_count": null,
   "metadata": {},
   "outputs": [],
   "source": [
    "# home_head_to_head = home_head_to_head.withColumn(\"Home_Points\", when(col(\"Match_result\") == \"W\", 3).when(col(\"Match_result\") == \"D\", 1).otherwise(0))\n",
    "\n",
    "# df_between_clubs = df_between_clubs.withColumn(\"Away_Points\", when(col(\"Match_result\") == \"L\", 3).when(col(\"Match_result\") == \"D\", 1).otherwise(0))"
   ]
  },
  {
   "cell_type": "code",
   "execution_count": 132,
   "metadata": {},
   "outputs": [],
   "source": [
    "#Creating Window that counts last matches - we don't want to have a value if certain number of matches between two clubs already happend\n",
    "match_count_window = Window.partitionBy(\"Matchup\").orderBy(\"Date_head_to_head\").rowsBetween(Window.unboundedPreceding, -1)\n",
    "\n",
    "#Sum of last 3 matches\n",
    "# form_matchup_window = Window.partitionBy(\"Matchup\").orderBy(\"Data_between_clubs\").rowsBetween(-3, -1)\n",
    "\n",
    "form_matchup_window = Window.partitionBy(\"Team\").partitionBy(\"Matchup\").orderBy(\"Date_head_to_head\").rowsBetween(-3, -1)"
   ]
  },
  {
   "cell_type": "code",
   "execution_count": null,
   "metadata": {},
   "outputs": [],
   "source": [
    "#Creating column that helps with minimum number of matches\n",
    "# home_head_to_head = home_head_to_head.withColumn(\"Match_count\", count(\"Home_Points\").over(match_count_window))"
   ]
  },
  {
   "cell_type": "code",
   "execution_count": 133,
   "metadata": {},
   "outputs": [],
   "source": [
    "combined_head_to_head = combined_head_to_head.withColumn(\"Head_to_Head_Form\", sum(\"Points\").over(form_matchup_window))\n",
    "\n",
    "# df_between_clubs = df_between_clubs.withColumn(\"Away_Head_to_Head_Form\", when(col(\"Match_count\") >= 3, sum(\"Away_Points\").over(form_matchup_window)).otherwise(None))"
   ]
  },
  {
   "cell_type": "code",
   "execution_count": 134,
   "metadata": {},
   "outputs": [
    {
     "name": "stdout",
     "output_type": "stream",
     "text": [
      "+-----------+-----------+-----------------+------+-------------------+------+-----------------+\n",
      "|       Team|   Opponent|Date_head_to_head|Result|            Matchup|Points|Head_to_Head_Form|\n",
      "+-----------+-----------+-----------------+------+-------------------+------+-----------------+\n",
      "|    Arsenal|Aston Villa|       1995-10-21|     W|Arsenal_Aston Villa|     3|             NULL|\n",
      "|Aston Villa|    Arsenal|       1995-10-21|     L|Arsenal_Aston Villa|     0|                3|\n",
      "|Aston Villa|    Arsenal|       1995-12-02|     D|Arsenal_Aston Villa|     1|                3|\n",
      "|    Arsenal|Aston Villa|       1995-12-02|     D|Arsenal_Aston Villa|     1|                4|\n",
      "|Aston Villa|    Arsenal|       1996-09-07|     D|Arsenal_Aston Villa|     1|                2|\n",
      "|    Arsenal|Aston Villa|       1996-09-07|     D|Arsenal_Aston Villa|     1|                3|\n",
      "|    Arsenal|Aston Villa|       1996-12-28|     D|Arsenal_Aston Villa|     1|                3|\n",
      "|Aston Villa|    Arsenal|       1996-12-28|     D|Arsenal_Aston Villa|     1|                3|\n",
      "|    Arsenal|Aston Villa|       1997-10-26|     D|Arsenal_Aston Villa|     1|                3|\n",
      "|Aston Villa|    Arsenal|       1997-10-26|     D|Arsenal_Aston Villa|     1|                3|\n",
      "|Aston Villa|    Arsenal|       1998-05-10|     W|Arsenal_Aston Villa|     3|                3|\n",
      "|    Arsenal|Aston Villa|       1998-05-10|     L|Arsenal_Aston Villa|     0|                5|\n",
      "|Aston Villa|    Arsenal|       1998-12-13|     W|Arsenal_Aston Villa|     3|                4|\n",
      "|    Arsenal|Aston Villa|       1998-12-13|     L|Arsenal_Aston Villa|     0|                6|\n",
      "|    Arsenal|Aston Villa|       1999-05-16|     W|Arsenal_Aston Villa|     3|                3|\n",
      "|Aston Villa|    Arsenal|       1999-05-16|     L|Arsenal_Aston Villa|     0|                6|\n",
      "|    Arsenal|Aston Villa|       1999-09-11|     W|Arsenal_Aston Villa|     3|                3|\n",
      "|Aston Villa|    Arsenal|       1999-09-11|     L|Arsenal_Aston Villa|     0|                6|\n",
      "|Aston Villa|    Arsenal|       2000-03-05|     D|Arsenal_Aston Villa|     1|                3|\n",
      "|    Arsenal|Aston Villa|       2000-03-05|     D|Arsenal_Aston Villa|     1|                4|\n",
      "+-----------+-----------+-----------------+------+-------------------+------+-----------------+\n",
      "only showing top 20 rows\n",
      "\n"
     ]
    }
   ],
   "source": [
    "combined_head_to_head.show(20)"
   ]
  },
  {
   "cell_type": "code",
   "execution_count": null,
   "metadata": {},
   "outputs": [],
   "source": [
    "test = [['AR', 'AV', 'AV', 'AR', 'AR', 'AV', 'AV', 'AR'], \n",
    "        ['AV', 'AR', 'AR', 'AV', 'AV', 'AR', 'AR', 'AV'],\n",
    "        [3, 1, 1, 1, 1, 3, 3, 3],\n",
    "        [0, 1, 1, 1, 1, 0, 0, 0]]\n",
    "\n",
    "col = ['Home', 'Away', 'Home_points', 'Away_points']"
   ]
  },
  {
   "cell_type": "code",
   "execution_count": 22,
   "metadata": {},
   "outputs": [
    {
     "name": "stdout",
     "output_type": "stream",
     "text": [
      "root\n",
      " |-- index: string (nullable = true)\n",
      " |-- xG_Home: float (nullable = true)\n",
      " |-- xG_Away: float (nullable = true)\n",
      " |-- Match Report: string (nullable = true)\n",
      " |-- Season: string (nullable = true)\n",
      " |-- Wk: string (nullable = true)\n",
      " |-- Day: string (nullable = true)\n",
      " |-- Date: date (nullable = true)\n",
      " |-- Time: string (nullable = true)\n",
      " |-- Home: string (nullable = true)\n",
      " |-- Score: string (nullable = true)\n",
      " |-- Away: string (nullable = true)\n",
      " |-- Attendance: integer (nullable = true)\n",
      " |-- Venue: string (nullable = true)\n",
      " |-- Referee: string (nullable = true)\n",
      " |-- Home_score: integer (nullable = true)\n",
      " |-- Away_score: integer (nullable = true)\n",
      " |-- Score_diff: integer (nullable = true)\n",
      " |-- Match_result: string (nullable = false)\n",
      " |-- Home_points_last_5_matches: long (nullable = true)\n",
      " |-- Away_points_last_5_matches: long (nullable = true)\n",
      " |-- Home_Points: integer (nullable = false)\n",
      " |-- Away_Points: integer (nullable = false)\n",
      "\n"
     ]
    }
   ],
   "source": [
    "df.printSchema()"
   ]
  },
  {
   "cell_type": "code",
   "execution_count": 23,
   "metadata": {},
   "outputs": [
    {
     "name": "stdout",
     "output_type": "stream",
     "text": [
      "+-----+-------+-------+--------------------+---------+---+---+----------+----+---------------+-----+---------------+----------+-----------------+----------------+----------+----------+----------+------------+--------------------------+--------------------------+-----------+-----------+\n",
      "|index|xG_Home|xG_Away|        Match Report|   Season| Wk|Day|      Date|Time|           Home|Score|           Away|Attendance|            Venue|         Referee|Home_score|Away_score|Score_diff|Match_result|Home_points_last_5_matches|Away_points_last_5_matches|Home_Points|Away_Points|\n",
      "+-----+-------+-------+--------------------+---------+---+---+----------+----+---------------+-----+---------------+----------+-----------------+----------------+----------+----------+----------+------------+--------------------------+--------------------------+-----------+-----------+\n",
      "|    0|   NULL|   NULL|https://fbref.com...|2000-2001|  1|Sat|2000-08-19|NULL|   Leeds United|  2–0|        Everton|     40010|      Elland Road|Dermot Gallagher|         2|         0|         2|           W|                      NULL|                      NULL|          3|          3|\n",
      "|    1|   NULL|   NULL|https://fbref.com...|2000-2001|  1|Sat|2000-08-19|NULL|      Liverpool|  1–0|  Bradford City|     44183|          Anfield|     Paul Durkin|         1|         0|         1|           W|                      NULL|                      NULL|          3|          3|\n",
      "|    2|   NULL|   NULL|https://fbref.com...|2000-2001|  1|Sat|2000-08-19|NULL|        Chelsea|  4–2|       West Ham|     34914|  Stamford Bridge|   Graham Barber|         4|         2|         2|           W|                      NULL|                      NULL|          3|          3|\n",
      "|    3|   NULL|   NULL|https://fbref.com...|2000-2001|  1|Sat|2000-08-19|NULL|      Tottenham|  3–1|   Ipswich Town|     36148|  White Hart Lane|      Alan Wiley|         3|         1|         2|           W|                      NULL|                      NULL|          3|          3|\n",
      "|    4|   NULL|   NULL|https://fbref.com...|2000-2001|  1|Sat|2000-08-19|NULL|  Coventry City|  1–3|  Middlesbrough|     20624|   Highfield Road|    Barry Knight|         1|         3|        -2|           L|                      NULL|                      NULL|          0|          0|\n",
      "|    5|   NULL|   NULL|https://fbref.com...|2000-2001|  1|Sat|2000-08-19|NULL|   Derby County|  2–2|    Southampton|     27223|       Pride Park|     Andy D'Urso|         2|         2|         0|           D|                      NULL|                      NULL|          1|          1|\n",
      "|    6|   NULL|   NULL|https://fbref.com...|2000-2001|  1|Sat|2000-08-19|NULL|     Sunderland|  1–0|        Arsenal|     47121| Stadium of Light|      Steve Dunn|         1|         0|         1|           W|                      NULL|                      NULL|          3|          3|\n",
      "|    7|   NULL|   NULL|https://fbref.com...|2000-2001|  1|Sat|2000-08-19|NULL|   Charlton Ath|  4–0|Manchester City|     20043|       The Valley|      Rob Harris|         4|         0|         4|           W|                      NULL|                      NULL|          3|          3|\n",
      "|    8|   NULL|   NULL|https://fbref.com...|2000-2001|  1|Sat|2000-08-19|NULL| Leicester City|  0–0|    Aston Villa|     21455|   Filbert Street|      Mike Riley|         0|         0|         0|           D|                      NULL|                      NULL|          1|          1|\n",
      "|    9|   NULL|   NULL|https://fbref.com...|2000-2001|  1|Sun|2000-08-20|NULL| Manchester Utd|  2–0|  Newcastle Utd|     67477|     Old Trafford|   Stephen Lodge|         2|         0|         2|           W|                      NULL|                      NULL|          3|          3|\n",
      "|   10|   NULL|   NULL|https://fbref.com...|2000-2001|  2|Mon|2000-08-21|NULL|        Arsenal|  2–0|      Liverpool|     38014|         Highbury|     Graham Poll|         2|         0|         2|           W|                         0|                         3|          3|          3|\n",
      "|   11|   NULL|   NULL|https://fbref.com...|2000-2001|  2|Tue|2000-08-22|NULL|   Ipswich Town|  1–1| Manchester Utd|     22007|     Portman Road|     Jeff Winter|         1|         1|         0|           D|                         0|                         3|          1|          1|\n",
      "|   12|   NULL|   NULL|https://fbref.com...|2000-2001|  2|Tue|2000-08-22|NULL|  Bradford City|  2–0|        Chelsea|     17872|    Valley Parade|     Mark Halsey|         2|         0|         2|           W|                         0|                         3|          3|          3|\n",
      "|   13|   NULL|   NULL|https://fbref.com...|2000-2001|  2|Tue|2000-08-22|NULL|  Middlesbrough|  1–1|      Tottenham|     31254|Riverside Stadium|     Peter Jones|         1|         1|         0|           D|                         3|                         3|          1|          1|\n",
      "|   14|   NULL|   NULL|https://fbref.com...|2000-2001|  2|Wed|2000-08-23|NULL|    Southampton|  1–2|  Coventry City|     14801|         The Dell|     Paul Taylor|         1|         2|        -1|           L|                         1|                         0|          0|          0|\n",
      "|   15|   NULL|   NULL|https://fbref.com...|2000-2001|  2|Wed|2000-08-23|NULL|  Newcastle Utd|  3–2|   Derby County|     51327|  St. James' Park|Dermot Gallagher|         3|         2|         1|           W|                         0|                         1|          3|          3|\n",
      "|   16|   NULL|   NULL|https://fbref.com...|2000-2001|  2|Wed|2000-08-23|NULL|Manchester City|  4–2|     Sunderland|     34410|       Maine Road|   David Elleray|         4|         2|         2|           W|                         0|                         3|          3|          3|\n",
      "|   17|   NULL|   NULL|https://fbref.com...|2000-2001|  2|Wed|2000-08-23|NULL|       West Ham|  0–1| Leicester City|     25195|    Boleyn Ground|      Rob Styles|         0|         1|        -1|           L|                         0|                         1|          0|          0|\n",
      "|   18|   NULL|   NULL|https://fbref.com...|2000-2001|  2|Wed|2000-08-23|NULL|        Everton|  3–0|   Charlton Ath|     36300|    Goodison Park|     Neale Barry|         3|         0|         3|           W|                         0|                         3|          3|          3|\n",
      "|   19|   NULL|   NULL|https://fbref.com...|2000-2001|  3|Sat|2000-08-26|NULL|   Ipswich Town|  1–0|     Sunderland|     21830|     Portman Road|     Graham Poll|         1|         0|         1|           W|                         1|                         3|          3|          3|\n",
      "+-----+-------+-------+--------------------+---------+---+---+----------+----+---------------+-----+---------------+----------+-----------------+----------------+----------+----------+----------+------------+--------------------------+--------------------------+-----------+-----------+\n",
      "only showing top 20 rows\n",
      "\n"
     ]
    }
   ],
   "source": [
    "df.show()"
   ]
  },
  {
   "cell_type": "code",
   "execution_count": null,
   "metadata": {},
   "outputs": [],
   "source": []
  }
 ],
 "metadata": {
  "kernelspec": {
   "display_name": "Python 3",
   "language": "python",
   "name": "python3"
  },
  "language_info": {
   "codemirror_mode": {
    "name": "ipython",
    "version": 3
   },
   "file_extension": ".py",
   "mimetype": "text/x-python",
   "name": "python",
   "nbconvert_exporter": "python",
   "pygments_lexer": "ipython3",
   "version": "3.12.3"
  }
 },
 "nbformat": 4,
 "nbformat_minor": 2
}
