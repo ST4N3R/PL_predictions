{
 "cells": [
  {
   "cell_type": "code",
   "execution_count": 114,
   "metadata": {},
   "outputs": [],
   "source": [
    "from pyspark.sql import SparkSession, Window\n",
    "from pyspark.sql.functions import to_date, col, split, regexp_replace, when, lag, sum"
   ]
  },
  {
   "cell_type": "code",
   "execution_count": 115,
   "metadata": {},
   "outputs": [],
   "source": [
    "spark = SparkSession.builder.appName(\"epl\").getOrCreate()"
   ]
  },
  {
   "cell_type": "code",
   "execution_count": 116,
   "metadata": {},
   "outputs": [
    {
     "data": {
      "text/html": [
       "\n",
       "            <div>\n",
       "                <p><b>SparkSession - in-memory</b></p>\n",
       "                \n",
       "        <div>\n",
       "            <p><b>SparkContext</b></p>\n",
       "\n",
       "            <p><a href=\"http://192.168.1.110:4040\">Spark UI</a></p>\n",
       "\n",
       "            <dl>\n",
       "              <dt>Version</dt>\n",
       "                <dd><code>v3.5.3</code></dd>\n",
       "              <dt>Master</dt>\n",
       "                <dd><code>local[*]</code></dd>\n",
       "              <dt>AppName</dt>\n",
       "                <dd><code>epl</code></dd>\n",
       "            </dl>\n",
       "        </div>\n",
       "        \n",
       "            </div>\n",
       "        "
      ],
      "text/plain": [
       "<pyspark.sql.session.SparkSession at 0x265ad954110>"
      ]
     },
     "execution_count": 116,
     "metadata": {},
     "output_type": "execute_result"
    }
   ],
   "source": [
    "spark"
   ]
  },
  {
   "cell_type": "markdown",
   "metadata": {},
   "source": [
    "### Code for Results"
   ]
  },
  {
   "cell_type": "code",
   "execution_count": 117,
   "metadata": {},
   "outputs": [],
   "source": [
    "resutls_path = r\"C:\\Users\\Stanisław\\Desktop\\Programowanie\\GitHub\\PL_predictions\\epl_predictions\\data\\raw\\results.csv\"\n",
    "\n",
    "df = spark.read.option(\"header\", True).csv(resutls_path)"
   ]
  },
  {
   "cell_type": "code",
   "execution_count": 118,
   "metadata": {},
   "outputs": [
    {
     "name": "stdout",
     "output_type": "stream",
     "text": [
      "+-----+-------+-------+--------------------+---------+---+---+----------+----+-------------+-----+-------------+----------+---------------+----------------+-----+\n",
      "|index|xG_Home|xG_Away|        Match Report|   Season| Wk|Day|      Date|Time|         Home|Score|         Away|Attendance|          Venue|         Referee|Notes|\n",
      "+-----+-------+-------+--------------------+---------+---+---+----------+----+-------------+-----+-------------+----------+---------------+----------------+-----+\n",
      "|    0|   NULL|   NULL|https://fbref.com...|2000-2001|  1|Sat|2000-08-19|NULL| Leeds United|  2–0|      Everton|    40,010|    Elland Road|Dermot Gallagher| NULL|\n",
      "|    1|   NULL|   NULL|https://fbref.com...|2000-2001|  1|Sat|2000-08-19|NULL|    Liverpool|  1–0|Bradford City|    44,183|        Anfield|     Paul Durkin| NULL|\n",
      "|    2|   NULL|   NULL|https://fbref.com...|2000-2001|  1|Sat|2000-08-19|NULL|      Chelsea|  4–2|     West Ham|    34,914|Stamford Bridge|   Graham Barber| NULL|\n",
      "|    3|   NULL|   NULL|https://fbref.com...|2000-2001|  1|Sat|2000-08-19|NULL|    Tottenham|  3–1| Ipswich Town|    36,148|White Hart Lane|      Alan Wiley| NULL|\n",
      "|    4|   NULL|   NULL|https://fbref.com...|2000-2001|  1|Sat|2000-08-19|NULL|Coventry City|  1–3|Middlesbrough|    20,624| Highfield Road|    Barry Knight| NULL|\n",
      "+-----+-------+-------+--------------------+---------+---+---+----------+----+-------------+-----+-------------+----------+---------------+----------------+-----+\n",
      "only showing top 5 rows\n",
      "\n"
     ]
    }
   ],
   "source": [
    "df.show(5)"
   ]
  },
  {
   "cell_type": "markdown",
   "metadata": {},
   "source": [
    "Casting Data column to right format"
   ]
  },
  {
   "cell_type": "code",
   "execution_count": 119,
   "metadata": {},
   "outputs": [],
   "source": [
    "df = df.withColumn(\"Date\", to_date(col(\"Date\"), \"yyyy-MM-dd\"))"
   ]
  },
  {
   "cell_type": "markdown",
   "metadata": {},
   "source": [
    "Creating Home_score and Away_score columns"
   ]
  },
  {
   "cell_type": "code",
   "execution_count": 120,
   "metadata": {},
   "outputs": [],
   "source": [
    "df = df.withColumn(\"Home_score\", split(col(\"Score\"), \"–\").getItem(0).cast(\"integer\"))\n",
    "df = df.withColumn(\"Away_score\", split(col(\"Score\"), \"–\").getItem(1).cast(\"integer\"))"
   ]
  },
  {
   "cell_type": "markdown",
   "metadata": {},
   "source": [
    "Changing type of xG columns to float"
   ]
  },
  {
   "cell_type": "code",
   "execution_count": 121,
   "metadata": {},
   "outputs": [],
   "source": [
    "df = df.withColumn(\"xG_Home\", col(\"xG_Home\").cast(\"float\"))\n",
    "df = df.withColumn(\"xG_Away\", col(\"xG_Away\").cast(\"float\"))"
   ]
  },
  {
   "cell_type": "markdown",
   "metadata": {},
   "source": [
    "Deleting Notes column"
   ]
  },
  {
   "cell_type": "code",
   "execution_count": 122,
   "metadata": {},
   "outputs": [],
   "source": [
    "df = df.drop(\"Notes\")"
   ]
  },
  {
   "cell_type": "markdown",
   "metadata": {},
   "source": [
    "Changing type of Attendance column to int"
   ]
  },
  {
   "cell_type": "code",
   "execution_count": 123,
   "metadata": {},
   "outputs": [],
   "source": [
    "df = df.withColumn(\"Attendance\", regexp_replace(col(\"Attendance\"), \",\", \"\").cast(\"integer\"))"
   ]
  },
  {
   "cell_type": "markdown",
   "metadata": {},
   "source": [
    "Creating column Match_result"
   ]
  },
  {
   "cell_type": "code",
   "execution_count": 124,
   "metadata": {},
   "outputs": [],
   "source": [
    "df = df.withColumn(\"Score_diff\", col(\"Home_score\") - col(\"Away_Score\"))\n",
    "\n",
    "result_condition = when(col(\"Score_diff\") > 0, \"W\").when(col(\"Score_diff\") == 0, \"D\").otherwise(\"L\")\n",
    "df = df.withColumn(\"Match_result\", result_condition)"
   ]
  },
  {
   "cell_type": "markdown",
   "metadata": {},
   "source": [
    "Creating column home_point_last_5_matches"
   ]
  },
  {
   "cell_type": "code",
   "execution_count": 125,
   "metadata": {},
   "outputs": [],
   "source": [
    "df_copy = df.select(\"*\")"
   ]
  },
  {
   "cell_type": "code",
   "execution_count": 206,
   "metadata": {},
   "outputs": [],
   "source": [
    "df = df_copy.select(\"*\")"
   ]
  },
  {
   "cell_type": "code",
   "execution_count": 207,
   "metadata": {},
   "outputs": [],
   "source": [
    "#Creating two df where the main team is home team or away team\n",
    "home_df = df.select(col(\"Date\"), col(\"Home\").alias(\"Team\"), col(\"Away\").alias(\"Opponent\"), col(\"Match_result\").alias(\"Result\"))\n",
    "away_df = df.select(col(\"Date\"), col(\"Away\").alias(\"Team\"), col(\"Home\").alias(\"Opponent\"), when(col(\"Match_result\") == \"W\", \"L\").when(col(\"Match_result\") == \"L\", \"W\").otherwise(\"D\").alias(\"Result\"))"
   ]
  },
  {
   "cell_type": "code",
   "execution_count": 208,
   "metadata": {},
   "outputs": [],
   "source": [
    "#Combining two df. Now we have with double the rows, beacuase we split the home and away team, to new rows\n",
    "combined_df = home_df.union(away_df)\n",
    "combined_df = combined_df.withColumn(\"Points\", when(col(\"Result\") == \"W\", 3).when(col(\"Result\") == \"L\", 0).otherwise(1))"
   ]
  },
  {
   "cell_type": "code",
   "execution_count": 209,
   "metadata": {},
   "outputs": [],
   "source": [
    "#Sum of last 5 matches\n",
    "form_window = Window.partitionBy(\"Team\").orderBy(\"Date\").rowsBetween(-5, -1)\n",
    "\n",
    "combined_df = combined_df.withColumn(\"Points_last_5_matches\", sum(\"Points\").over(form_window))"
   ]
  },
  {
   "cell_type": "code",
   "execution_count": 210,
   "metadata": {},
   "outputs": [],
   "source": [
    "combined_df_prepared = combined_df.select(\"Date\", \"Team\", \"Points_last_5_matches\").withColumnRenamed(\"Date\", \"Date_combined\")"
   ]
  },
  {
   "cell_type": "code",
   "execution_count": 211,
   "metadata": {},
   "outputs": [],
   "source": [
    "#Adding form column for the home team, to original df\n",
    "df= df.join(combined_df_prepared, (df[\"Date\"] == combined_df_prepared[\"Date_combined\"]) & (df[\"Home\"] == combined_df_prepared[\"Team\"]), \"left\") \\\n",
    "       .withColumnRenamed(\"Points_last_5_matches\", \"Home_points_last_5_matches\") \\\n",
    "       .drop(\"Date_combined\", \"Team\")"
   ]
  },
  {
   "cell_type": "code",
   "execution_count": null,
   "metadata": {},
   "outputs": [],
   "source": [
    "#Adding form column for the away team, to original df\n",
    "df = df.join(combined_df_prepared, (df[\"Date\"] == combined_df_prepared[\"Date_combined\"]) & (df[\"Away\"] == combined_df_prepared[\"Team\"]), \"left\") \\\n",
    "       .withColumnRenamed(\"Points_last_5_matches\", \"Away_points_last_5_matches\") \\\n",
    "       .drop(\"Date_combined\", \"Team\")"
   ]
  },
  {
   "cell_type": "code",
   "execution_count": 214,
   "metadata": {},
   "outputs": [
    {
     "name": "stdout",
     "output_type": "stream",
     "text": [
      "+-----+-------+-------+--------------------+---------+---+---+----------+----+---------------+-----+---------------+----------+-----------------+----------------+----------+----------+----------+------------+--------------------------+--------------------------+\n",
      "|index|xG_Home|xG_Away|        Match Report|   Season| Wk|Day|      Date|Time|           Home|Score|           Away|Attendance|            Venue|         Referee|Home_score|Away_score|Score_diff|Match_result|Home_points_last_5_matches|Away_points_last_5_matches|\n",
      "+-----+-------+-------+--------------------+---------+---+---+----------+----+---------------+-----+---------------+----------+-----------------+----------------+----------+----------+----------+------------+--------------------------+--------------------------+\n",
      "|    0|   NULL|   NULL|https://fbref.com...|2000-2001|  1|Sat|2000-08-19|NULL|   Leeds United|  2–0|        Everton|     40010|      Elland Road|Dermot Gallagher|         2|         0|         2|           W|                      NULL|                      NULL|\n",
      "|    1|   NULL|   NULL|https://fbref.com...|2000-2001|  1|Sat|2000-08-19|NULL|      Liverpool|  1–0|  Bradford City|     44183|          Anfield|     Paul Durkin|         1|         0|         1|           W|                      NULL|                      NULL|\n",
      "|    2|   NULL|   NULL|https://fbref.com...|2000-2001|  1|Sat|2000-08-19|NULL|        Chelsea|  4–2|       West Ham|     34914|  Stamford Bridge|   Graham Barber|         4|         2|         2|           W|                      NULL|                      NULL|\n",
      "|    3|   NULL|   NULL|https://fbref.com...|2000-2001|  1|Sat|2000-08-19|NULL|      Tottenham|  3–1|   Ipswich Town|     36148|  White Hart Lane|      Alan Wiley|         3|         1|         2|           W|                      NULL|                      NULL|\n",
      "|    4|   NULL|   NULL|https://fbref.com...|2000-2001|  1|Sat|2000-08-19|NULL|  Coventry City|  1–3|  Middlesbrough|     20624|   Highfield Road|    Barry Knight|         1|         3|        -2|           L|                      NULL|                      NULL|\n",
      "|    5|   NULL|   NULL|https://fbref.com...|2000-2001|  1|Sat|2000-08-19|NULL|   Derby County|  2–2|    Southampton|     27223|       Pride Park|     Andy D'Urso|         2|         2|         0|           D|                      NULL|                      NULL|\n",
      "|    6|   NULL|   NULL|https://fbref.com...|2000-2001|  1|Sat|2000-08-19|NULL|     Sunderland|  1–0|        Arsenal|     47121| Stadium of Light|      Steve Dunn|         1|         0|         1|           W|                      NULL|                      NULL|\n",
      "|    7|   NULL|   NULL|https://fbref.com...|2000-2001|  1|Sat|2000-08-19|NULL|   Charlton Ath|  4–0|Manchester City|     20043|       The Valley|      Rob Harris|         4|         0|         4|           W|                      NULL|                      NULL|\n",
      "|    8|   NULL|   NULL|https://fbref.com...|2000-2001|  1|Sat|2000-08-19|NULL| Leicester City|  0–0|    Aston Villa|     21455|   Filbert Street|      Mike Riley|         0|         0|         0|           D|                      NULL|                      NULL|\n",
      "|    9|   NULL|   NULL|https://fbref.com...|2000-2001|  1|Sun|2000-08-20|NULL| Manchester Utd|  2–0|  Newcastle Utd|     67477|     Old Trafford|   Stephen Lodge|         2|         0|         2|           W|                      NULL|                      NULL|\n",
      "|   10|   NULL|   NULL|https://fbref.com...|2000-2001|  2|Mon|2000-08-21|NULL|        Arsenal|  2–0|      Liverpool|     38014|         Highbury|     Graham Poll|         2|         0|         2|           W|                         0|                         3|\n",
      "|   11|   NULL|   NULL|https://fbref.com...|2000-2001|  2|Tue|2000-08-22|NULL|   Ipswich Town|  1–1| Manchester Utd|     22007|     Portman Road|     Jeff Winter|         1|         1|         0|           D|                         0|                         3|\n",
      "|   12|   NULL|   NULL|https://fbref.com...|2000-2001|  2|Tue|2000-08-22|NULL|  Bradford City|  2–0|        Chelsea|     17872|    Valley Parade|     Mark Halsey|         2|         0|         2|           W|                         0|                         3|\n",
      "|   13|   NULL|   NULL|https://fbref.com...|2000-2001|  2|Tue|2000-08-22|NULL|  Middlesbrough|  1–1|      Tottenham|     31254|Riverside Stadium|     Peter Jones|         1|         1|         0|           D|                         3|                         3|\n",
      "|   14|   NULL|   NULL|https://fbref.com...|2000-2001|  2|Wed|2000-08-23|NULL|    Southampton|  1–2|  Coventry City|     14801|         The Dell|     Paul Taylor|         1|         2|        -1|           L|                         1|                         0|\n",
      "|   15|   NULL|   NULL|https://fbref.com...|2000-2001|  2|Wed|2000-08-23|NULL|  Newcastle Utd|  3–2|   Derby County|     51327|  St. James' Park|Dermot Gallagher|         3|         2|         1|           W|                         0|                         1|\n",
      "|   16|   NULL|   NULL|https://fbref.com...|2000-2001|  2|Wed|2000-08-23|NULL|Manchester City|  4–2|     Sunderland|     34410|       Maine Road|   David Elleray|         4|         2|         2|           W|                         0|                         3|\n",
      "|   17|   NULL|   NULL|https://fbref.com...|2000-2001|  2|Wed|2000-08-23|NULL|       West Ham|  0–1| Leicester City|     25195|    Boleyn Ground|      Rob Styles|         0|         1|        -1|           L|                         0|                         1|\n",
      "|   18|   NULL|   NULL|https://fbref.com...|2000-2001|  2|Wed|2000-08-23|NULL|        Everton|  3–0|   Charlton Ath|     36300|    Goodison Park|     Neale Barry|         3|         0|         3|           W|                         0|                         3|\n",
      "|   19|   NULL|   NULL|https://fbref.com...|2000-2001|  3|Sat|2000-08-26|NULL|   Ipswich Town|  1–0|     Sunderland|     21830|     Portman Road|     Graham Poll|         1|         0|         1|           W|                         1|                         3|\n",
      "+-----+-------+-------+--------------------+---------+---+---+----------+----+---------------+-----+---------------+----------+-----------------+----------------+----------+----------+----------+------------+--------------------------+--------------------------+\n",
      "only showing top 20 rows\n",
      "\n"
     ]
    }
   ],
   "source": [
    "df.show(20)"
   ]
  },
  {
   "cell_type": "code",
   "execution_count": 41,
   "metadata": {},
   "outputs": [
    {
     "name": "stdout",
     "output_type": "stream",
     "text": [
      "+-----+-------+-------+--------------------+---------+---+---+----------+----+-------+-----+---------------+----------+--------+----------------+----------+----------+----------+------------+-----------+-----------+-------------------------------+\n",
      "|index|xG_Home|xG_Away|        Match Report|   Season| Wk|Day|      Date|Time|   Home|Score|           Away|Attendance|   Venue|         Referee|Home_score|Away_score|Score_diff|Match_result|Home_Points|Away_Points|Home_team_points_last_5_matches|\n",
      "+-----+-------+-------+--------------------+---------+---+---+----------+----+-------+-----+---------------+----------+--------+----------------+----------+----------+----------+------------+-----------+-----------+-------------------------------+\n",
      "|   10|   NULL|   NULL|https://fbref.com...|2000-2001|  2|Mon|2000-08-21|NULL|Arsenal|  2–0|      Liverpool|     38014|Highbury|     Graham Poll|         2|         0|         2|           W|          3|          3|                           NULL|\n",
      "|   23|   NULL|   NULL|https://fbref.com...|2000-2001|  3|Sat|2000-08-26|NULL|Arsenal|  5–3|   Charlton Ath|     38025|Highbury|   Stephen Lodge|         5|         3|         2|           W|          3|          3|                              3|\n",
      "|   53|   NULL|   NULL|https://fbref.com...|2000-2001|  6|Sat|2000-09-16|NULL|Arsenal|  2–1|  Coventry City|     37794|Highbury|       Mike Dean|         2|         1|         1|           W|          3|          3|                              6|\n",
      "|   76|   NULL|   NULL|https://fbref.com...|2000-2001|  8|Sun|2000-10-01|NULL|Arsenal|  1–0| Manchester Utd|     38146|Highbury|   Graham Barber|         1|         0|         1|           W|          3|          3|                              9|\n",
      "|   82|   NULL|   NULL|https://fbref.com...|2000-2001|  9|Sat|2000-10-14|NULL|Arsenal|  1–0|    Aston Villa|     38042|Highbury|      Rob Harris|         1|         0|         1|           W|          3|          3|                             12|\n",
      "|  105|   NULL|   NULL|https://fbref.com...|2000-2001| 11|Sat|2000-10-28|NULL|Arsenal|  5–0|Manchester City|     38049|Highbury|      Rob Styles|         5|         0|         5|           W|          3|          3|                             15|\n",
      "|  121|   NULL|   NULL|https://fbref.com...|2000-2001| 13|Sat|2000-11-11|NULL|Arsenal|  0–0|   Derby County|     37679|Highbury|   Stephen Lodge|         0|         0|         0|           D|          1|          1|                             15|\n",
      "|  151|   NULL|   NULL|https://fbref.com...|2000-2001| 16|Sat|2000-12-02|NULL|Arsenal|  1–0|    Southampton|     38036|Highbury|      Steve Dunn|         1|         0|         1|           W|          3|          3|                             13|\n",
      "|  164|   NULL|   NULL|https://fbref.com...|2000-2001| 17|Sat|2000-12-09|NULL|Arsenal|  5–0|  Newcastle Utd|     38052|Highbury|       Mike Dean|         5|         0|         5|           W|          3|          3|                             13|\n",
      "|  190|   NULL|   NULL|https://fbref.com...|2000-2001| 20|Tue|2000-12-26|NULL|Arsenal|  6–1| Leicester City|     38007|Highbury|Dermot Gallagher|         6|         1|         5|           W|          3|          3|                             13|\n",
      "|  203|   NULL|   NULL|https://fbref.com...|2000-2001| 21|Sat|2000-12-30|NULL|Arsenal|  2–2|     Sunderland|     38026|Highbury|   Graham Barber|         2|         2|         0|           D|          1|          1|                             13|\n",
      "|  220|   NULL|   NULL|https://fbref.com...|2000-2001| 23|Sat|2001-01-13|NULL|Arsenal|  1–1|        Chelsea|     38071|Highbury|   David Elleray|         1|         1|         0|           D|          1|          1|                             11|\n",
      "|  236|   NULL|   NULL|https://fbref.com...|2000-2001| 25|Tue|2001-01-30|NULL|Arsenal|  2–0|  Bradford City|     37318|Highbury|    Clive Wilkes|         2|         0|         2|           W|          3|          3|                             11|\n",
      "|  257|   NULL|   NULL|https://fbref.com...|2000-2001| 27|Sat|2001-02-10|NULL|Arsenal|  1–0|   Ipswich Town|     38011|Highbury|      Rob Harris|         1|         0|         1|           W|          3|          3|                             11|\n",
      "|  281|   NULL|   NULL|https://fbref.com...|2000-2001| 29|Sat|2001-03-03|NULL|Arsenal|  3–0|       West Ham|     38071|Highbury|      Mike Riley|         3|         0|         3|           W|          3|          3|                             11|\n",
      "|  296|   NULL|   NULL|https://fbref.com...|2000-2001| 31|Sat|2001-03-31|NULL|Arsenal|  2–0|      Tottenham|     38121|Highbury|     Paul Durkin|         2|         0|         2|           W|          3|          3|                             11|\n",
      "|  324|   NULL|   NULL|https://fbref.com...|2000-2001| 33|Sat|2001-04-14|NULL|Arsenal|  0–3|  Middlesbrough|     37879|Highbury|     Paul Durkin|         0|         3|        -3|           L|          0|          0|                             13|\n",
      "|  339|   NULL|   NULL|https://fbref.com...|2000-2001| 35|Sat|2001-04-21|NULL|Arsenal|  4–1|        Everton|     38029|Highbury|Dermot Gallagher|         4|         1|         3|           W|          3|          3|                             12|\n",
      "|  364|   NULL|   NULL|https://fbref.com...|2000-2001| 37|Sat|2001-05-05|NULL|Arsenal|  2–1|   Leeds United|     38142|Highbury|     Peter Jones|         2|         1|         1|           W|          3|          3|                             12|\n",
      "|  391|   NULL|   NULL|https://fbref.com...|2001-2002|  2|Tue|2001-08-21|NULL|Arsenal|  1–2|   Leeds United|     38062|Highbury|     Jeff Winter|         1|         2|        -1|           L|          0|          0|                             12|\n",
      "+-----+-------+-------+--------------------+---------+---+---+----------+----+-------+-----+---------------+----------+--------+----------------+----------+----------+----------+------------+-----------+-----------+-------------------------------+\n",
      "only showing top 20 rows\n",
      "\n"
     ]
    }
   ],
   "source": [
    "#Creating points columns\n",
    "df = df.withColumn(\"Home_Points\", when(col(\"Match_result\") == \"W\", 3).when(col(\"Match_result\") == \"D\", 1).otherwise(0))\n",
    "df = df.withColumn(\"Away_Points\", when(col(\"Match_result\") == \"W\", 3).when(col(\"Match_result\") == \"D\", 1).otherwise(0))\n",
    "\n",
    "home_window = Window.partitionBy(\"Home\").orderBy(\"Date\").rowsBetween(-5, -1)\n",
    "\n",
    "home_test = df.withColumn(\"Home_team_points_last_5_matches\", sum(\"Home_Points\").over(home_window))\n",
    "home_test.show()"
   ]
  },
  {
   "cell_type": "code",
   "execution_count": 32,
   "metadata": {},
   "outputs": [
    {
     "name": "stdout",
     "output_type": "stream",
     "text": [
      "root\n",
      " |-- index: string (nullable = true)\n",
      " |-- xG_Home: float (nullable = true)\n",
      " |-- xG_Away: float (nullable = true)\n",
      " |-- Match Report: string (nullable = true)\n",
      " |-- Season: string (nullable = true)\n",
      " |-- Wk: string (nullable = true)\n",
      " |-- Day: string (nullable = true)\n",
      " |-- Date: date (nullable = true)\n",
      " |-- Time: string (nullable = true)\n",
      " |-- Home: string (nullable = true)\n",
      " |-- Score: string (nullable = true)\n",
      " |-- Away: string (nullable = true)\n",
      " |-- Attendance: integer (nullable = true)\n",
      " |-- Venue: string (nullable = true)\n",
      " |-- Referee: string (nullable = true)\n",
      " |-- Home_score: integer (nullable = true)\n",
      " |-- Away_score: integer (nullable = true)\n",
      " |-- Score_diff: integer (nullable = true)\n",
      " |-- Match_result: string (nullable = false)\n",
      "\n"
     ]
    }
   ],
   "source": [
    "df.printSchema()"
   ]
  },
  {
   "cell_type": "code",
   "execution_count": 33,
   "metadata": {},
   "outputs": [
    {
     "name": "stdout",
     "output_type": "stream",
     "text": [
      "+-----+-------+-------+--------------------+---------+---+---+----------+----+---------------+-----+---------------+----------+-----------------+----------------+----------+----------+----------+------------+\n",
      "|index|xG_Home|xG_Away|        Match Report|   Season| Wk|Day|      Date|Time|           Home|Score|           Away|Attendance|            Venue|         Referee|Home_score|Away_score|Score_diff|Match_result|\n",
      "+-----+-------+-------+--------------------+---------+---+---+----------+----+---------------+-----+---------------+----------+-----------------+----------------+----------+----------+----------+------------+\n",
      "|    0|   NULL|   NULL|https://fbref.com...|2000-2001|  1|Sat|2000-08-19|NULL|   Leeds United|  2–0|        Everton|     40010|      Elland Road|Dermot Gallagher|         2|         0|         2|           W|\n",
      "|    1|   NULL|   NULL|https://fbref.com...|2000-2001|  1|Sat|2000-08-19|NULL|      Liverpool|  1–0|  Bradford City|     44183|          Anfield|     Paul Durkin|         1|         0|         1|           W|\n",
      "|    2|   NULL|   NULL|https://fbref.com...|2000-2001|  1|Sat|2000-08-19|NULL|        Chelsea|  4–2|       West Ham|     34914|  Stamford Bridge|   Graham Barber|         4|         2|         2|           W|\n",
      "|    3|   NULL|   NULL|https://fbref.com...|2000-2001|  1|Sat|2000-08-19|NULL|      Tottenham|  3–1|   Ipswich Town|     36148|  White Hart Lane|      Alan Wiley|         3|         1|         2|           W|\n",
      "|    4|   NULL|   NULL|https://fbref.com...|2000-2001|  1|Sat|2000-08-19|NULL|  Coventry City|  1–3|  Middlesbrough|     20624|   Highfield Road|    Barry Knight|         1|         3|        -2|           L|\n",
      "|    5|   NULL|   NULL|https://fbref.com...|2000-2001|  1|Sat|2000-08-19|NULL|   Derby County|  2–2|    Southampton|     27223|       Pride Park|     Andy D'Urso|         2|         2|         0|           D|\n",
      "|    6|   NULL|   NULL|https://fbref.com...|2000-2001|  1|Sat|2000-08-19|NULL|     Sunderland|  1–0|        Arsenal|     47121| Stadium of Light|      Steve Dunn|         1|         0|         1|           W|\n",
      "|    7|   NULL|   NULL|https://fbref.com...|2000-2001|  1|Sat|2000-08-19|NULL|   Charlton Ath|  4–0|Manchester City|     20043|       The Valley|      Rob Harris|         4|         0|         4|           W|\n",
      "|    8|   NULL|   NULL|https://fbref.com...|2000-2001|  1|Sat|2000-08-19|NULL| Leicester City|  0–0|    Aston Villa|     21455|   Filbert Street|      Mike Riley|         0|         0|         0|           D|\n",
      "|    9|   NULL|   NULL|https://fbref.com...|2000-2001|  1|Sun|2000-08-20|NULL| Manchester Utd|  2–0|  Newcastle Utd|     67477|     Old Trafford|   Stephen Lodge|         2|         0|         2|           W|\n",
      "|   10|   NULL|   NULL|https://fbref.com...|2000-2001|  2|Mon|2000-08-21|NULL|        Arsenal|  2–0|      Liverpool|     38014|         Highbury|     Graham Poll|         2|         0|         2|           W|\n",
      "|   11|   NULL|   NULL|https://fbref.com...|2000-2001|  2|Tue|2000-08-22|NULL|   Ipswich Town|  1–1| Manchester Utd|     22007|     Portman Road|     Jeff Winter|         1|         1|         0|           D|\n",
      "|   12|   NULL|   NULL|https://fbref.com...|2000-2001|  2|Tue|2000-08-22|NULL|  Bradford City|  2–0|        Chelsea|     17872|    Valley Parade|     Mark Halsey|         2|         0|         2|           W|\n",
      "|   13|   NULL|   NULL|https://fbref.com...|2000-2001|  2|Tue|2000-08-22|NULL|  Middlesbrough|  1–1|      Tottenham|     31254|Riverside Stadium|     Peter Jones|         1|         1|         0|           D|\n",
      "|   14|   NULL|   NULL|https://fbref.com...|2000-2001|  2|Wed|2000-08-23|NULL|    Southampton|  1–2|  Coventry City|     14801|         The Dell|     Paul Taylor|         1|         2|        -1|           L|\n",
      "|   15|   NULL|   NULL|https://fbref.com...|2000-2001|  2|Wed|2000-08-23|NULL|  Newcastle Utd|  3–2|   Derby County|     51327|  St. James' Park|Dermot Gallagher|         3|         2|         1|           W|\n",
      "|   16|   NULL|   NULL|https://fbref.com...|2000-2001|  2|Wed|2000-08-23|NULL|Manchester City|  4–2|     Sunderland|     34410|       Maine Road|   David Elleray|         4|         2|         2|           W|\n",
      "|   17|   NULL|   NULL|https://fbref.com...|2000-2001|  2|Wed|2000-08-23|NULL|       West Ham|  0–1| Leicester City|     25195|    Boleyn Ground|      Rob Styles|         0|         1|        -1|           L|\n",
      "|   18|   NULL|   NULL|https://fbref.com...|2000-2001|  2|Wed|2000-08-23|NULL|        Everton|  3–0|   Charlton Ath|     36300|    Goodison Park|     Neale Barry|         3|         0|         3|           W|\n",
      "|   19|   NULL|   NULL|https://fbref.com...|2000-2001|  3|Sat|2000-08-26|NULL|   Ipswich Town|  1–0|     Sunderland|     21830|     Portman Road|     Graham Poll|         1|         0|         1|           W|\n",
      "+-----+-------+-------+--------------------+---------+---+---+----------+----+---------------+-----+---------------+----------+-----------------+----------------+----------+----------+----------+------------+\n",
      "only showing top 20 rows\n",
      "\n"
     ]
    }
   ],
   "source": [
    "df.show()"
   ]
  },
  {
   "cell_type": "code",
   "execution_count": 34,
   "metadata": {},
   "outputs": [
    {
     "name": "stdout",
     "output_type": "stream",
     "text": [
      "+-----+-------+-------+------------+------+---+---+----+----+----+-----+----+----------+-----+-------+----------+----------+----------+------------+\n",
      "|index|xG_Home|xG_Away|Match Report|Season| Wk|Day|Date|Time|Home|Score|Away|Attendance|Venue|Referee|Home_score|Away_score|Score_diff|Match_result|\n",
      "+-----+-------+-------+------------+------+---+---+----+----+----+-----+----+----------+-----+-------+----------+----------+----------+------------+\n",
      "+-----+-------+-------+------------+------+---+---+----+----+----+-----+----+----------+-----+-------+----------+----------+----------+------------+\n",
      "\n"
     ]
    }
   ],
   "source": [
    "df.filter(col(\"Notes\").isNotNull()).show()"
   ]
  },
  {
   "cell_type": "code",
   "execution_count": null,
   "metadata": {},
   "outputs": [],
   "source": []
  }
 ],
 "metadata": {
  "kernelspec": {
   "display_name": "Python 3",
   "language": "python",
   "name": "python3"
  },
  "language_info": {
   "codemirror_mode": {
    "name": "ipython",
    "version": 3
   },
   "file_extension": ".py",
   "mimetype": "text/x-python",
   "name": "python",
   "nbconvert_exporter": "python",
   "pygments_lexer": "ipython3",
   "version": "3.12.3"
  }
 },
 "nbformat": 4,
 "nbformat_minor": 2
}
