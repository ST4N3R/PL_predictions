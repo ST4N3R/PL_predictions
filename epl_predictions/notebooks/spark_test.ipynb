{
 "cells": [
  {
   "cell_type": "code",
   "execution_count": 218,
   "metadata": {},
   "outputs": [],
   "source": [
    "from pyspark.sql import SparkSession, Window\n",
    "from pyspark.sql.functions import to_date, col, split, regexp_replace, when, count, sum, concat_ws, least, greatest, lag, collect_list, array_join"
   ]
  },
  {
   "cell_type": "code",
   "execution_count": 219,
   "metadata": {},
   "outputs": [],
   "source": [
    "spark = SparkSession.builder.appName(\"epl\").getOrCreate()"
   ]
  },
  {
   "cell_type": "code",
   "execution_count": 220,
   "metadata": {},
   "outputs": [
    {
     "data": {
      "text/html": [
       "\n",
       "            <div>\n",
       "                <p><b>SparkSession - in-memory</b></p>\n",
       "                \n",
       "        <div>\n",
       "            <p><b>SparkContext</b></p>\n",
       "\n",
       "            <p><a href=\"http://192.168.1.110:4040\">Spark UI</a></p>\n",
       "\n",
       "            <dl>\n",
       "              <dt>Version</dt>\n",
       "                <dd><code>v3.5.3</code></dd>\n",
       "              <dt>Master</dt>\n",
       "                <dd><code>local[*]</code></dd>\n",
       "              <dt>AppName</dt>\n",
       "                <dd><code>epl</code></dd>\n",
       "            </dl>\n",
       "        </div>\n",
       "        \n",
       "            </div>\n",
       "        "
      ],
      "text/plain": [
       "<pyspark.sql.session.SparkSession at 0x21e52353aa0>"
      ]
     },
     "execution_count": 220,
     "metadata": {},
     "output_type": "execute_result"
    }
   ],
   "source": [
    "spark"
   ]
  },
  {
   "cell_type": "markdown",
   "metadata": {},
   "source": [
    "### Code for Results"
   ]
  },
  {
   "cell_type": "code",
   "execution_count": 221,
   "metadata": {},
   "outputs": [],
   "source": [
    "resutls_path = r\"C:\\Users\\Stanisław\\Desktop\\Programowanie\\GitHub\\PL_predictions\\epl_predictions\\data\\raw\\results.csv\"\n",
    "\n",
    "df = spark.read.option(\"header\", True).csv(resutls_path)"
   ]
  },
  {
   "cell_type": "code",
   "execution_count": 222,
   "metadata": {},
   "outputs": [
    {
     "name": "stdout",
     "output_type": "stream",
     "text": [
      "+-----+---+---+----------+----+-------------+-----+---------------+----------+---------------+------------+--------------------+-----+-------+-------+---------+\n",
      "|index| Wk|Day|      Date|Time|         Home|Score|           Away|Attendance|          Venue|     Referee|        Match Report|Notes|xG_Home|xG_Away|   Season|\n",
      "+-----+---+---+----------+----+-------------+-----+---------------+----------+---------------+------------+--------------------+-----+-------+-------+---------+\n",
      "|    0|  1|Sat|1995-08-19|NULL|  Southampton|  3–4|Nott'ham Forest|    15,164|       The Dell|Gary Willard|https://fbref.com...| NULL|   NULL|   NULL|1995-1996|\n",
      "|    1|  1|Sat|1995-08-19|NULL|Newcastle Utd|  3–0|  Coventry City|    36,485|St. James' Park|Roger Dilkes|https://fbref.com...| NULL|   NULL|   NULL|1995-1996|\n",
      "|    2|  1|Sat|1995-08-19|NULL|    Wimbledon|  3–2|         Bolton|     9,317|  Selhurst Park|Keith Cooper|https://fbref.com...| NULL|   NULL|   NULL|1995-1996|\n",
      "|    3|  1|Sat|1995-08-19|NULL|    Liverpool|  1–0| Sheffield Weds|    40,535|        Anfield| Paul Durkin|https://fbref.com...| NULL|   NULL|   NULL|1995-1996|\n",
      "|    4|  1|Sat|1995-08-19|NULL|     West Ham|  1–2|   Leeds United|    22,901|  Boleyn Ground| Keith Burge|https://fbref.com...| NULL|   NULL|   NULL|1995-1996|\n",
      "+-----+---+---+----------+----+-------------+-----+---------------+----------+---------------+------------+--------------------+-----+-------+-------+---------+\n",
      "only showing top 5 rows\n",
      "\n"
     ]
    }
   ],
   "source": [
    "df.show(5)"
   ]
  },
  {
   "cell_type": "code",
   "execution_count": 223,
   "metadata": {},
   "outputs": [],
   "source": [
    "df = df.withColumn(\"index\", col(\"index\").cast(\"integer\"))"
   ]
  },
  {
   "cell_type": "markdown",
   "metadata": {},
   "source": [
    "Casting Data column to right format"
   ]
  },
  {
   "cell_type": "code",
   "execution_count": 224,
   "metadata": {},
   "outputs": [],
   "source": [
    "df = df.withColumn(\"Date\", to_date(col(\"Date\"), \"yyyy-MM-dd\"))"
   ]
  },
  {
   "cell_type": "markdown",
   "metadata": {},
   "source": [
    "Creating Home_score and Away_score columns"
   ]
  },
  {
   "cell_type": "code",
   "execution_count": 225,
   "metadata": {},
   "outputs": [],
   "source": [
    "df = df.withColumn(\"Home_score\", split(col(\"Score\"), \"–\").getItem(0).cast(\"integer\"))\n",
    "df = df.withColumn(\"Away_score\", split(col(\"Score\"), \"–\").getItem(1).cast(\"integer\"))"
   ]
  },
  {
   "cell_type": "markdown",
   "metadata": {},
   "source": [
    "Changing type of xG columns to float"
   ]
  },
  {
   "cell_type": "code",
   "execution_count": 226,
   "metadata": {},
   "outputs": [],
   "source": [
    "df = df.withColumn(\"xG_Home\", col(\"xG_Home\").cast(\"float\"))\n",
    "df = df.withColumn(\"xG_Away\", col(\"xG_Away\").cast(\"float\"))"
   ]
  },
  {
   "cell_type": "markdown",
   "metadata": {},
   "source": [
    "Deleting Notes column"
   ]
  },
  {
   "cell_type": "code",
   "execution_count": 227,
   "metadata": {},
   "outputs": [],
   "source": [
    "df = df.drop(\"Notes\")"
   ]
  },
  {
   "cell_type": "markdown",
   "metadata": {},
   "source": [
    "Changing type of Attendance column to int"
   ]
  },
  {
   "cell_type": "code",
   "execution_count": 228,
   "metadata": {},
   "outputs": [],
   "source": [
    "df = df.withColumn(\"Attendance\", regexp_replace(col(\"Attendance\"), \",\", \"\").cast(\"integer\"))"
   ]
  },
  {
   "cell_type": "markdown",
   "metadata": {},
   "source": [
    "Creating column Match_result"
   ]
  },
  {
   "cell_type": "code",
   "execution_count": 229,
   "metadata": {},
   "outputs": [],
   "source": [
    "df = df.withColumn(\"Score_diff\", col(\"Home_score\") - col(\"Away_Score\"))\n",
    "\n",
    "result_condition = when(col(\"Score_diff\") > 0, \"W\").when(col(\"Score_diff\") == 0, \"D\").otherwise(\"L\")\n",
    "df = df.withColumn(\"Match_result\", result_condition)"
   ]
  },
  {
   "cell_type": "code",
   "execution_count": 230,
   "metadata": {},
   "outputs": [
    {
     "name": "stdout",
     "output_type": "stream",
     "text": [
      "+-----+---+---+----------+----+-------------+-----+---------------+----------+---------------+------------+--------------------+-------+-------+---------+----------+----------+----------+------------+\n",
      "|index| Wk|Day|      Date|Time|         Home|Score|           Away|Attendance|          Venue|     Referee|        Match Report|xG_Home|xG_Away|   Season|Home_score|Away_score|Score_diff|Match_result|\n",
      "+-----+---+---+----------+----+-------------+-----+---------------+----------+---------------+------------+--------------------+-------+-------+---------+----------+----------+----------+------------+\n",
      "|    0|  1|Sat|1995-08-19|NULL|  Southampton|  3–4|Nott'ham Forest|     15164|       The Dell|Gary Willard|https://fbref.com...|   NULL|   NULL|1995-1996|         3|         4|        -1|           L|\n",
      "|    1|  1|Sat|1995-08-19|NULL|Newcastle Utd|  3–0|  Coventry City|     36485|St. James' Park|Roger Dilkes|https://fbref.com...|   NULL|   NULL|1995-1996|         3|         0|         3|           W|\n",
      "|    2|  1|Sat|1995-08-19|NULL|    Wimbledon|  3–2|         Bolton|      9317|  Selhurst Park|Keith Cooper|https://fbref.com...|   NULL|   NULL|1995-1996|         3|         2|         1|           W|\n",
      "|    3|  1|Sat|1995-08-19|NULL|    Liverpool|  1–0| Sheffield Weds|     40535|        Anfield| Paul Durkin|https://fbref.com...|   NULL|   NULL|1995-1996|         1|         0|         1|           W|\n",
      "|    4|  1|Sat|1995-08-19|NULL|     West Ham|  1–2|   Leeds United|     22901|  Boleyn Ground| Keith Burge|https://fbref.com...|   NULL|   NULL|1995-1996|         1|         2|        -1|           L|\n",
      "+-----+---+---+----------+----+-------------+-----+---------------+----------+---------------+------------+--------------------+-------+-------+---------+----------+----------+----------+------------+\n",
      "only showing top 5 rows\n",
      "\n"
     ]
    }
   ],
   "source": [
    "df.show(5)"
   ]
  },
  {
   "cell_type": "markdown",
   "metadata": {},
   "source": [
    "Creating column points_last_5_matches for home and away team"
   ]
  },
  {
   "cell_type": "code",
   "execution_count": 231,
   "metadata": {},
   "outputs": [],
   "source": [
    "#Creating two df where the main team is home team or away team\n",
    "home_df = df.select(col(\"Date\"), col(\"Home\").alias(\"Team\"), col(\"Away\").alias(\"Opponent\"), col(\"Match_result\").alias(\"Result\"))\n",
    "away_df = df.select(col(\"Date\"), col(\"Away\").alias(\"Team\"), col(\"Home\").alias(\"Opponent\"), when(col(\"Match_result\") == \"W\", \"L\").when(col(\"Match_result\") == \"L\", \"W\").otherwise(\"D\").alias(\"Result\"))"
   ]
  },
  {
   "cell_type": "code",
   "execution_count": 232,
   "metadata": {},
   "outputs": [],
   "source": [
    "#Combining two df. Now we have with double the rows, beacuase we split the home and away team, to new rows\n",
    "combined_df = home_df.union(away_df)\n",
    "combined_df = combined_df.withColumn(\"Points\", when(col(\"Result\") == \"W\", 3).when(col(\"Result\") == \"L\", 0).otherwise(1))"
   ]
  },
  {
   "cell_type": "code",
   "execution_count": 233,
   "metadata": {},
   "outputs": [],
   "source": [
    "match_count_window = Window.partitionBy(\"Team\").orderBy(\"Date\").rowsBetween(Window.unboundedPreceding, -1)\n",
    "\n",
    "combined_df = combined_df.withColumn(\"Match_count\", count(\"Points\").over(match_count_window))"
   ]
  },
  {
   "cell_type": "code",
   "execution_count": 234,
   "metadata": {},
   "outputs": [],
   "source": [
    "# match_count_window = Window.partitionBy(\"Team\").orderBy(\"Date\").rowsBetween(-5, -1)\n",
    "\n",
    "# combined_df = combined_df.withColumn(\"Match_count\", collect_list(\"Result\").over(match_count_window)) \\\n",
    "#                             .withColumn(\"Match_count\", array_join(\"Match_count\", ''))"
   ]
  },
  {
   "cell_type": "code",
   "execution_count": 235,
   "metadata": {},
   "outputs": [],
   "source": [
    "#Sum of last 5 matches\n",
    "form_window = Window.partitionBy(\"Team\").orderBy(\"Date\").rowsBetween(-5, -1)\n",
    "\n",
    "combined_df = combined_df.withColumn(\"Form_last_5_matches\", collect_list(\"Result\").over(form_window)) \\\n",
    "                        .withColumn(\"Form_last_5_matches\", when(col(\"Match_count\") >= 5, array_join(\"Form_last_5_matches\", '')).otherwise(None))"
   ]
  },
  {
   "cell_type": "code",
   "execution_count": 236,
   "metadata": {},
   "outputs": [
    {
     "name": "stdout",
     "output_type": "stream",
     "text": [
      "+----------+-------+---------------+------+------+-----------+-------------------+\n",
      "|      Date|   Team|       Opponent|Result|Points|Match_count|Form_last_5_matches|\n",
      "+----------+-------+---------------+------+------+-----------+-------------------+\n",
      "|1995-08-20|Arsenal|  Middlesbrough|     D|     1|          0|               NULL|\n",
      "|1995-08-23|Arsenal|        Everton|     W|     3|          1|               NULL|\n",
      "|1995-08-26|Arsenal|  Coventry City|     D|     1|          2|               NULL|\n",
      "|1995-08-29|Arsenal|Nott'ham Forest|     D|     1|          3|               NULL|\n",
      "|1995-09-10|Arsenal|Manchester City|     W|     3|          4|               NULL|\n",
      "|1995-09-16|Arsenal|       West Ham|     W|     3|          5|              DWDDW|\n",
      "|1995-09-23|Arsenal|    Southampton|     W|     3|          6|              WDDWW|\n",
      "|1995-09-30|Arsenal|        Chelsea|     L|     0|          7|              DDWWW|\n",
      "|1995-10-14|Arsenal|   Leeds United|     W|     3|          8|              DWWWL|\n",
      "|1995-10-21|Arsenal|    Aston Villa|     W|     3|          9|              WWWLW|\n",
      "+----------+-------+---------------+------+------+-----------+-------------------+\n",
      "only showing top 10 rows\n",
      "\n"
     ]
    }
   ],
   "source": [
    "combined_df.show(10)"
   ]
  },
  {
   "cell_type": "code",
   "execution_count": 237,
   "metadata": {},
   "outputs": [],
   "source": [
    "#This line of code fix te issue with naming of columns and adding the same columns with join\n",
    "combined_df_prepared = combined_df.select(\"Date\", \"Team\", \"Form_last_5_matches\").withColumnRenamed(\"Date\", \"Date_combined\")"
   ]
  },
  {
   "cell_type": "code",
   "execution_count": 238,
   "metadata": {},
   "outputs": [],
   "source": [
    "#Adding form column for the home team, to original df\n",
    "df= df.join(combined_df_prepared, (df[\"Date\"] == combined_df_prepared[\"Date_combined\"]) & (df[\"Home\"] == combined_df_prepared[\"Team\"]), \"left\") \\\n",
    "       .withColumnRenamed(\"Form_last_5_matches\", \"Home_form_last_5_matches\") \\\n",
    "       .drop(\"Date_combined\", \"Team\")"
   ]
  },
  {
   "cell_type": "code",
   "execution_count": 239,
   "metadata": {},
   "outputs": [],
   "source": [
    "#Adding form column for the away team, to original df\n",
    "df = df.join(combined_df_prepared, (df[\"Date\"] == combined_df_prepared[\"Date_combined\"]) & (df[\"Away\"] == combined_df_prepared[\"Team\"]), \"left\") \\\n",
    "       .withColumnRenamed(\"Form_last_5_matches\", \"Away_form_last_5_matches\") \\\n",
    "       .drop(\"Date_combined\", \"Team\")"
   ]
  },
  {
   "cell_type": "code",
   "execution_count": 240,
   "metadata": {},
   "outputs": [],
   "source": [
    "df = df.orderBy(\"Date\")"
   ]
  },
  {
   "cell_type": "code",
   "execution_count": 241,
   "metadata": {},
   "outputs": [
    {
     "name": "stdout",
     "output_type": "stream",
     "text": [
      "+-----+---+---+----------+----+---------------+-----+---------------+----------+-----------------+----------------+--------------------+-------+-------+---------+----------+----------+----------+------------+------------------------+------------------------+\n",
      "|index| Wk|Day|      Date|Time|           Home|Score|           Away|Attendance|            Venue|         Referee|        Match Report|xG_Home|xG_Away|   Season|Home_score|Away_score|Score_diff|Match_result|Home_form_last_5_matches|Away_form_last_5_matches|\n",
      "+-----+---+---+----------+----+---------------+-----+---------------+----------+-----------------+----------------+--------------------+-------+-------+---------+----------+----------+----------+------------+------------------------+------------------------+\n",
      "|    0|  1|Sat|1995-08-19|NULL|    Southampton|  3–4|Nott'ham Forest|     15164|         The Dell|    Gary Willard|https://fbref.com...|   NULL|   NULL|1995-1996|         3|         4|        -1|           L|                    NULL|                    NULL|\n",
      "|    1|  1|Sat|1995-08-19|NULL|  Newcastle Utd|  3–0|  Coventry City|     36485|  St. James' Park|    Roger Dilkes|https://fbref.com...|   NULL|   NULL|1995-1996|         3|         0|         3|           W|                    NULL|                    NULL|\n",
      "|    2|  1|Sat|1995-08-19|NULL|      Wimbledon|  3–2|         Bolton|      9317|    Selhurst Park|    Keith Cooper|https://fbref.com...|   NULL|   NULL|1995-1996|         3|         2|         1|           W|                    NULL|                    NULL|\n",
      "|    3|  1|Sat|1995-08-19|NULL|      Liverpool|  1–0| Sheffield Weds|     40535|          Anfield|     Paul Durkin|https://fbref.com...|   NULL|   NULL|1995-1996|         1|         0|         1|           W|                    NULL|                    NULL|\n",
      "|    4|  1|Sat|1995-08-19|NULL|       West Ham|  1–2|   Leeds United|     22901|    Boleyn Ground|     Keith Burge|https://fbref.com...|   NULL|   NULL|1995-1996|         1|         2|        -1|           L|                    NULL|                    NULL|\n",
      "|    5|  1|Sat|1995-08-19|NULL|      Blackburn|  1–0|            QPR|     22860|       Ewood Park|     Alan Wilkie|https://fbref.com...|   NULL|   NULL|1995-1996|         1|         0|         1|           W|                    NULL|                    NULL|\n",
      "|    6|  1|Sat|1995-08-19|NULL|    Aston Villa|  3–1| Manchester Utd|     34655|       Villa Park|     Robbie Hart|https://fbref.com...|   NULL|   NULL|1995-1996|         3|         1|         2|           W|                    NULL|                    NULL|\n",
      "|    7|  1|Sat|1995-08-19|NULL|Manchester City|  1–1|      Tottenham|     30827|       Maine Road|     Graham Poll|https://fbref.com...|   NULL|   NULL|1995-1996|         1|         1|         0|           D|                    NULL|                    NULL|\n",
      "|    8|  1|Sat|1995-08-19|NULL|        Chelsea|  0–0|        Everton|     29858|  Stamford Bridge|       Mike Reed|https://fbref.com...|   NULL|   NULL|1995-1996|         0|         0|         0|           D|                    NULL|                    NULL|\n",
      "|    9|  1|Sun|1995-08-20|NULL|        Arsenal|  1–1|  Middlesbrough|     37308|         Highbury|    Gerald Ashby|https://fbref.com...|   NULL|   NULL|1995-1996|         1|         1|         0|           D|                    NULL|                    NULL|\n",
      "|   10|  2|Mon|1995-08-21|NULL|   Leeds United|  1–0|      Liverpool|     35852|      Elland Road|   David Elleray|https://fbref.com...|   NULL|   NULL|1995-1996|         1|         0|         1|           W|                    NULL|                    NULL|\n",
      "|   11|  2|Tue|1995-08-22|NULL|         Bolton|  1–3|  Newcastle Utd|     20253|     Burnden Park|     Keith Burge|https://fbref.com...|   NULL|   NULL|1995-1996|         1|         3|        -2|           L|                    NULL|                    NULL|\n",
      "|   12|  2|Wed|1995-08-23|NULL|      Tottenham|  0–1|    Aston Villa|     26726|  White Hart Lane|      Steve Dunn|https://fbref.com...|   NULL|   NULL|1995-1996|         0|         1|        -1|           L|                    NULL|                    NULL|\n",
      "|   13|  2|Wed|1995-08-23|NULL|Nott'ham Forest|  0–0|        Chelsea|     27007|      City Ground|     Jeff Winter|https://fbref.com...|   NULL|   NULL|1995-1996|         0|         0|         0|           D|                    NULL|                    NULL|\n",
      "|   14|  2|Wed|1995-08-23|NULL|            QPR|  0–3|      Wimbledon|     11837|      Loftus Road|     Graham Poll|https://fbref.com...|   NULL|   NULL|1995-1996|         0|         3|        -3|           L|                    NULL|                    NULL|\n",
      "|   15|  2|Wed|1995-08-23|NULL| Sheffield Weds|  2–1|      Blackburn|     25544|     Hillsborough|     Paul Danson|https://fbref.com...|   NULL|   NULL|1995-1996|         2|         1|         1|           W|                    NULL|                    NULL|\n",
      "|   16|  2|Wed|1995-08-23|NULL| Manchester Utd|  2–1|       West Ham|     31966|     Old Trafford|Dermot Gallagher|https://fbref.com...|   NULL|   NULL|1995-1996|         2|         1|         1|           W|                    NULL|                    NULL|\n",
      "|   17|  2|Wed|1995-08-23|NULL|  Coventry City|  2–1|Manchester City|     15957|   Highfield Road|     Paul Alcock|https://fbref.com...|   NULL|   NULL|1995-1996|         2|         1|         1|           W|                    NULL|                    NULL|\n",
      "|   18|  2|Wed|1995-08-23|NULL|        Everton|  0–2|        Arsenal|     35775|    Goodison Park|     Keith Burge|https://fbref.com...|   NULL|   NULL|1995-1996|         0|         2|        -2|           L|                    NULL|                    NULL|\n",
      "|   19|  3|Sat|1995-08-26|NULL|      Tottenham|  1–3|      Liverpool|     31254|  White Hart Lane|    Keith Cooper|https://fbref.com...|   NULL|   NULL|1995-1996|         1|         3|        -2|           L|                    NULL|                    NULL|\n",
      "|   20|  3|Sat|1995-08-26|NULL| Manchester Utd|  3–1|      Wimbledon|     32226|     Old Trafford|     Paul Durkin|https://fbref.com...|   NULL|   NULL|1995-1996|         3|         1|         2|           W|                    NULL|                    NULL|\n",
      "|   21|  3|Sat|1995-08-26|NULL|  Coventry City|  0–0|        Arsenal|     20065|   Highfield Road|      Steve Dunn|https://fbref.com...|   NULL|   NULL|1995-1996|         0|         0|         0|           D|                    NULL|                    NULL|\n",
      "|   22|  3|Sat|1995-08-26|NULL|  Middlesbrough|  2–0|        Chelsea|     28286|Riverside Stadium|   Stephen Lodge|https://fbref.com...|   NULL|   NULL|1995-1996|         2|         0|         2|           W|                    NULL|                    NULL|\n",
      "|   23|  3|Sat|1995-08-26|NULL|        Everton|  2–0|    Southampton|     33668|    Goodison Park|     Jeff Winter|https://fbref.com...|   NULL|   NULL|1995-1996|         2|         0|         2|           W|                    NULL|                    NULL|\n",
      "|   24|  3|Sat|1995-08-26|NULL|         Bolton|  2–1|      Blackburn|     20253|     Burnden Park|     Keith Burge|https://fbref.com...|   NULL|   NULL|1995-1996|         2|         1|         1|           W|                    NULL|                    NULL|\n",
      "|   25|  3|Sat|1995-08-26|NULL|            QPR|  1–0|Manchester City|     14212|      Loftus Road|     Paul Danson|https://fbref.com...|   NULL|   NULL|1995-1996|         1|         0|         1|           W|                    NULL|                    NULL|\n",
      "|   26|  3|Sat|1995-08-26|NULL|Nott'ham Forest|  1–1|       West Ham|     26645|      City Ground|    Gerald Ashby|https://fbref.com...|   NULL|   NULL|1995-1996|         1|         1|         0|           D|                    NULL|                    NULL|\n",
      "|   27|  3|Sat|1995-08-26|NULL|   Leeds United|  2–0|    Aston Villa|     35086|      Elland Road|Dermot Gallagher|https://fbref.com...|   NULL|   NULL|1995-1996|         2|         0|         2|           W|                    NULL|                    NULL|\n",
      "|   28|  3|Sun|1995-08-27|NULL| Sheffield Weds|  0–2|  Newcastle Utd|     24815|     Hillsborough|     Paul Alcock|https://fbref.com...|   NULL|   NULL|1995-1996|         0|         2|        -2|           L|                    NULL|                    NULL|\n",
      "|   29|  4|Mon|1995-08-28|NULL|      Blackburn|  1–2| Manchester Utd|     29843|       Ewood Park|   David Elleray|https://fbref.com...|   NULL|   NULL|1995-1996|         1|         2|        -1|           L|                    NULL|                    NULL|\n",
      "|   30|  4|Tue|1995-08-29|NULL|        Arsenal|  1–1|Nott'ham Forest|     38248|         Highbury|    Roger Dilkes|https://fbref.com...|   NULL|   NULL|1995-1996|         1|         1|         0|           D|                    NULL|                    NULL|\n",
      "|   31|  4|Wed|1995-08-30|NULL|  Newcastle Utd|  1–0|  Middlesbrough|     36483|  St. James' Park|     Robbie Hart|https://fbref.com...|   NULL|   NULL|1995-1996|         1|         0|         1|           W|                    NULL|                    NULL|\n",
      "|   32|  4|Wed|1995-08-30|NULL|    Southampton|  1–1|   Leeds United|     15212|         The Dell|    Keith Cooper|https://fbref.com...|   NULL|   NULL|1995-1996|         1|         1|         0|           D|                    NULL|                    NULL|\n",
      "|   33|  4|Wed|1995-08-30|NULL|        Chelsea|  2–2|  Coventry City|     24398|  Stamford Bridge|    Gary Willard|https://fbref.com...|   NULL|   NULL|1995-1996|         2|         2|         0|           D|                    NULL|                    NULL|\n",
      "|   34|  4|Wed|1995-08-30|NULL|       West Ham|  1–1|      Tottenham|     23516|    Boleyn Ground|       Mike Reed|https://fbref.com...|   NULL|   NULL|1995-1996|         1|         1|         0|           D|                    NULL|                    NULL|\n",
      "|   35|  4|Wed|1995-08-30|NULL|Manchester City|  0–2|        Everton|     28432|       Maine Road|   Stephen Lodge|https://fbref.com...|   NULL|   NULL|1995-1996|         0|         2|        -2|           L|                    NULL|                    NULL|\n",
      "|   36|  4|Wed|1995-08-30|NULL|    Aston Villa|  1–0|         Bolton|     31770|       Villa Park|     Peter Jones|https://fbref.com...|   NULL|   NULL|1995-1996|         1|         0|         1|           W|                    NULL|                    NULL|\n",
      "|   37|  4|Wed|1995-08-30|NULL|      Liverpool|  1–0|            QPR|     37548|          Anfield|      Steve Dunn|https://fbref.com...|   NULL|   NULL|1995-1996|         1|         0|         1|           W|                    NULL|                    NULL|\n",
      "|   38|  4|Wed|1995-08-30|NULL|      Wimbledon|  2–2| Sheffield Weds|      6352|    Selhurst Park|     Alan Wilkie|https://fbref.com...|   NULL|   NULL|1995-1996|         2|         2|         0|           D|                    NULL|                    NULL|\n",
      "|   39|  5|Sat|1995-09-09|NULL|      Wimbledon|  1–0|      Liverpool|     19530|    Selhurst Park|     Keith Burge|https://fbref.com...|   NULL|   NULL|1995-1996|         1|         0|         1|           W|                    NULL|                    NULL|\n",
      "|   40|  5|Sat|1995-09-09|NULL|    Southampton|  1–0|  Newcastle Utd|     15237|         The Dell|    Gerald Ashby|https://fbref.com...|   NULL|   NULL|1995-1996|         1|         0|         1|           W|                    NULL|                    NULL|\n",
      "|   41|  5|Sat|1995-09-09|NULL|        Everton|  2–3| Manchester Utd|     39496|    Goodison Park|     Graham Poll|https://fbref.com...|   NULL|   NULL|1995-1996|         2|         3|        -1|           L|                    NULL|                    NULL|\n",
      "|   42|  5|Sat|1995-09-09|NULL|  Coventry City|  1–1|Nott'ham Forest|     17219|   Highfield Road|     Peter Jones|https://fbref.com...|   NULL|   NULL|1995-1996|         1|         1|         0|           D|                    NULL|                    NULL|\n",
      "|   43|  5|Sat|1995-09-09|NULL|         Bolton|  1–1|  Middlesbrough|     18376|     Burnden Park|     Paul Danson|https://fbref.com...|   NULL|   NULL|1995-1996|         1|         1|         0|           D|                    NULL|                    NULL|\n",
      "|   44|  5|Sat|1995-09-09|NULL|            QPR|  0–3| Sheffield Weds|     12459|      Loftus Road|       Mike Reed|https://fbref.com...|   NULL|   NULL|1995-1996|         0|         3|        -3|           L|                    NULL|                    NULL|\n",
      "|   45|  5|Sat|1995-09-09|NULL|      Tottenham|  2–1|   Leeds United|     30034|  White Hart Lane|     Paul Durkin|https://fbref.com...|   NULL|   NULL|1995-1996|         2|         1|         1|           W|                    NULL|                    NULL|\n",
      "|   46|  5|Sat|1995-09-09|NULL|      Blackburn|  1–1|    Aston Villa|     27084|       Ewood Park|    Roger Dilkes|https://fbref.com...|   NULL|   NULL|1995-1996|         1|         1|         0|           D|                    NULL|                    NULL|\n",
      "|   47|  5|Sun|1995-09-10|NULL|Manchester City|  0–1|        Arsenal|     23994|       Maine Road|Dermot Gallagher|https://fbref.com...|   NULL|   NULL|1995-1996|         0|         1|        -1|           L|                    NULL|                    NULL|\n",
      "|   48|  5|Mon|1995-09-11|NULL|       West Ham|  1–3|        Chelsea|     19228|    Boleyn Ground|     Robbie Hart|https://fbref.com...|   NULL|   NULL|1995-1996|         1|         3|        -2|           L|                    NULL|                    NULL|\n",
      "|   49|  2|Tue|1995-09-12|NULL|  Middlesbrough|  0–0|    Southampton|     29181|Riverside Stadium|     Peter Jones|https://fbref.com...|   NULL|   NULL|1995-1996|         0|         0|         0|           D|                    NULL|                    NULL|\n",
      "|   50|  6|Sat|1995-09-16|NULL| Sheffield Weds|  1–3|      Tottenham|     26565|     Hillsborough|Dermot Gallagher|https://fbref.com...|   NULL|   NULL|1995-1996|         1|         3|        -2|           L|                   LWLDW|                   DLLDW|\n",
      "|   51|  6|Sat|1995-09-16|NULL|        Chelsea|  3–0|    Southampton|     26237|  Stamford Bridge|     Paul Alcock|https://fbref.com...|   NULL|   NULL|1995-1996|         3|         0|         3|           W|                   DDLDW|                   LLDWD|\n",
      "|   52|  6|Sat|1995-09-16|NULL|      Liverpool|  3–0|      Blackburn|     39502|          Anfield|    Gary Willard|https://fbref.com...|   NULL|   NULL|1995-1996|         3|         0|         3|           W|                   WLWWL|                   WLLLD|\n",
      "|   53|  6|Sat|1995-09-16|NULL|   Leeds United|  1–3|            QPR|     31504|      Elland Road|   Stephen Lodge|https://fbref.com...|   NULL|   NULL|1995-1996|         1|         3|        -2|           L|                   WWWDL|                   LLWLL|\n",
      "|   54|  6|Sat|1995-09-16|NULL|    Aston Villa|  2–0|      Wimbledon|     29928|       Villa Park|   David Elleray|https://fbref.com...|   NULL|   NULL|1995-1996|         2|         0|         2|           W|                   WWLWD|                   WWLDW|\n",
      "|   55|  6|Sat|1995-09-16|NULL| Manchester Utd|  3–0|         Bolton|     32812|     Old Trafford|      Steve Dunn|https://fbref.com...|   NULL|   NULL|1995-1996|         3|         0|         3|           W|                   LWWWW|                   LLWLD|\n",
      "|   56|  6|Sat|1995-09-16|NULL|  Middlesbrough|  2–1|  Coventry City|     27882|Riverside Stadium|     Graham Poll|https://fbref.com...|   NULL|   NULL|1995-1996|         2|         1|         1|           W|                   DWLDD|                   LWDDD|\n",
      "|   57|  6|Sat|1995-09-16|NULL|        Arsenal|  1–0|       West Ham|     38065|         Highbury|     Alan Wilkie|https://fbref.com...|   NULL|   NULL|1995-1996|         1|         0|         1|           W|                   DWDDW|                   LLDDL|\n",
      "|   58|  6|Sat|1995-09-16|NULL|  Newcastle Utd|  3–1|Manchester City|     36501|  St. James' Park|     Jeff Winter|https://fbref.com...|   NULL|   NULL|1995-1996|         3|         1|         2|           W|                   WWWWL|                   DLLLL|\n",
      "|   59|  6|Sun|1995-09-17|NULL|Nott'ham Forest|  3–2|        Everton|     24786|      City Ground| Martin Bodenham|https://fbref.com...|   NULL|   NULL|1995-1996|         3|         2|         1|           W|                   WDDDD|                   DLWWL|\n",
      "|   60|  7|Sat|1995-09-23|NULL|Manchester City|  0–1|  Middlesbrough|     25865|       Maine Road|    Gary Willard|https://fbref.com...|   NULL|   NULL|1995-1996|         0|         1|        -1|           L|                   LLLLL|                   WLDDW|\n",
      "|   61|  7|Sat|1995-09-23|NULL| Sheffield Weds|  0–0| Manchester Utd|     34101|     Hillsborough|     Keith Burge|https://fbref.com...|   NULL|   NULL|1995-1996|         0|         0|         0|           D|                   WLDWL|                   WWWWW|\n",
      "|   62|  7|Sat|1995-09-23|NULL|       West Ham|  2–1|        Everton|     21085|    Boleyn Ground|     Paul Durkin|https://fbref.com...|   NULL|   NULL|1995-1996|         2|         1|         1|           W|                   LDDLL|                   LWWLL|\n",
      "|   63|  7|Sat|1995-09-23|NULL|      Blackburn|  5–1|  Coventry City|     24382|       Ewood Park|    Keith Cooper|https://fbref.com...|   NULL|   NULL|1995-1996|         5|         1|         4|           W|                   LLLDL|                   WDDDL|\n",
      "|   64|  7|Sat|1995-09-23|NULL|    Aston Villa|  1–1|Nott'ham Forest|     33972|       Villa Park|     Paul Danson|https://fbref.com...|   NULL|   NULL|1995-1996|         1|         1|         0|           D|                   WLWDW|                   DDDDW|\n",
      "|   65|  7|Sat|1995-09-23|NULL|      Liverpool|  5–2|         Bolton|     40104|          Anfield| Martin Bodenham|https://fbref.com...|   NULL|   NULL|1995-1996|         5|         2|         3|           W|                   LWWLW|                   LWLDL|\n",
      "|   66|  7|Sat|1995-09-23|NULL|      Wimbledon|  2–4|   Leeds United|     13307|    Selhurst Park|    Roger Dilkes|https://fbref.com...|   NULL|   NULL|1995-1996|         2|         4|        -2|           L|                   WLDWL|                   WWDLL|\n",
      "|   67|  7|Sat|1995-09-23|NULL|        Arsenal|  4–2|    Southampton|     38136|         Highbury|     Robbie Hart|https://fbref.com...|   NULL|   NULL|1995-1996|         4|         2|         2|           W|                   WDDWW|                   LDWDL|\n",
      "|   68|  7|Sun|1995-09-24|NULL|  Newcastle Utd|  2–0|        Chelsea|     36225|  St. James' Park|     Peter Jones|https://fbref.com...|   NULL|   NULL|1995-1996|         2|         0|         2|           W|                   WWWLW|                   DLDWW|\n",
      "|   69|  7|Mon|1995-09-25|NULL|            QPR|  2–3|      Tottenham|     15659|      Loftus Road|   David Elleray|https://fbref.com...|   NULL|   NULL|1995-1996|         2|         3|        -1|           L|                   LWLLW|                   LLDWW|\n",
      "|   70|  8|Sat|1995-09-30|NULL|Nott'ham Forest|  3–0|Manchester City|     25620|      City Ground|       Mike Reed|https://fbref.com...|   NULL|   NULL|1995-1996|         3|         0|         3|           W|                   DDDWD|                   LLLLL|\n",
      "|   71|  8|Sat|1995-09-30|NULL|         Bolton|  0–1|            QPR|     17362|     Burnden Park|     Jeff Winter|https://fbref.com...|   NULL|   NULL|1995-1996|         0|         1|        -1|           L|                   WLDLL|                   WLLWL|\n",
      "|   72|  8|Sat|1995-09-30|NULL|  Middlesbrough|  2–0|      Blackburn|     29462|Riverside Stadium|     Paul Alcock|https://fbref.com...|   NULL|   NULL|1995-1996|         2|         0|         2|           W|                   LDDWW|                   LLDLW|\n",
      "|   73|  8|Sat|1995-09-30|NULL|      Tottenham|  3–1|      Wimbledon|     25321|  White Hart Lane|    Gerald Ashby|https://fbref.com...|   NULL|   NULL|1995-1996|         3|         1|         2|           W|                   LDWWW|                   LDWLL|\n",
      "|   74|  8|Sat|1995-09-30|NULL|   Leeds United|  2–0| Sheffield Weds|     34076|      Elland Road|     Graham Poll|https://fbref.com...|   NULL|   NULL|1995-1996|         2|         0|         2|           W|                   WDLLW|                   LDWLD|\n",
      "|   75|  8|Sat|1995-09-30|NULL|        Chelsea|  1–0|        Arsenal|     31048|  Stamford Bridge| Martin Bodenham|https://fbref.com...|   NULL|   NULL|1995-1996|         1|         0|         1|           W|                   LDWWL|                   DDWWW|\n",
      "|   76|  8|Sat|1995-09-30|NULL|  Coventry City|  0–3|    Aston Villa|     20987|   Highfield Road|     Alan Wilkie|https://fbref.com...|   NULL|   NULL|1995-1996|         0|         3|        -3|           L|                   DDDLL|                   LWDWD|\n",
      "|   77|  8|Sun|1995-10-01|NULL|        Everton|  1–3|  Newcastle Utd|     33080|    Goodison Park|    Keith Cooper|https://fbref.com...|   NULL|   NULL|1995-1996|         1|         3|        -2|           L|                   WWLLL|                   WWLWW|\n",
      "|   78|  8|Sun|1995-10-01|NULL| Manchester Utd|  2–2|      Liverpool|     34934|     Old Trafford|   David Elleray|https://fbref.com...|   NULL|   NULL|1995-1996|         2|         2|         0|           D|                   WWWWD|                   WWLWW|\n",
      "|   79|  8|Mon|1995-10-02|NULL|    Southampton|  0–0|       West Ham|     13568|         The Dell|     Graham Poll|https://fbref.com...|   NULL|   NULL|1995-1996|         0|         0|         0|           D|                   DWDLL|                   DDLLW|\n",
      "|   80|  9|Sat|1995-10-14|NULL| Manchester Utd|  1–0|Manchester City|     35707|     Old Trafford|    Roger Dilkes|https://fbref.com...|   NULL|   NULL|1995-1996|         1|         0|         1|           W|                   WWWDD|                   LLLLL|\n",
      "|   81|  9|Sat|1995-10-14|NULL|    Aston Villa|  0–1|        Chelsea|     34922|       Villa Park|      Steve Dunn|https://fbref.com...|   NULL|   NULL|1995-1996|         0|         1|        -1|           L|                   WDWDW|                   DWWLW|\n",
      "|   82|  9|Sat|1995-10-14|NULL|            QPR|  2–3|  Newcastle Utd|     18254|      Loftus Road|     Paul Durkin|https://fbref.com...|   NULL|   NULL|1995-1996|         2|         3|        -1|           L|                   LLWLW|                   WLWWW|\n",
      "|   83|  9|Sat|1995-10-14|NULL|   Leeds United|  0–3|        Arsenal|     38552|      Elland Road|     Peter Jones|https://fbref.com...|   NULL|   NULL|1995-1996|         0|         3|        -3|           L|                   DLLWW|                   DWWWL|\n",
      "|   84|  9|Sat|1995-10-14|NULL|      Liverpool|  0–0|  Coventry City|     39079|          Anfield|     Paul Danson|https://fbref.com...|   NULL|   NULL|1995-1996|         0|         0|         0|           D|                   WLWWD|                   DDLLL|\n",
      "|   85|  9|Sat|1995-10-14|NULL|         Bolton|  1–1|        Everton|     20427|     Burnden Park|     Paul Alcock|https://fbref.com...|   NULL|   NULL|1995-1996|         1|         1|         0|           D|                   LDLLL|                   WLLLL|\n",
      "|   86|  9|Sat|1995-10-14|NULL|      Blackburn|  2–1|    Southampton|     26780|       Ewood Park|       Mike Reed|https://fbref.com...|   NULL|   NULL|1995-1996|         2|         1|         1|           W|                   LDLWL|                   WDLLD|\n",
      "|   87|  9|Sat|1995-10-14|NULL|      Tottenham|  0–1|Nott'ham Forest|     32876|  White Hart Lane|     Robbie Hart|https://fbref.com...|   NULL|   NULL|1995-1996|         0|         1|        -1|           L|                   DWWWW|                   DDWDW|\n",
      "|   88|  9|Sun|1995-10-15|NULL| Sheffield Weds|  0–1|  Middlesbrough|     21177|     Hillsborough|    Gerald Ashby|https://fbref.com...|   NULL|   NULL|1995-1996|         0|         1|        -1|           L|                   DWLDL|                   DDWWW|\n",
      "|   89|  9|Mon|1995-10-16|NULL|      Wimbledon|  0–1|       West Ham|      9411|    Selhurst Park|Dermot Gallagher|https://fbref.com...|   NULL|   NULL|1995-1996|         0|         1|        -1|           L|                   DWLLL|                   DLLWD|\n",
      "|   90| 10|Sat|1995-10-21|NULL|Manchester City|  0–0|   Leeds United|     26390|       Maine Road| Martin Bodenham|https://fbref.com...|   NULL|   NULL|1995-1996|         0|         0|         0|           D|                   LLLLL|                   LLWWL|\n",
      "|   91| 10|Sat|1995-10-21|NULL|  Newcastle Utd|  6–1|      Wimbledon|     36434|  St. James' Park|     Graham Poll|https://fbref.com...|   NULL|   NULL|1995-1996|         6|         1|         5|           W|                   LWWWW|                   WLLLL|\n",
      "|   92| 10|Sat|1995-10-21|NULL|  Coventry City|  0–1| Sheffield Weds|     13998|   Highfield Road|     Jeff Winter|https://fbref.com...|   NULL|   NULL|1995-1996|         0|         1|        -1|           L|                   DLLLD|                   WLDLL|\n",
      "|   93| 10|Sat|1995-10-21|NULL|        Arsenal|  2–0|    Aston Villa|     38271|         Highbury|     Robbie Hart|https://fbref.com...|   NULL|   NULL|1995-1996|         2|         0|         2|           W|                   WWWLW|                   DWDWL|\n",
      "|   94| 10|Sat|1995-10-21|NULL|        Chelsea|  1–4| Manchester Utd|     31019|  Stamford Bridge|     Alan Wilkie|https://fbref.com...|   NULL|   NULL|1995-1996|         1|         4|        -3|           L|                   WWLWW|                   WWDDW|\n",
      "|   95| 10|Sat|1995-10-21|NULL|  Middlesbrough|  1–0|            QPR|     29293|Riverside Stadium|       Mike Reed|https://fbref.com...|   NULL|   NULL|1995-1996|         1|         0|         1|           W|                   DWWWW|                   LWLWL|\n",
      "|   96| 10|Sat|1995-10-21|NULL|       West Ham|  1–1|      Blackburn|     21776|    Boleyn Ground|   Stephen Lodge|https://fbref.com...|   NULL|   NULL|1995-1996|         1|         1|         0|           D|                   LLWDW|                   DLWLW|\n",
      "|   97| 10|Sat|1995-10-21|NULL|Nott'ham Forest|  3–2|         Bolton|     25426|      City Ground|   David Elleray|https://fbref.com...|   NULL|   NULL|1995-1996|         3|         2|         1|           W|                   DWDWW|                   DLLLD|\n",
      "|   98| 10|Sun|1995-10-22|NULL|        Everton|  1–1|      Tottenham|     33629|    Goodison Park|    Roger Dilkes|https://fbref.com...|   NULL|   NULL|1995-1996|         1|         1|         0|           D|                   LLLLD|                   WWWWL|\n",
      "|   99| 10|Sun|1995-10-22|NULL|    Southampton|  1–3|      Liverpool|     15245|         The Dell|Dermot Gallagher|https://fbref.com...|   NULL|   NULL|1995-1996|         1|         3|        -2|           L|                   DLLDL|                   LWWDD|\n",
      "|  100| 11|Sat|1995-10-28|NULL| Sheffield Weds|  0–1|       West Ham|     23917|     Hillsborough|    Keith Cooper|https://fbref.com...|   NULL|   NULL|1995-1996|         0|         1|        -1|           L|                   LDLLW|                   LWDWD|\n",
      "|  101| 11|Sat|1995-10-28|NULL|      Wimbledon|  1–2|    Southampton|      7982|    Selhurst Park|     Jeff Winter|https://fbref.com...|   NULL|   NULL|1995-1996|         1|         2|        -1|           L|                   LLLLL|                   LLDLL|\n",
      "|  102| 11|Sat|1995-10-28|NULL| Manchester Utd|  2–0|  Middlesbrough|     36580|     Old Trafford|   Stephen Lodge|https://fbref.com...|   NULL|   NULL|1995-1996|         2|         0|         2|           W|                   WDDWW|                   WWWWW|\n",
      "|  103| 11|Sat|1995-10-28|NULL|      Liverpool|  6–0|Manchester City|     39267|          Anfield|     Alan Wilkie|https://fbref.com...|   NULL|   NULL|1995-1996|         6|         0|         6|           W|                   WWDDW|                   LLLLD|\n",
      "|  104| 11|Sat|1995-10-28|NULL|   Leeds United|  3–1|  Coventry City|     30161|      Elland Road|    Gerald Ashby|https://fbref.com...|   NULL|   NULL|1995-1996|         3|         1|         2|           W|                   LWWLD|                   LLLDL|\n",
      "|  105| 11|Sat|1995-10-28|NULL|    Aston Villa|  1–0|        Everton|     32792|       Villa Park|     Keith Burge|https://fbref.com...|   NULL|   NULL|1995-1996|         1|         0|         1|           W|                   WDWLL|                   LLLDD|\n",
      "|  106| 11|Sat|1995-10-28|NULL|            QPR|  1–1|Nott'ham Forest|     17549|      Loftus Road|      Steve Dunn|https://fbref.com...|   NULL|   NULL|1995-1996|         1|         1|         0|           D|                   WLWLL|                   WDWWW|\n",
      "|  107| 11|Sat|1995-10-28|NULL|      Blackburn|  3–0|        Chelsea|     27733|       Ewood Park|     Paul Durkin|https://fbref.com...|   NULL|   NULL|1995-1996|         3|         0|         3|           W|                   LWLWD|                   WLWWL|\n",
      "|  108| 11|Sun|1995-10-29|NULL|      Tottenham|  1–1|  Newcastle Utd|     32279|  White Hart Lane| Martin Bodenham|https://fbref.com...|   NULL|   NULL|1995-1996|         1|         1|         0|           D|                   WWWLD|                   WWWWW|\n",
      "|  109| 11|Mon|1995-10-30|NULL|         Bolton|  1–0|        Arsenal|     18682|     Burnden Park|    Keith Cooper|https://fbref.com...|   NULL|   NULL|1995-1996|         1|         0|         1|           W|                   LLLDL|                   WWLWW|\n",
      "|  110| 12|Sat|1995-11-04|NULL|    Southampton|  2–0|            QPR|     15137|         The Dell|    Roger Dilkes|https://fbref.com...|   NULL|   NULL|1995-1996|         2|         0|         2|           W|                   LDLLW|                   LWLLD|\n",
      "|  111| 12|Sat|1995-11-04|NULL|        Chelsea|  0–0| Sheffield Weds|     23216|  Stamford Bridge|     Paul Danson|https://fbref.com...|   NULL|   NULL|1995-1996|         0|         0|         0|           D|                   LWWLL|                   DLLWL|\n",
      "|  112| 12|Sat|1995-11-04|NULL|  Newcastle Utd|  2–1|      Liverpool|     36547|  St. James' Park|       Mike Reed|https://fbref.com...|   NULL|   NULL|1995-1996|         2|         1|         1|           W|                   WWWWD|                   WDDWW|\n",
      "|  113| 12|Sat|1995-11-04|NULL|  Middlesbrough|  1–1|   Leeds United|     29467|Riverside Stadium|     Keith Burge|https://fbref.com...|   NULL|   NULL|1995-1996|         1|         1|         0|           D|                   WWWWL|                   WWLDW|\n",
      "|  114| 12|Sat|1995-11-04|NULL|       West Ham|  1–4|    Aston Villa|     23637|    Boleyn Ground|     Peter Jones|https://fbref.com...|   NULL|   NULL|1995-1996|         1|         4|        -3|           L|                   WDWDW|                   DWLLW|\n",
      "|  115| 12|Sat|1995-11-04|NULL|  Coventry City|  2–3|      Tottenham|     17545|   Highfield Road|     Jeff Winter|https://fbref.com...|   NULL|   NULL|1995-1996|         2|         3|        -1|           L|                   LLDLL|                   WWLDD|\n",
      "|  116| 12|Sat|1995-11-04|NULL|Manchester City|  1–0|         Bolton|     28397|       Maine Road|     Robbie Hart|https://fbref.com...|   NULL|   NULL|1995-1996|         1|         0|         1|           W|                   LLLDL|                   LLDLW|\n",
      "|  117| 12|Sat|1995-11-04|NULL|        Arsenal|  1–0| Manchester Utd|     38317|         Highbury|     Paul Durkin|https://fbref.com...|   NULL|   NULL|1995-1996|         1|         0|         1|           W|                   WLWWL|                   DDWWW|\n",
      "|  118| 12|Sun|1995-11-05|NULL|        Everton|  1–0|      Blackburn|     30097|    Goodison Park|     Alan Wilkie|https://fbref.com...|   NULL|   NULL|1995-1996|         1|         0|         1|           W|                   LLDDL|                   WLWDW|\n",
      "|  119| 12|Mon|1995-11-06|NULL|Nott'ham Forest|  4–1|      Wimbledon|     20810|      City Ground|     Paul Alcock|https://fbref.com...|   NULL|   NULL|1995-1996|         4|         1|         3|           W|                   DWWWD|                   LLLLL|\n",
      "|  120| 14|Wed|1995-11-08|NULL|  Newcastle Utd|  1–0|      Blackburn|     36473|  St. James' Park|Dermot Gallagher|https://fbref.com...|   NULL|   NULL|1995-1996|         1|         0|         1|           W|                   WWWDW|                   LWDWL|\n",
      "|  121| 13|Sat|1995-11-18|NULL| Sheffield Weds|  1–1|Manchester City|     24422|     Hillsborough|     Graham Poll|https://fbref.com...|   NULL|   NULL|1995-1996|         1|         1|         0|           D|                   LLWLD|                   LLDLW|\n",
      "|  122| 13|Sat|1995-11-18|NULL|      Blackburn|  7–0|Nott'ham Forest|     27660|       Ewood Park|     Jeff Winter|https://fbref.com...|   NULL|   NULL|1995-1996|         7|         0|         7|           W|                   WDWLL|                   WWWDW|\n",
      "|  123| 13|Sat|1995-11-18|NULL|      Liverpool|  1–2|        Everton|     40818|          Anfield|    Gerald Ashby|https://fbref.com...|   NULL|   NULL|1995-1996|         1|         2|        -1|           L|                   DDWWL|                   LDDLW|\n",
      "|  124| 13|Sat|1995-11-18|NULL|         Bolton|  0–3|       West Ham|     19047|     Burnden Park|     Paul Durkin|https://fbref.com...|   NULL|   NULL|1995-1996|         0|         3|        -3|           L|                   LDLWL|                   DWDWL|\n",
      "|  125| 13|Sat|1995-11-18|NULL|      Wimbledon|  0–0|  Middlesbrough|     13780|    Selhurst Park|    Keith Cooper|https://fbref.com...|   NULL|   NULL|1995-1996|         0|         0|         0|           D|                   LLLLL|                   WWWLD|\n",
      "|  126| 13|Sat|1995-11-18|NULL|   Leeds United|  1–0|        Chelsea|     36209|      Elland Road|       Mike Reed|https://fbref.com...|   NULL|   NULL|1995-1996|         1|         0|         1|           W|                   WLDWD|                   WWLLD|\n",
      "|  127| 13|Sat|1995-11-18|NULL|    Aston Villa|  1–1|  Newcastle Utd|     39167|       Villa Park|   Stephen Lodge|https://fbref.com...|   NULL|   NULL|1995-1996|         1|         1|         0|           D|                   WLLWW|                   WWDWW|\n",
      "|  128| 13|Sat|1995-11-18|NULL| Manchester Utd|  4–1|    Southampton|     39301|     Old Trafford|     Paul Danson|https://fbref.com...|   NULL|   NULL|1995-1996|         4|         1|         3|           W|                   DWWWL|                   DLLWW|\n",
      "|  129| 13|Sat|1995-11-18|NULL|      Tottenham|  2–1|        Arsenal|     32894|  White Hart Lane|     Alan Wilkie|https://fbref.com...|   NULL|   NULL|1995-1996|         2|         1|         1|           W|                   WLDDW|                   LWWLW|\n",
      "|  130| 13|Sun|1995-11-19|NULL|            QPR|  1–1|  Coventry City|     11189|      Loftus Road| Martin Bodenham|https://fbref.com...|   NULL|   NULL|1995-1996|         1|         1|         0|           D|                   WLLDL|                   LDLLL|\n",
      "|  131| 14|Mon|1995-11-20|NULL|    Southampton|  0–1|    Aston Villa|     13582|         The Dell|   David Elleray|https://fbref.com...|   NULL|   NULL|1995-1996|         0|         1|        -1|           L|                   LLWWL|                   LLWWD|\n",
      "|  132| 14|Tue|1995-11-21|NULL|  Middlesbrough|  0–1|      Tottenham|     29487|Riverside Stadium|       Mike Reed|https://fbref.com...|   NULL|   NULL|1995-1996|         0|         1|        -1|           L|                   WWLDD|                   LDDWW|\n",
      "|  133| 14|Tue|1995-11-21|NULL|        Arsenal|  4–2| Sheffield Weds|     34556|         Highbury|    Roger Dilkes|https://fbref.com...|   NULL|   NULL|1995-1996|         4|         2|         2|           W|                   WWLWL|                   LWLDD|\n",
      "|  134| 14|Wed|1995-11-22|NULL|        Chelsea|  3–2|         Bolton|     17495|  Stamford Bridge|     Graham Poll|https://fbref.com...|   NULL|   NULL|1995-1996|         3|         2|         1|           W|                   WLLDL|                   DLWLL|\n",
      "|  135| 14|Wed|1995-11-22|NULL|        Everton|  2–0|            QPR|     30009|    Goodison Park|     Paul Danson|https://fbref.com...|   NULL|   NULL|1995-1996|         2|         0|         2|           W|                   DDLWW|                   LLDLD|\n",
      "|  136| 14|Wed|1995-11-22|NULL|  Coventry City|  0–4| Manchester Utd|     23400|   Highfield Road|     Keith Burge|https://fbref.com...|   NULL|   NULL|1995-1996|         0|         4|        -4|           L|                   DLLLD|                   WWWLW|\n",
      "|  137| 14|Wed|1995-11-22|NULL|       West Ham|  0–0|      Liverpool|     24324|    Boleyn Ground|     Jeff Winter|https://fbref.com...|   NULL|   NULL|1995-1996|         0|         0|         0|           D|                   WDWLW|                   DWWLL|\n",
      "|  138| 14|Wed|1995-11-22|NULL|Manchester City|  1–0|      Wimbledon|     23617|       Maine Road|     Paul Durkin|https://fbref.com...|   NULL|   NULL|1995-1996|         1|         0|         1|           W|                   LDLWD|                   LLLLD|\n",
      "|  139| 15|Sat|1995-11-25|NULL|       West Ham|  1–0|            QPR|     21504|    Boleyn Ground|     Paul Alcock|https://fbref.com...|   NULL|   NULL|1995-1996|         1|         0|         1|           W|                   DWLWD|                   LDLDL|\n",
      "|  140| 15|Sat|1995-11-25|NULL|  Newcastle Utd|  2–1|   Leeds United|     36572|  St. James' Park|      Steve Dunn|https://fbref.com...|   NULL|   NULL|1995-1996|         2|         1|         1|           W|                   WDWWD|                   LDWDW|\n",
      "|  141| 15|Sat|1995-11-25|NULL|        Chelsea|  0–0|      Tottenham|     31059|  Stamford Bridge|   Stephen Lodge|https://fbref.com...|   NULL|   NULL|1995-1996|         0|         0|         0|           D|                   LLDLW|                   DDWWW|\n",
      "|  142| 15|Sat|1995-11-25|NULL|  Middlesbrough|  2–1|      Liverpool|     29390|Riverside Stadium|Dermot Gallagher|https://fbref.com...|   NULL|   NULL|1995-1996|         2|         1|         1|           W|                   WLDDL|                   WWLLD|\n",
      "|  143| 15|Sat|1995-11-25|NULL|    Southampton|  1–0|         Bolton|     14404|         The Dell|     Peter Jones|https://fbref.com...|   NULL|   NULL|1995-1996|         1|         0|         1|           W|                   LWWLL|                   LWLLL|\n",
      "|  144| 15|Sat|1995-11-25|NULL|        Everton|  2–2| Sheffield Weds|     35898|    Goodison Park| Martin Bodenham|https://fbref.com...|   NULL|   NULL|1995-1996|         2|         2|         0|           D|                   DLWWW|                   WLDDL|\n",
      "|  145| 15|Sat|1995-11-25|NULL|Manchester City|  1–0|    Aston Villa|     28027|       Maine Road|    Gerald Ashby|https://fbref.com...|   NULL|   NULL|1995-1996|         1|         0|         1|           W|                   DLWDW|                   LWWDW|\n",
      "|  146| 15|Sat|1995-11-25|NULL|  Coventry City|  3–3|      Wimbledon|     12523|   Highfield Road|     Robbie Hart|https://fbref.com...|   NULL|   NULL|1995-1996|         3|         3|         0|           D|                   LLLDL|                   LLLDL|\n",
      "|  147| 15|Sun|1995-11-26|NULL|        Arsenal|  0–0|      Blackburn|     37695|         Highbury|     Graham Poll|https://fbref.com...|   NULL|   NULL|1995-1996|         0|         0|         0|           D|                   WLWLW|                   DWLLW|\n",
      "|  148| 15|Mon|1995-11-27|NULL|Nott'ham Forest|  1–1| Manchester Utd|     29263|      City Ground|    Keith Cooper|https://fbref.com...|   NULL|   NULL|1995-1996|         1|         1|         0|           D|                   WWDWL|                   WWLWW|\n",
      "|  149| 16|Sat|1995-12-02|NULL|         Bolton|  1–1|Nott'ham Forest|     17342|     Burnden Park|    Roger Dilkes|https://fbref.com...|   NULL|   NULL|1995-1996|         1|         1|         0|           D|                   WLLLL|                   WDWLD|\n",
      "|  150| 16|Sat|1995-12-02|NULL|   Leeds United|  0–1|Manchester City|     33249|      Elland Road|     Paul Alcock|https://fbref.com...|   NULL|   NULL|1995-1996|         0|         1|        -1|           L|                   DWDWL|                   LWDWW|\n",
      "|  151| 16|Sat|1995-12-02|NULL|      Tottenham|  0–0|        Everton|     32894|  White Hart Lane|      Steve Dunn|https://fbref.com...|   NULL|   NULL|1995-1996|         0|         0|         0|           D|                   DWWWD|                   LWWWD|\n",
      "|  152| 16|Sat|1995-12-02|NULL| Manchester Utd|  1–1|        Chelsea|     42019|     Old Trafford| Martin Bodenham|https://fbref.com...|   NULL|   NULL|1995-1996|         1|         1|         0|           D|                   WLWWD|                   LDLWD|\n",
      "|  153| 16|Sat|1995-12-02|NULL|    Aston Villa|  1–1|        Arsenal|     37770|       Villa Park|     Jeff Winter|https://fbref.com...|   NULL|   NULL|1995-1996|         1|         1|         0|           D|                   WWDWL|                   LWLWD|\n",
      "|  154| 16|Sat|1995-12-02|NULL|      Blackburn|  4–2|       West Ham|     26638|       Ewood Park|     Keith Burge|https://fbref.com...|   NULL|   NULL|1995-1996|         4|         2|         2|           W|                   WLLWD|                   WLWDW|\n",
      "|  155| 16|Sat|1995-12-02|NULL|      Liverpool|  1–1|    Southampton|     38007|          Anfield|     Robbie Hart|https://fbref.com...|   NULL|   NULL|1995-1996|         1|         1|         0|           D|                   WLLDL|                   WWLLW|\n",
      "|  156| 16|Sat|1995-12-02|NULL|            QPR|  1–1|  Middlesbrough|     17546|      Loftus Road|     Paul Durkin|https://fbref.com...|   NULL|   NULL|1995-1996|         1|         1|         0|           D|                   DLDLL|                   LDDLW|\n",
      "|  157| 16|Sun|1995-12-03|NULL|      Wimbledon|  3–3|  Newcastle Utd|     18002|    Selhurst Park|    Gerald Ashby|https://fbref.com...|   NULL|   NULL|1995-1996|         3|         3|         0|           D|                   LLDLD|                   DWWDW|\n",
      "|  158| 16|Mon|1995-12-04|NULL| Sheffield Weds|  4–3|  Coventry City|     16229|     Hillsborough|       Mike Reed|https://fbref.com...|   NULL|   NULL|1995-1996|         4|         3|         1|           W|                   LDDLD|                   LLDLD|\n",
      "|  159| 17|Sat|1995-12-09|NULL|  Coventry City|  5–0|      Blackburn|     13376|   Highfield Road|      Steve Dunn|https://fbref.com...|   NULL|   NULL|1995-1996|         5|         0|         5|           W|                   LDLDL|                   LLWDW|\n",
      "|  160| 17|Sat|1995-12-09|NULL|    Southampton|  0–0|        Arsenal|     15238|         The Dell|     Paul Danson|https://fbref.com...|   NULL|   NULL|1995-1996|         0|         0|         0|           D|                   WLLWD|                   WLWDD|\n",
      "|  161| 17|Sat|1995-12-09|NULL|      Tottenham|  1–0|            QPR|     28851|  White Hart Lane|    Keith Cooper|https://fbref.com...|   NULL|   NULL|1995-1996|         1|         0|         1|           W|                   WWWDD|                   LDLLD|\n",
      "|  162| 17|Sat|1995-12-09|NULL|         Bolton|  0–1|      Liverpool|     21042|     Burnden Park| Martin Bodenham|https://fbref.com...|   NULL|   NULL|1995-1996|         0|         1|        -1|           L|                   LLLLD|                   LLDLD|\n",
      "|  163| 17|Sat|1995-12-09|NULL|  Middlesbrough|  4–1|Manchester City|     29469|Riverside Stadium|   Stephen Lodge|https://fbref.com...|   NULL|   NULL|1995-1996|         4|         1|         3|           W|                   DDLWD|                   WDWWW|\n",
      "|  164| 17|Sat|1995-12-09|NULL|   Leeds United|  1–1|      Wimbledon|     27984|      Elland Road|     Graham Poll|https://fbref.com...|   NULL|   NULL|1995-1996|         1|         1|         0|           D|                   WDWLL|                   LDLDD|\n",
      "|  165| 17|Sat|1995-12-09|NULL|        Chelsea|  1–0|  Newcastle Utd|     31098|  Stamford Bridge|    Roger Dilkes|https://fbref.com...|   NULL|   NULL|1995-1996|         1|         0|         1|           W|                   DLWDD|                   WWDWD|\n",
      "|  166| 17|Sat|1995-12-09|NULL| Manchester Utd|  2–2| Sheffield Weds|     41849|     Old Trafford|     Peter Jones|https://fbref.com...|   NULL|   NULL|1995-1996|         2|         2|         0|           D|                   LWWDD|                   DDLDW|\n",
      "|  167| 17|Sun|1995-12-10|NULL|Nott'ham Forest|  1–1|    Aston Villa|     25790|      City Ground|     Paul Durkin|https://fbref.com...|   NULL|   NULL|1995-1996|         1|         1|         0|           D|                   DWLDD|                   WDWLD|\n",
      "|  168| 17|Mon|1995-12-11|NULL|        Everton|  3–0|       West Ham|     31778|    Goodison Park|       Mike Reed|https://fbref.com...|   NULL|   NULL|1995-1996|         3|         0|         3|           W|                   WWWDD|                   LWDWL|\n",
      "|  169| 18|Sat|1995-12-16|NULL|       West Ham|  2–1|    Southampton|     18501|    Boleyn Ground|     Alan Wilkie|https://fbref.com...|   NULL|   NULL|1995-1996|         2|         1|         1|           W|                   WDWLL|                   LLWDD|\n",
      "|  170| 18|Sat|1995-12-16|NULL|            QPR|  2–1|         Bolton|     11456|      Loftus Road|   Stephen Lodge|https://fbref.com...|   NULL|   NULL|1995-1996|         2|         1|         1|           W|                   DLLDL|                   LLLDL|\n",
      "|  171| 18|Sat|1995-12-16|NULL|  Newcastle Utd|  1–0|        Everton|     36557|  St. James' Park|     Paul Durkin|https://fbref.com...|   NULL|   NULL|1995-1996|         1|         0|         1|           W|                   WDWDL|                   WWDDW|\n",
      "|  172| 18|Sat|1995-12-16|NULL| Sheffield Weds|  6–2|   Leeds United|     24573|     Hillsborough|     Robbie Hart|https://fbref.com...|   NULL|   NULL|1995-1996|         6|         2|         4|           W|                   DLDWD|                   DWLLD|\n",
      "|  173| 18|Sat|1995-12-16|NULL|      Wimbledon|  0–1|      Tottenham|     16193|    Selhurst Park|   David Elleray|https://fbref.com...|   NULL|   NULL|1995-1996|         0|         1|        -1|           L|                   DLDDD|                   WWDDW|\n",
      "|  174| 18|Sat|1995-12-16|NULL|    Aston Villa|  4–1|  Coventry City|     28486|       Villa Park|     Paul Alcock|https://fbref.com...|   NULL|   NULL|1995-1996|         4|         1|         3|           W|                   DWLDD|                   DLDLW|\n",
      "|  175| 18|Sat|1995-12-16|NULL|        Arsenal|  1–1|        Chelsea|     38295|         Highbury|    Gerald Ashby|https://fbref.com...|   NULL|   NULL|1995-1996|         1|         1|         0|           D|                   LWDDD|                   LWDDW|\n",
      "|  176| 18|Sat|1995-12-16|NULL|      Blackburn|  1–0|  Middlesbrough|     27996|       Ewood Park|     Paul Danson|https://fbref.com...|   NULL|   NULL|1995-1996|         1|         0|         1|           W|                   LWDWL|                   DLWDW|\n",
      "|  177| 18|Sun|1995-12-17|NULL|      Liverpool|  2–0| Manchester Utd|     40546|          Anfield|     Graham Poll|https://fbref.com...|   NULL|   NULL|1995-1996|         2|         0|         2|           W|                   LDLDW|                   WWDDD|\n",
      "|  178| 18|Mon|1995-12-18|NULL|Manchester City|  1–1|Nott'ham Forest|     25660|       Maine Road|     Keith Burge|https://fbref.com...|   NULL|   NULL|1995-1996|         1|         1|         0|           D|                   DWWWL|                   WLDDD|\n",
      "|  179| 19|Sat|1995-12-23|NULL| Sheffield Weds|  2–2|    Southampton|     25115|     Hillsborough|     Jeff Winter|https://fbref.com...|   NULL|   NULL|1995-1996|         2|         2|         0|           D|                   LDWDW|                   LWDDL|\n",
      "|  180| 19|Sat|1995-12-23|NULL|      Tottenham|  2–2|         Bolton|     30702|  White Hart Lane|     Paul Danson|https://fbref.com...|   NULL|   NULL|1995-1996|         2|         2|         0|           D|                   WDDWW|                   LLDLL|\n",
      "|  181| 19|Sat|1995-12-23|NULL|      Liverpool|  3–1|        Arsenal|     39806|          Anfield|    Keith Cooper|https://fbref.com...|   NULL|   NULL|1995-1996|         3|         1|         2|           W|                   DLDWW|                   WDDDD|\n",
      "|  182| 19|Sat|1995-12-23|NULL|  Coventry City|  2–1|        Everton|     16639|   Highfield Road|   Stephen Lodge|https://fbref.com...|   NULL|   NULL|1995-1996|         2|         1|         1|           W|                   LDLWL|                   WDDWL|\n",
      "|  183| 19|Sat|1995-12-23|NULL|      Wimbledon|  1–1|      Blackburn|      7105|    Selhurst Park| Martin Bodenham|https://fbref.com...|   NULL|   NULL|1995-1996|         1|         1|         0|           D|                   LDDDL|                   WDWLW|\n",
      "|  184| 19|Sat|1995-12-23|NULL|            QPR|  1–0|    Aston Villa|     14778|      Loftus Road|     Alan Wilkie|https://fbref.com...|   NULL|   NULL|1995-1996|         1|         0|         1|           W|                   LLDLW|                   WLDDW|\n",
      "|  185| 19|Sat|1995-12-23|NULL|Manchester City|  0–1|        Chelsea|     28668|       Maine Road|    Gary Willard|https://fbref.com...|   NULL|   NULL|1995-1996|         0|         1|        -1|           L|                   WWWLD|                   WDDWD|\n",
      "|  186| 19|Sat|1995-12-23|NULL|  Newcastle Utd|  3–1|Nott'ham Forest|     36531|  St. James' Park|   David Elleray|https://fbref.com...|   NULL|   NULL|1995-1996|         3|         1|         2|           W|                   DWDLW|                   LDDDD|\n",
      "|  187| 19|Sat|1995-12-23|NULL|  Middlesbrough|  4–2|       West Ham|     28640|Riverside Stadium|      Steve Dunn|https://fbref.com...|   NULL|   NULL|1995-1996|         4|         2|         2|           W|                   LWDWL|                   DWLLW|\n",
      "|  188| 19|Sun|1995-12-24|NULL|   Leeds United|  3–1| Manchester Utd|     39801|      Elland Road|Dermot Gallagher|https://fbref.com...|   NULL|   NULL|1995-1996|         3|         1|         2|           W|                   WLLDL|                   WDDDL|\n",
      "|  189| 20|Tue|1995-12-26|NULL|        Everton|  4–0|  Middlesbrough|     40019|    Goodison Park|     Peter Jones|https://fbref.com...|   NULL|   NULL|1995-1996|         4|         0|         4|           W|                   DDWLL|                   WDWLW|\n",
      "|  190| 20|Tue|1995-12-26|NULL|        Chelsea|  1–2|      Wimbledon|     21906|  Stamford Bridge|Dermot Gallagher|https://fbref.com...|   NULL|   NULL|1995-1996|         1|         2|        -1|           L|                   DDWDW|                   DDDLD|\n",
      "|  191| 20|Tue|1995-12-26|NULL|Nott'ham Forest|  1–0| Sheffield Weds|     27810|      City Ground|    Gerald Ashby|https://fbref.com...|   NULL|   NULL|1995-1996|         1|         0|         1|           W|                   DDDDL|                   DWDWD|\n",
      "|  192| 20|Tue|1995-12-26|NULL|      Blackburn|  2–0|Manchester City|     28915|       Ewood Park|    Keith Cooper|https://fbref.com...|   NULL|   NULL|1995-1996|         2|         0|         2|           W|                   DWLWD|                   WWLDL|\n",
      "|  193| 20|Tue|1995-12-26|NULL|    Southampton|  0–0|      Tottenham|     15238|         The Dell|     Paul Durkin|https://fbref.com...|   NULL|   NULL|1995-1996|         0|         0|         0|           D|                   WDDLD|                   DDWWD|\n",
      "|  194| 20|Tue|1995-12-26|NULL|        Arsenal|  3–0|            QPR|     38259|         Highbury|       Mike Reed|https://fbref.com...|   NULL|   NULL|1995-1996|         3|         0|         3|           W|                   DDDDL|                   LDLWW|\n",
      "|  195| 20|Wed|1995-12-27|NULL| Manchester Utd|  2–0|  Newcastle Utd|     42024|     Old Trafford|     Paul Alcock|https://fbref.com...|   NULL|   NULL|1995-1996|         2|         0|         2|           W|                   DDDLL|                   WDLWW|\n",
      "|  196| 20|Wed|1995-12-27|NULL|         Bolton|  0–2|   Leeds United|     18414|     Burnden Park|   David Elleray|https://fbref.com...|   NULL|   NULL|1995-1996|         0|         2|        -2|           L|                   LDLLD|                   LLDLW|\n",
      "|  197| 21|Sat|1995-12-30|NULL|        Everton|  2–0|   Leeds United|     40009|    Goodison Park|     Jeff Winter|https://fbref.com...|   NULL|   NULL|1995-1996|         2|         0|         2|           W|                   DWLLW|                   LDLWW|\n",
      "|  198| 21|Sat|1995-12-30|NULL|        Arsenal|  1–3|      Wimbledon|     37640|         Highbury|   Stephen Lodge|https://fbref.com...|   NULL|   NULL|1995-1996|         1|         3|        -2|           L|                   DDDLW|                   DDLDW|\n",
      "|  199| 21|Sat|1995-12-30|NULL|        Chelsea|  2–2|      Liverpool|     31137|  Stamford Bridge|     Keith Burge|https://fbref.com...|   NULL|   NULL|1995-1996|         2|         2|         0|           D|                   DWDWL|                   LDWWW|\n",
      "+-----+---+---+----------+----+---------------+-----+---------------+----------+-----------------+----------------+--------------------+-------+-------+---------+----------+----------+----------+------------+------------------------+------------------------+\n",
      "only showing top 200 rows\n",
      "\n"
     ]
    }
   ],
   "source": [
    "df.show(200)"
   ]
  },
  {
   "cell_type": "markdown",
   "metadata": {},
   "source": [
    "Creating result of the previous match between two teams"
   ]
  },
  {
   "cell_type": "code",
   "execution_count": 242,
   "metadata": {},
   "outputs": [
    {
     "name": "stdout",
     "output_type": "stream",
     "text": [
      "+----------+---------------+---------------+----------------+\n",
      "|  Date_hth|       Home_hth|       Away_hth|Match_result_hth|\n",
      "+----------+---------------+---------------+----------------+\n",
      "|1995-08-19|    Southampton|Nott'ham Forest|               L|\n",
      "|1995-08-19|  Newcastle Utd|  Coventry City|               W|\n",
      "|1995-08-19|      Wimbledon|         Bolton|               W|\n",
      "|1995-08-19|      Liverpool| Sheffield Weds|               W|\n",
      "|1995-08-19|       West Ham|   Leeds United|               L|\n",
      "|1995-08-19|      Blackburn|            QPR|               W|\n",
      "|1995-08-19|    Aston Villa| Manchester Utd|               W|\n",
      "|1995-08-19|Manchester City|      Tottenham|               D|\n",
      "|1995-08-19|        Chelsea|        Everton|               D|\n",
      "|1995-08-20|        Arsenal|  Middlesbrough|               D|\n",
      "|1995-08-21|   Leeds United|      Liverpool|               W|\n",
      "|1995-08-22|         Bolton|  Newcastle Utd|               L|\n",
      "|1995-08-23|      Tottenham|    Aston Villa|               L|\n",
      "|1995-08-23|Nott'ham Forest|        Chelsea|               D|\n",
      "|1995-08-23|            QPR|      Wimbledon|               L|\n",
      "|1995-08-23| Sheffield Weds|      Blackburn|               W|\n",
      "|1995-08-23| Manchester Utd|       West Ham|               W|\n",
      "|1995-08-23|  Coventry City|Manchester City|               W|\n",
      "|1995-08-23|        Everton|        Arsenal|               L|\n",
      "|1995-08-26|      Tottenham|      Liverpool|               L|\n",
      "+----------+---------------+---------------+----------------+\n",
      "only showing top 20 rows\n",
      "\n"
     ]
    }
   ],
   "source": [
    "head_to_head = df.select(col(\"Date\").alias(\"Date_hth\"), \n",
    "                         col(\"Home\").alias(\"Home_hth\"), \n",
    "                         col(\"Away\").alias(\"Away_hth\"), \n",
    "                         col(\"Match_result\").alias(\"Match_result_hth\"))\n",
    "\n",
    "head_to_head.show()"
   ]
  },
  {
   "cell_type": "code",
   "execution_count": 243,
   "metadata": {},
   "outputs": [],
   "source": [
    "head_to_head = head_to_head.withColumn(\"Away_match_result\", when(col(\"Match_result_hth\") == \"W\", \"L\").when(col(\"Match_result_hth\") == \"L\", \"W\").otherwise(\"D\"))"
   ]
  },
  {
   "cell_type": "code",
   "execution_count": 244,
   "metadata": {},
   "outputs": [],
   "source": [
    "head_to_head = head_to_head.withColumn(\"Matchup\", concat_ws(\"_\", least(\"Home_hth\", \"Away_hth\"), greatest(\"Home_hth\", \"Away_hth\")))"
   ]
  },
  {
   "cell_type": "code",
   "execution_count": 245,
   "metadata": {},
   "outputs": [],
   "source": [
    "head_to_head_window = Window.partitionBy(\"Matchup\").orderBy(\"Date_hth\").rowsBetween(-1, -1)"
   ]
  },
  {
   "cell_type": "code",
   "execution_count": 246,
   "metadata": {},
   "outputs": [],
   "source": [
    "head_to_head = head_to_head.withColumn(\n",
    "    \"Last_match_between_clubs\",\n",
    "    when(\n",
    "        (col(\"Home_hth\") == lag(\"Home_hth\").over(head_to_head_window)),\n",
    "        lag(\"Match_result_hth\").over(head_to_head_window)\n",
    "    ).when(\n",
    "        (col(\"Home_hth\") == lag(\"Away_hth\").over(head_to_head_window)),\n",
    "        lag(\"Away_match_result\").over(head_to_head_window)\n",
    "    ).otherwise(None)\n",
    ")"
   ]
  },
  {
   "cell_type": "code",
   "execution_count": 247,
   "metadata": {},
   "outputs": [
    {
     "name": "stdout",
     "output_type": "stream",
     "text": [
      "+----------+-----------+-----------+----------------+-----------------+-------------------+------------------------+\n",
      "|  Date_hth|   Home_hth|   Away_hth|Match_result_hth|Away_match_result|            Matchup|Last_match_between_clubs|\n",
      "+----------+-----------+-----------+----------------+-----------------+-------------------+------------------------+\n",
      "|1995-10-21|    Arsenal|Aston Villa|               W|                L|Arsenal_Aston Villa|                    NULL|\n",
      "|1995-12-02|Aston Villa|    Arsenal|               D|                D|Arsenal_Aston Villa|                       L|\n",
      "|1996-09-07|Aston Villa|    Arsenal|               D|                D|Arsenal_Aston Villa|                       D|\n",
      "|1996-12-28|    Arsenal|Aston Villa|               D|                D|Arsenal_Aston Villa|                       D|\n",
      "|1997-10-26|    Arsenal|Aston Villa|               D|                D|Arsenal_Aston Villa|                       D|\n",
      "|1998-05-10|Aston Villa|    Arsenal|               W|                L|Arsenal_Aston Villa|                       D|\n",
      "|1998-12-13|Aston Villa|    Arsenal|               W|                L|Arsenal_Aston Villa|                       W|\n",
      "|1999-05-16|    Arsenal|Aston Villa|               W|                L|Arsenal_Aston Villa|                       L|\n",
      "|1999-09-11|    Arsenal|Aston Villa|               W|                L|Arsenal_Aston Villa|                       W|\n",
      "|2000-03-05|Aston Villa|    Arsenal|               D|                D|Arsenal_Aston Villa|                       L|\n",
      "|2000-10-14|    Arsenal|Aston Villa|               W|                L|Arsenal_Aston Villa|                       D|\n",
      "|2001-03-18|Aston Villa|    Arsenal|               D|                D|Arsenal_Aston Villa|                       L|\n",
      "|2001-12-09|    Arsenal|Aston Villa|               W|                L|Arsenal_Aston Villa|                       D|\n",
      "|2002-03-17|Aston Villa|    Arsenal|               L|                W|Arsenal_Aston Villa|                       L|\n",
      "|2002-11-30|    Arsenal|Aston Villa|               W|                L|Arsenal_Aston Villa|                       W|\n",
      "|2003-04-05|Aston Villa|    Arsenal|               D|                D|Arsenal_Aston Villa|                       L|\n",
      "|2003-08-27|    Arsenal|Aston Villa|               W|                L|Arsenal_Aston Villa|                       D|\n",
      "|2004-01-18|Aston Villa|    Arsenal|               L|                W|Arsenal_Aston Villa|                       L|\n",
      "|2004-10-16|    Arsenal|Aston Villa|               W|                L|Arsenal_Aston Villa|                       W|\n",
      "|2005-02-05|Aston Villa|    Arsenal|               L|                W|Arsenal_Aston Villa|                       L|\n",
      "+----------+-----------+-----------+----------------+-----------------+-------------------+------------------------+\n",
      "only showing top 20 rows\n",
      "\n"
     ]
    }
   ],
   "source": [
    "head_to_head.show()"
   ]
  },
  {
   "cell_type": "code",
   "execution_count": 248,
   "metadata": {},
   "outputs": [],
   "source": [
    "#Adding form column for the away team, to original df\n",
    "df = df.join(head_to_head, (df[\"Date\"] == head_to_head[\"Date_hth\"]) & (df[\"Home\"] == head_to_head[\"Home_hth\"]), \"left\") \\\n",
    "       .withColumnRenamed(\"Last_match_between_clubs\", \"Home_last_match_between_clubs\") \\\n",
    "       .drop(\"Date_hth\", \"Home_hth\", \"Matchup\", \"Away_hth\", \"Match_result_hth\")"
   ]
  },
  {
   "cell_type": "code",
   "execution_count": 252,
   "metadata": {},
   "outputs": [],
   "source": [
    "df = df.orderBy(\"index\")"
   ]
  },
  {
   "cell_type": "code",
   "execution_count": 253,
   "metadata": {},
   "outputs": [
    {
     "name": "stdout",
     "output_type": "stream",
     "text": [
      "+-----+---+---+----------+----+---------------+-----+---------------+----------+-----------------+----------------+--------------------+-------+-------+---------+----------+----------+----------+------------+------------------------+------------------------+-----------------+-----------------------------+-----------------------------+\n",
      "|index| Wk|Day|      Date|Time|           Home|Score|           Away|Attendance|            Venue|         Referee|        Match Report|xG_Home|xG_Away|   Season|Home_score|Away_score|Score_diff|Match_result|Home_form_last_5_matches|Away_form_last_5_matches|Away_match_result|Home_last_match_between_clubs|Away_last_match_between_clubs|\n",
      "+-----+---+---+----------+----+---------------+-----+---------------+----------+-----------------+----------------+--------------------+-------+-------+---------+----------+----------+----------+------------+------------------------+------------------------+-----------------+-----------------------------+-----------------------------+\n",
      "|    0|  1|Sat|1995-08-19|NULL|    Southampton|  3–4|Nott'ham Forest|     15164|         The Dell|    Gary Willard|https://fbref.com...|   NULL|   NULL|1995-1996|         3|         4|        -1|           L|                    NULL|                    NULL|                W|                         NULL|                         NULL|\n",
      "|    1|  1|Sat|1995-08-19|NULL|  Newcastle Utd|  3–0|  Coventry City|     36485|  St. James' Park|    Roger Dilkes|https://fbref.com...|   NULL|   NULL|1995-1996|         3|         0|         3|           W|                    NULL|                    NULL|                L|                         NULL|                         NULL|\n",
      "|    2|  1|Sat|1995-08-19|NULL|      Wimbledon|  3–2|         Bolton|      9317|    Selhurst Park|    Keith Cooper|https://fbref.com...|   NULL|   NULL|1995-1996|         3|         2|         1|           W|                    NULL|                    NULL|                L|                         NULL|                         NULL|\n",
      "|    3|  1|Sat|1995-08-19|NULL|      Liverpool|  1–0| Sheffield Weds|     40535|          Anfield|     Paul Durkin|https://fbref.com...|   NULL|   NULL|1995-1996|         1|         0|         1|           W|                    NULL|                    NULL|                L|                         NULL|                         NULL|\n",
      "|    4|  1|Sat|1995-08-19|NULL|       West Ham|  1–2|   Leeds United|     22901|    Boleyn Ground|     Keith Burge|https://fbref.com...|   NULL|   NULL|1995-1996|         1|         2|        -1|           L|                    NULL|                    NULL|                W|                         NULL|                         NULL|\n",
      "|    5|  1|Sat|1995-08-19|NULL|      Blackburn|  1–0|            QPR|     22860|       Ewood Park|     Alan Wilkie|https://fbref.com...|   NULL|   NULL|1995-1996|         1|         0|         1|           W|                    NULL|                    NULL|                L|                         NULL|                         NULL|\n",
      "|    6|  1|Sat|1995-08-19|NULL|    Aston Villa|  3–1| Manchester Utd|     34655|       Villa Park|     Robbie Hart|https://fbref.com...|   NULL|   NULL|1995-1996|         3|         1|         2|           W|                    NULL|                    NULL|                L|                         NULL|                         NULL|\n",
      "|    7|  1|Sat|1995-08-19|NULL|Manchester City|  1–1|      Tottenham|     30827|       Maine Road|     Graham Poll|https://fbref.com...|   NULL|   NULL|1995-1996|         1|         1|         0|           D|                    NULL|                    NULL|                D|                         NULL|                         NULL|\n",
      "|    8|  1|Sat|1995-08-19|NULL|        Chelsea|  0–0|        Everton|     29858|  Stamford Bridge|       Mike Reed|https://fbref.com...|   NULL|   NULL|1995-1996|         0|         0|         0|           D|                    NULL|                    NULL|                D|                         NULL|                         NULL|\n",
      "|    9|  1|Sun|1995-08-20|NULL|        Arsenal|  1–1|  Middlesbrough|     37308|         Highbury|    Gerald Ashby|https://fbref.com...|   NULL|   NULL|1995-1996|         1|         1|         0|           D|                    NULL|                    NULL|                D|                         NULL|                         NULL|\n",
      "|   10|  2|Mon|1995-08-21|NULL|   Leeds United|  1–0|      Liverpool|     35852|      Elland Road|   David Elleray|https://fbref.com...|   NULL|   NULL|1995-1996|         1|         0|         1|           W|                    NULL|                    NULL|                L|                         NULL|                         NULL|\n",
      "|   11|  2|Tue|1995-08-22|NULL|         Bolton|  1–3|  Newcastle Utd|     20253|     Burnden Park|     Keith Burge|https://fbref.com...|   NULL|   NULL|1995-1996|         1|         3|        -2|           L|                    NULL|                    NULL|                W|                         NULL|                         NULL|\n",
      "|   12|  2|Wed|1995-08-23|NULL|      Tottenham|  0–1|    Aston Villa|     26726|  White Hart Lane|      Steve Dunn|https://fbref.com...|   NULL|   NULL|1995-1996|         0|         1|        -1|           L|                    NULL|                    NULL|                W|                         NULL|                         NULL|\n",
      "|   13|  2|Wed|1995-08-23|NULL|Nott'ham Forest|  0–0|        Chelsea|     27007|      City Ground|     Jeff Winter|https://fbref.com...|   NULL|   NULL|1995-1996|         0|         0|         0|           D|                    NULL|                    NULL|                D|                         NULL|                         NULL|\n",
      "|   14|  2|Wed|1995-08-23|NULL|            QPR|  0–3|      Wimbledon|     11837|      Loftus Road|     Graham Poll|https://fbref.com...|   NULL|   NULL|1995-1996|         0|         3|        -3|           L|                    NULL|                    NULL|                W|                         NULL|                         NULL|\n",
      "|   15|  2|Wed|1995-08-23|NULL| Sheffield Weds|  2–1|      Blackburn|     25544|     Hillsborough|     Paul Danson|https://fbref.com...|   NULL|   NULL|1995-1996|         2|         1|         1|           W|                    NULL|                    NULL|                L|                         NULL|                         NULL|\n",
      "|   16|  2|Wed|1995-08-23|NULL| Manchester Utd|  2–1|       West Ham|     31966|     Old Trafford|Dermot Gallagher|https://fbref.com...|   NULL|   NULL|1995-1996|         2|         1|         1|           W|                    NULL|                    NULL|                L|                         NULL|                         NULL|\n",
      "|   17|  2|Wed|1995-08-23|NULL|  Coventry City|  2–1|Manchester City|     15957|   Highfield Road|     Paul Alcock|https://fbref.com...|   NULL|   NULL|1995-1996|         2|         1|         1|           W|                    NULL|                    NULL|                L|                         NULL|                         NULL|\n",
      "|   18|  2|Wed|1995-08-23|NULL|        Everton|  0–2|        Arsenal|     35775|    Goodison Park|     Keith Burge|https://fbref.com...|   NULL|   NULL|1995-1996|         0|         2|        -2|           L|                    NULL|                    NULL|                W|                         NULL|                         NULL|\n",
      "|   19|  3|Sat|1995-08-26|NULL|      Tottenham|  1–3|      Liverpool|     31254|  White Hart Lane|    Keith Cooper|https://fbref.com...|   NULL|   NULL|1995-1996|         1|         3|        -2|           L|                    NULL|                    NULL|                W|                         NULL|                         NULL|\n",
      "|   20|  3|Sat|1995-08-26|NULL| Manchester Utd|  3–1|      Wimbledon|     32226|     Old Trafford|     Paul Durkin|https://fbref.com...|   NULL|   NULL|1995-1996|         3|         1|         2|           W|                    NULL|                    NULL|                L|                         NULL|                         NULL|\n",
      "|   21|  3|Sat|1995-08-26|NULL|  Coventry City|  0–0|        Arsenal|     20065|   Highfield Road|      Steve Dunn|https://fbref.com...|   NULL|   NULL|1995-1996|         0|         0|         0|           D|                    NULL|                    NULL|                D|                         NULL|                         NULL|\n",
      "|   22|  3|Sat|1995-08-26|NULL|  Middlesbrough|  2–0|        Chelsea|     28286|Riverside Stadium|   Stephen Lodge|https://fbref.com...|   NULL|   NULL|1995-1996|         2|         0|         2|           W|                    NULL|                    NULL|                L|                         NULL|                         NULL|\n",
      "|   23|  3|Sat|1995-08-26|NULL|        Everton|  2–0|    Southampton|     33668|    Goodison Park|     Jeff Winter|https://fbref.com...|   NULL|   NULL|1995-1996|         2|         0|         2|           W|                    NULL|                    NULL|                L|                         NULL|                         NULL|\n",
      "|   24|  3|Sat|1995-08-26|NULL|         Bolton|  2–1|      Blackburn|     20253|     Burnden Park|     Keith Burge|https://fbref.com...|   NULL|   NULL|1995-1996|         2|         1|         1|           W|                    NULL|                    NULL|                L|                         NULL|                         NULL|\n",
      "|   25|  3|Sat|1995-08-26|NULL|            QPR|  1–0|Manchester City|     14212|      Loftus Road|     Paul Danson|https://fbref.com...|   NULL|   NULL|1995-1996|         1|         0|         1|           W|                    NULL|                    NULL|                L|                         NULL|                         NULL|\n",
      "|   26|  3|Sat|1995-08-26|NULL|Nott'ham Forest|  1–1|       West Ham|     26645|      City Ground|    Gerald Ashby|https://fbref.com...|   NULL|   NULL|1995-1996|         1|         1|         0|           D|                    NULL|                    NULL|                D|                         NULL|                         NULL|\n",
      "|   27|  3|Sat|1995-08-26|NULL|   Leeds United|  2–0|    Aston Villa|     35086|      Elland Road|Dermot Gallagher|https://fbref.com...|   NULL|   NULL|1995-1996|         2|         0|         2|           W|                    NULL|                    NULL|                L|                         NULL|                         NULL|\n",
      "|   28|  3|Sun|1995-08-27|NULL| Sheffield Weds|  0–2|  Newcastle Utd|     24815|     Hillsborough|     Paul Alcock|https://fbref.com...|   NULL|   NULL|1995-1996|         0|         2|        -2|           L|                    NULL|                    NULL|                W|                         NULL|                         NULL|\n",
      "|   29|  4|Mon|1995-08-28|NULL|      Blackburn|  1–2| Manchester Utd|     29843|       Ewood Park|   David Elleray|https://fbref.com...|   NULL|   NULL|1995-1996|         1|         2|        -1|           L|                    NULL|                    NULL|                W|                         NULL|                         NULL|\n",
      "|   30|  4|Tue|1995-08-29|NULL|        Arsenal|  1–1|Nott'ham Forest|     38248|         Highbury|    Roger Dilkes|https://fbref.com...|   NULL|   NULL|1995-1996|         1|         1|         0|           D|                    NULL|                    NULL|                D|                         NULL|                         NULL|\n",
      "|   31|  4|Wed|1995-08-30|NULL|  Newcastle Utd|  1–0|  Middlesbrough|     36483|  St. James' Park|     Robbie Hart|https://fbref.com...|   NULL|   NULL|1995-1996|         1|         0|         1|           W|                    NULL|                    NULL|                L|                         NULL|                         NULL|\n",
      "|   32|  4|Wed|1995-08-30|NULL|    Southampton|  1–1|   Leeds United|     15212|         The Dell|    Keith Cooper|https://fbref.com...|   NULL|   NULL|1995-1996|         1|         1|         0|           D|                    NULL|                    NULL|                D|                         NULL|                         NULL|\n",
      "|   33|  4|Wed|1995-08-30|NULL|        Chelsea|  2–2|  Coventry City|     24398|  Stamford Bridge|    Gary Willard|https://fbref.com...|   NULL|   NULL|1995-1996|         2|         2|         0|           D|                    NULL|                    NULL|                D|                         NULL|                         NULL|\n",
      "|   34|  4|Wed|1995-08-30|NULL|       West Ham|  1–1|      Tottenham|     23516|    Boleyn Ground|       Mike Reed|https://fbref.com...|   NULL|   NULL|1995-1996|         1|         1|         0|           D|                    NULL|                    NULL|                D|                         NULL|                         NULL|\n",
      "|   35|  4|Wed|1995-08-30|NULL|Manchester City|  0–2|        Everton|     28432|       Maine Road|   Stephen Lodge|https://fbref.com...|   NULL|   NULL|1995-1996|         0|         2|        -2|           L|                    NULL|                    NULL|                W|                         NULL|                         NULL|\n",
      "|   36|  4|Wed|1995-08-30|NULL|    Aston Villa|  1–0|         Bolton|     31770|       Villa Park|     Peter Jones|https://fbref.com...|   NULL|   NULL|1995-1996|         1|         0|         1|           W|                    NULL|                    NULL|                L|                         NULL|                         NULL|\n",
      "|   37|  4|Wed|1995-08-30|NULL|      Liverpool|  1–0|            QPR|     37548|          Anfield|      Steve Dunn|https://fbref.com...|   NULL|   NULL|1995-1996|         1|         0|         1|           W|                    NULL|                    NULL|                L|                         NULL|                         NULL|\n",
      "|   38|  4|Wed|1995-08-30|NULL|      Wimbledon|  2–2| Sheffield Weds|      6352|    Selhurst Park|     Alan Wilkie|https://fbref.com...|   NULL|   NULL|1995-1996|         2|         2|         0|           D|                    NULL|                    NULL|                D|                         NULL|                         NULL|\n",
      "|   39|  5|Sat|1995-09-09|NULL|      Wimbledon|  1–0|      Liverpool|     19530|    Selhurst Park|     Keith Burge|https://fbref.com...|   NULL|   NULL|1995-1996|         1|         0|         1|           W|                    NULL|                    NULL|                L|                         NULL|                         NULL|\n",
      "|   40|  5|Sat|1995-09-09|NULL|    Southampton|  1–0|  Newcastle Utd|     15237|         The Dell|    Gerald Ashby|https://fbref.com...|   NULL|   NULL|1995-1996|         1|         0|         1|           W|                    NULL|                    NULL|                L|                         NULL|                         NULL|\n",
      "|   41|  5|Sat|1995-09-09|NULL|        Everton|  2–3| Manchester Utd|     39496|    Goodison Park|     Graham Poll|https://fbref.com...|   NULL|   NULL|1995-1996|         2|         3|        -1|           L|                    NULL|                    NULL|                W|                         NULL|                         NULL|\n",
      "|   42|  5|Sat|1995-09-09|NULL|  Coventry City|  1–1|Nott'ham Forest|     17219|   Highfield Road|     Peter Jones|https://fbref.com...|   NULL|   NULL|1995-1996|         1|         1|         0|           D|                    NULL|                    NULL|                D|                         NULL|                         NULL|\n",
      "|   43|  5|Sat|1995-09-09|NULL|         Bolton|  1–1|  Middlesbrough|     18376|     Burnden Park|     Paul Danson|https://fbref.com...|   NULL|   NULL|1995-1996|         1|         1|         0|           D|                    NULL|                    NULL|                D|                         NULL|                         NULL|\n",
      "|   44|  5|Sat|1995-09-09|NULL|            QPR|  0–3| Sheffield Weds|     12459|      Loftus Road|       Mike Reed|https://fbref.com...|   NULL|   NULL|1995-1996|         0|         3|        -3|           L|                    NULL|                    NULL|                W|                         NULL|                         NULL|\n",
      "|   45|  5|Sat|1995-09-09|NULL|      Tottenham|  2–1|   Leeds United|     30034|  White Hart Lane|     Paul Durkin|https://fbref.com...|   NULL|   NULL|1995-1996|         2|         1|         1|           W|                    NULL|                    NULL|                L|                         NULL|                         NULL|\n",
      "|   46|  5|Sat|1995-09-09|NULL|      Blackburn|  1–1|    Aston Villa|     27084|       Ewood Park|    Roger Dilkes|https://fbref.com...|   NULL|   NULL|1995-1996|         1|         1|         0|           D|                    NULL|                    NULL|                D|                         NULL|                         NULL|\n",
      "|   47|  5|Sun|1995-09-10|NULL|Manchester City|  0–1|        Arsenal|     23994|       Maine Road|Dermot Gallagher|https://fbref.com...|   NULL|   NULL|1995-1996|         0|         1|        -1|           L|                    NULL|                    NULL|                W|                         NULL|                         NULL|\n",
      "|   48|  5|Mon|1995-09-11|NULL|       West Ham|  1–3|        Chelsea|     19228|    Boleyn Ground|     Robbie Hart|https://fbref.com...|   NULL|   NULL|1995-1996|         1|         3|        -2|           L|                    NULL|                    NULL|                W|                         NULL|                         NULL|\n",
      "|   49|  2|Tue|1995-09-12|NULL|  Middlesbrough|  0–0|    Southampton|     29181|Riverside Stadium|     Peter Jones|https://fbref.com...|   NULL|   NULL|1995-1996|         0|         0|         0|           D|                    NULL|                    NULL|                D|                         NULL|                         NULL|\n",
      "|   50|  6|Sat|1995-09-16|NULL| Sheffield Weds|  1–3|      Tottenham|     26565|     Hillsborough|Dermot Gallagher|https://fbref.com...|   NULL|   NULL|1995-1996|         1|         3|        -2|           L|                   LWLDW|                   DLLDW|                W|                         NULL|                         NULL|\n",
      "|   51|  6|Sat|1995-09-16|NULL|        Chelsea|  3–0|    Southampton|     26237|  Stamford Bridge|     Paul Alcock|https://fbref.com...|   NULL|   NULL|1995-1996|         3|         0|         3|           W|                   DDLDW|                   LLDWD|                L|                         NULL|                         NULL|\n",
      "|   52|  6|Sat|1995-09-16|NULL|      Liverpool|  3–0|      Blackburn|     39502|          Anfield|    Gary Willard|https://fbref.com...|   NULL|   NULL|1995-1996|         3|         0|         3|           W|                   WLWWL|                   WLLLD|                L|                         NULL|                         NULL|\n",
      "|   53|  6|Sat|1995-09-16|NULL|   Leeds United|  1–3|            QPR|     31504|      Elland Road|   Stephen Lodge|https://fbref.com...|   NULL|   NULL|1995-1996|         1|         3|        -2|           L|                   WWWDL|                   LLWLL|                W|                         NULL|                         NULL|\n",
      "|   54|  6|Sat|1995-09-16|NULL|    Aston Villa|  2–0|      Wimbledon|     29928|       Villa Park|   David Elleray|https://fbref.com...|   NULL|   NULL|1995-1996|         2|         0|         2|           W|                   WWLWD|                   WWLDW|                L|                         NULL|                         NULL|\n",
      "|   55|  6|Sat|1995-09-16|NULL| Manchester Utd|  3–0|         Bolton|     32812|     Old Trafford|      Steve Dunn|https://fbref.com...|   NULL|   NULL|1995-1996|         3|         0|         3|           W|                   LWWWW|                   LLWLD|                L|                         NULL|                         NULL|\n",
      "|   56|  6|Sat|1995-09-16|NULL|  Middlesbrough|  2–1|  Coventry City|     27882|Riverside Stadium|     Graham Poll|https://fbref.com...|   NULL|   NULL|1995-1996|         2|         1|         1|           W|                   DWLDD|                   LWDDD|                L|                         NULL|                         NULL|\n",
      "|   57|  6|Sat|1995-09-16|NULL|        Arsenal|  1–0|       West Ham|     38065|         Highbury|     Alan Wilkie|https://fbref.com...|   NULL|   NULL|1995-1996|         1|         0|         1|           W|                   DWDDW|                   LLDDL|                L|                         NULL|                         NULL|\n",
      "|   58|  6|Sat|1995-09-16|NULL|  Newcastle Utd|  3–1|Manchester City|     36501|  St. James' Park|     Jeff Winter|https://fbref.com...|   NULL|   NULL|1995-1996|         3|         1|         2|           W|                   WWWWL|                   DLLLL|                L|                         NULL|                         NULL|\n",
      "|   59|  6|Sun|1995-09-17|NULL|Nott'ham Forest|  3–2|        Everton|     24786|      City Ground| Martin Bodenham|https://fbref.com...|   NULL|   NULL|1995-1996|         3|         2|         1|           W|                   WDDDD|                   DLWWL|                L|                         NULL|                         NULL|\n",
      "|   60|  7|Sat|1995-09-23|NULL|Manchester City|  0–1|  Middlesbrough|     25865|       Maine Road|    Gary Willard|https://fbref.com...|   NULL|   NULL|1995-1996|         0|         1|        -1|           L|                   LLLLL|                   WLDDW|                W|                         NULL|                         NULL|\n",
      "|   61|  7|Sat|1995-09-23|NULL| Sheffield Weds|  0–0| Manchester Utd|     34101|     Hillsborough|     Keith Burge|https://fbref.com...|   NULL|   NULL|1995-1996|         0|         0|         0|           D|                   WLDWL|                   WWWWW|                D|                         NULL|                         NULL|\n",
      "|   62|  7|Sat|1995-09-23|NULL|       West Ham|  2–1|        Everton|     21085|    Boleyn Ground|     Paul Durkin|https://fbref.com...|   NULL|   NULL|1995-1996|         2|         1|         1|           W|                   LDDLL|                   LWWLL|                L|                         NULL|                         NULL|\n",
      "|   63|  7|Sat|1995-09-23|NULL|      Blackburn|  5–1|  Coventry City|     24382|       Ewood Park|    Keith Cooper|https://fbref.com...|   NULL|   NULL|1995-1996|         5|         1|         4|           W|                   LLLDL|                   WDDDL|                L|                         NULL|                         NULL|\n",
      "|   64|  7|Sat|1995-09-23|NULL|    Aston Villa|  1–1|Nott'ham Forest|     33972|       Villa Park|     Paul Danson|https://fbref.com...|   NULL|   NULL|1995-1996|         1|         1|         0|           D|                   WLWDW|                   DDDDW|                D|                         NULL|                         NULL|\n",
      "|   65|  7|Sat|1995-09-23|NULL|      Liverpool|  5–2|         Bolton|     40104|          Anfield| Martin Bodenham|https://fbref.com...|   NULL|   NULL|1995-1996|         5|         2|         3|           W|                   LWWLW|                   LWLDL|                L|                         NULL|                         NULL|\n",
      "|   66|  7|Sat|1995-09-23|NULL|      Wimbledon|  2–4|   Leeds United|     13307|    Selhurst Park|    Roger Dilkes|https://fbref.com...|   NULL|   NULL|1995-1996|         2|         4|        -2|           L|                   WLDWL|                   WWDLL|                W|                         NULL|                         NULL|\n",
      "|   67|  7|Sat|1995-09-23|NULL|        Arsenal|  4–2|    Southampton|     38136|         Highbury|     Robbie Hart|https://fbref.com...|   NULL|   NULL|1995-1996|         4|         2|         2|           W|                   WDDWW|                   LDWDL|                L|                         NULL|                         NULL|\n",
      "|   68|  7|Sun|1995-09-24|NULL|  Newcastle Utd|  2–0|        Chelsea|     36225|  St. James' Park|     Peter Jones|https://fbref.com...|   NULL|   NULL|1995-1996|         2|         0|         2|           W|                   WWWLW|                   DLDWW|                L|                         NULL|                         NULL|\n",
      "|   69|  7|Mon|1995-09-25|NULL|            QPR|  2–3|      Tottenham|     15659|      Loftus Road|   David Elleray|https://fbref.com...|   NULL|   NULL|1995-1996|         2|         3|        -1|           L|                   LWLLW|                   LLDWW|                W|                         NULL|                         NULL|\n",
      "|   70|  8|Sat|1995-09-30|NULL|Nott'ham Forest|  3–0|Manchester City|     25620|      City Ground|       Mike Reed|https://fbref.com...|   NULL|   NULL|1995-1996|         3|         0|         3|           W|                   DDDWD|                   LLLLL|                L|                         NULL|                         NULL|\n",
      "|   71|  8|Sat|1995-09-30|NULL|         Bolton|  0–1|            QPR|     17362|     Burnden Park|     Jeff Winter|https://fbref.com...|   NULL|   NULL|1995-1996|         0|         1|        -1|           L|                   WLDLL|                   WLLWL|                W|                         NULL|                         NULL|\n",
      "|   72|  8|Sat|1995-09-30|NULL|  Middlesbrough|  2–0|      Blackburn|     29462|Riverside Stadium|     Paul Alcock|https://fbref.com...|   NULL|   NULL|1995-1996|         2|         0|         2|           W|                   LDDWW|                   LLDLW|                L|                         NULL|                         NULL|\n",
      "|   73|  8|Sat|1995-09-30|NULL|      Tottenham|  3–1|      Wimbledon|     25321|  White Hart Lane|    Gerald Ashby|https://fbref.com...|   NULL|   NULL|1995-1996|         3|         1|         2|           W|                   LDWWW|                   LDWLL|                L|                         NULL|                         NULL|\n",
      "|   74|  8|Sat|1995-09-30|NULL|   Leeds United|  2–0| Sheffield Weds|     34076|      Elland Road|     Graham Poll|https://fbref.com...|   NULL|   NULL|1995-1996|         2|         0|         2|           W|                   WDLLW|                   LDWLD|                L|                         NULL|                         NULL|\n",
      "|   75|  8|Sat|1995-09-30|NULL|        Chelsea|  1–0|        Arsenal|     31048|  Stamford Bridge| Martin Bodenham|https://fbref.com...|   NULL|   NULL|1995-1996|         1|         0|         1|           W|                   LDWWL|                   DDWWW|                L|                         NULL|                         NULL|\n",
      "|   76|  8|Sat|1995-09-30|NULL|  Coventry City|  0–3|    Aston Villa|     20987|   Highfield Road|     Alan Wilkie|https://fbref.com...|   NULL|   NULL|1995-1996|         0|         3|        -3|           L|                   DDDLL|                   LWDWD|                W|                         NULL|                         NULL|\n",
      "|   77|  8|Sun|1995-10-01|NULL|        Everton|  1–3|  Newcastle Utd|     33080|    Goodison Park|    Keith Cooper|https://fbref.com...|   NULL|   NULL|1995-1996|         1|         3|        -2|           L|                   WWLLL|                   WWLWW|                W|                         NULL|                         NULL|\n",
      "|   78|  8|Sun|1995-10-01|NULL| Manchester Utd|  2–2|      Liverpool|     34934|     Old Trafford|   David Elleray|https://fbref.com...|   NULL|   NULL|1995-1996|         2|         2|         0|           D|                   WWWWD|                   WWLWW|                D|                         NULL|                         NULL|\n",
      "|   79|  8|Mon|1995-10-02|NULL|    Southampton|  0–0|       West Ham|     13568|         The Dell|     Graham Poll|https://fbref.com...|   NULL|   NULL|1995-1996|         0|         0|         0|           D|                   DWDLL|                   DDLLW|                D|                         NULL|                         NULL|\n",
      "|   80|  9|Sat|1995-10-14|NULL| Manchester Utd|  1–0|Manchester City|     35707|     Old Trafford|    Roger Dilkes|https://fbref.com...|   NULL|   NULL|1995-1996|         1|         0|         1|           W|                   WWWDD|                   LLLLL|                L|                         NULL|                         NULL|\n",
      "|   81|  9|Sat|1995-10-14|NULL|    Aston Villa|  0–1|        Chelsea|     34922|       Villa Park|      Steve Dunn|https://fbref.com...|   NULL|   NULL|1995-1996|         0|         1|        -1|           L|                   WDWDW|                   DWWLW|                W|                         NULL|                         NULL|\n",
      "|   82|  9|Sat|1995-10-14|NULL|            QPR|  2–3|  Newcastle Utd|     18254|      Loftus Road|     Paul Durkin|https://fbref.com...|   NULL|   NULL|1995-1996|         2|         3|        -1|           L|                   LLWLW|                   WLWWW|                W|                         NULL|                         NULL|\n",
      "|   83|  9|Sat|1995-10-14|NULL|   Leeds United|  0–3|        Arsenal|     38552|      Elland Road|     Peter Jones|https://fbref.com...|   NULL|   NULL|1995-1996|         0|         3|        -3|           L|                   DLLWW|                   DWWWL|                W|                         NULL|                         NULL|\n",
      "|   84|  9|Sat|1995-10-14|NULL|      Liverpool|  0–0|  Coventry City|     39079|          Anfield|     Paul Danson|https://fbref.com...|   NULL|   NULL|1995-1996|         0|         0|         0|           D|                   WLWWD|                   DDLLL|                D|                         NULL|                         NULL|\n",
      "|   85|  9|Sat|1995-10-14|NULL|         Bolton|  1–1|        Everton|     20427|     Burnden Park|     Paul Alcock|https://fbref.com...|   NULL|   NULL|1995-1996|         1|         1|         0|           D|                   LDLLL|                   WLLLL|                D|                         NULL|                         NULL|\n",
      "|   86|  9|Sat|1995-10-14|NULL|      Blackburn|  2–1|    Southampton|     26780|       Ewood Park|       Mike Reed|https://fbref.com...|   NULL|   NULL|1995-1996|         2|         1|         1|           W|                   LDLWL|                   WDLLD|                L|                         NULL|                         NULL|\n",
      "|   87|  9|Sat|1995-10-14|NULL|      Tottenham|  0–1|Nott'ham Forest|     32876|  White Hart Lane|     Robbie Hart|https://fbref.com...|   NULL|   NULL|1995-1996|         0|         1|        -1|           L|                   DWWWW|                   DDWDW|                W|                         NULL|                         NULL|\n",
      "|   88|  9|Sun|1995-10-15|NULL| Sheffield Weds|  0–1|  Middlesbrough|     21177|     Hillsborough|    Gerald Ashby|https://fbref.com...|   NULL|   NULL|1995-1996|         0|         1|        -1|           L|                   DWLDL|                   DDWWW|                W|                         NULL|                         NULL|\n",
      "|   89|  9|Mon|1995-10-16|NULL|      Wimbledon|  0–1|       West Ham|      9411|    Selhurst Park|Dermot Gallagher|https://fbref.com...|   NULL|   NULL|1995-1996|         0|         1|        -1|           L|                   DWLLL|                   DLLWD|                W|                         NULL|                         NULL|\n",
      "|   90| 10|Sat|1995-10-21|NULL|Manchester City|  0–0|   Leeds United|     26390|       Maine Road| Martin Bodenham|https://fbref.com...|   NULL|   NULL|1995-1996|         0|         0|         0|           D|                   LLLLL|                   LLWWL|                D|                         NULL|                         NULL|\n",
      "|   91| 10|Sat|1995-10-21|NULL|  Newcastle Utd|  6–1|      Wimbledon|     36434|  St. James' Park|     Graham Poll|https://fbref.com...|   NULL|   NULL|1995-1996|         6|         1|         5|           W|                   LWWWW|                   WLLLL|                L|                         NULL|                         NULL|\n",
      "|   92| 10|Sat|1995-10-21|NULL|  Coventry City|  0–1| Sheffield Weds|     13998|   Highfield Road|     Jeff Winter|https://fbref.com...|   NULL|   NULL|1995-1996|         0|         1|        -1|           L|                   DLLLD|                   WLDLL|                W|                         NULL|                         NULL|\n",
      "|   93| 10|Sat|1995-10-21|NULL|        Arsenal|  2–0|    Aston Villa|     38271|         Highbury|     Robbie Hart|https://fbref.com...|   NULL|   NULL|1995-1996|         2|         0|         2|           W|                   WWWLW|                   DWDWL|                L|                         NULL|                         NULL|\n",
      "|   94| 10|Sat|1995-10-21|NULL|        Chelsea|  1–4| Manchester Utd|     31019|  Stamford Bridge|     Alan Wilkie|https://fbref.com...|   NULL|   NULL|1995-1996|         1|         4|        -3|           L|                   WWLWW|                   WWDDW|                W|                         NULL|                         NULL|\n",
      "|   95| 10|Sat|1995-10-21|NULL|  Middlesbrough|  1–0|            QPR|     29293|Riverside Stadium|       Mike Reed|https://fbref.com...|   NULL|   NULL|1995-1996|         1|         0|         1|           W|                   DWWWW|                   LWLWL|                L|                         NULL|                         NULL|\n",
      "|   96| 10|Sat|1995-10-21|NULL|       West Ham|  1–1|      Blackburn|     21776|    Boleyn Ground|   Stephen Lodge|https://fbref.com...|   NULL|   NULL|1995-1996|         1|         1|         0|           D|                   LLWDW|                   DLWLW|                D|                         NULL|                         NULL|\n",
      "|   97| 10|Sat|1995-10-21|NULL|Nott'ham Forest|  3–2|         Bolton|     25426|      City Ground|   David Elleray|https://fbref.com...|   NULL|   NULL|1995-1996|         3|         2|         1|           W|                   DWDWW|                   DLLLD|                L|                         NULL|                         NULL|\n",
      "|   98| 10|Sun|1995-10-22|NULL|        Everton|  1–1|      Tottenham|     33629|    Goodison Park|    Roger Dilkes|https://fbref.com...|   NULL|   NULL|1995-1996|         1|         1|         0|           D|                   LLLLD|                   WWWWL|                D|                         NULL|                         NULL|\n",
      "|   99| 10|Sun|1995-10-22|NULL|    Southampton|  1–3|      Liverpool|     15245|         The Dell|Dermot Gallagher|https://fbref.com...|   NULL|   NULL|1995-1996|         1|         3|        -2|           L|                   DLLDL|                   LWWDD|                W|                         NULL|                         NULL|\n",
      "|  100| 11|Sat|1995-10-28|NULL| Sheffield Weds|  0–1|       West Ham|     23917|     Hillsborough|    Keith Cooper|https://fbref.com...|   NULL|   NULL|1995-1996|         0|         1|        -1|           L|                   LDLLW|                   LWDWD|                W|                         NULL|                         NULL|\n",
      "|  101| 11|Sat|1995-10-28|NULL|      Wimbledon|  1–2|    Southampton|      7982|    Selhurst Park|     Jeff Winter|https://fbref.com...|   NULL|   NULL|1995-1996|         1|         2|        -1|           L|                   LLLLL|                   LLDLL|                W|                         NULL|                         NULL|\n",
      "|  102| 11|Sat|1995-10-28|NULL| Manchester Utd|  2–0|  Middlesbrough|     36580|     Old Trafford|   Stephen Lodge|https://fbref.com...|   NULL|   NULL|1995-1996|         2|         0|         2|           W|                   WDDWW|                   WWWWW|                L|                         NULL|                         NULL|\n",
      "|  103| 11|Sat|1995-10-28|NULL|      Liverpool|  6–0|Manchester City|     39267|          Anfield|     Alan Wilkie|https://fbref.com...|   NULL|   NULL|1995-1996|         6|         0|         6|           W|                   WWDDW|                   LLLLD|                L|                         NULL|                         NULL|\n",
      "|  104| 11|Sat|1995-10-28|NULL|   Leeds United|  3–1|  Coventry City|     30161|      Elland Road|    Gerald Ashby|https://fbref.com...|   NULL|   NULL|1995-1996|         3|         1|         2|           W|                   LWWLD|                   LLLDL|                L|                         NULL|                         NULL|\n",
      "|  105| 11|Sat|1995-10-28|NULL|    Aston Villa|  1–0|        Everton|     32792|       Villa Park|     Keith Burge|https://fbref.com...|   NULL|   NULL|1995-1996|         1|         0|         1|           W|                   WDWLL|                   LLLDD|                L|                         NULL|                         NULL|\n",
      "|  106| 11|Sat|1995-10-28|NULL|            QPR|  1–1|Nott'ham Forest|     17549|      Loftus Road|      Steve Dunn|https://fbref.com...|   NULL|   NULL|1995-1996|         1|         1|         0|           D|                   WLWLL|                   WDWWW|                D|                         NULL|                         NULL|\n",
      "|  107| 11|Sat|1995-10-28|NULL|      Blackburn|  3–0|        Chelsea|     27733|       Ewood Park|     Paul Durkin|https://fbref.com...|   NULL|   NULL|1995-1996|         3|         0|         3|           W|                   LWLWD|                   WLWWL|                L|                         NULL|                         NULL|\n",
      "|  108| 11|Sun|1995-10-29|NULL|      Tottenham|  1–1|  Newcastle Utd|     32279|  White Hart Lane| Martin Bodenham|https://fbref.com...|   NULL|   NULL|1995-1996|         1|         1|         0|           D|                   WWWLD|                   WWWWW|                D|                         NULL|                         NULL|\n",
      "|  109| 11|Mon|1995-10-30|NULL|         Bolton|  1–0|        Arsenal|     18682|     Burnden Park|    Keith Cooper|https://fbref.com...|   NULL|   NULL|1995-1996|         1|         0|         1|           W|                   LLLDL|                   WWLWW|                L|                         NULL|                         NULL|\n",
      "|  110| 12|Sat|1995-11-04|NULL|    Southampton|  2–0|            QPR|     15137|         The Dell|    Roger Dilkes|https://fbref.com...|   NULL|   NULL|1995-1996|         2|         0|         2|           W|                   LDLLW|                   LWLLD|                L|                         NULL|                         NULL|\n",
      "|  111| 12|Sat|1995-11-04|NULL|        Chelsea|  0–0| Sheffield Weds|     23216|  Stamford Bridge|     Paul Danson|https://fbref.com...|   NULL|   NULL|1995-1996|         0|         0|         0|           D|                   LWWLL|                   DLLWL|                D|                         NULL|                         NULL|\n",
      "|  112| 12|Sat|1995-11-04|NULL|  Newcastle Utd|  2–1|      Liverpool|     36547|  St. James' Park|       Mike Reed|https://fbref.com...|   NULL|   NULL|1995-1996|         2|         1|         1|           W|                   WWWWD|                   WDDWW|                L|                         NULL|                         NULL|\n",
      "|  113| 12|Sat|1995-11-04|NULL|  Middlesbrough|  1–1|   Leeds United|     29467|Riverside Stadium|     Keith Burge|https://fbref.com...|   NULL|   NULL|1995-1996|         1|         1|         0|           D|                   WWWWL|                   WWLDW|                D|                         NULL|                         NULL|\n",
      "|  114| 12|Sat|1995-11-04|NULL|       West Ham|  1–4|    Aston Villa|     23637|    Boleyn Ground|     Peter Jones|https://fbref.com...|   NULL|   NULL|1995-1996|         1|         4|        -3|           L|                   WDWDW|                   DWLLW|                W|                         NULL|                         NULL|\n",
      "|  115| 12|Sat|1995-11-04|NULL|  Coventry City|  2–3|      Tottenham|     17545|   Highfield Road|     Jeff Winter|https://fbref.com...|   NULL|   NULL|1995-1996|         2|         3|        -1|           L|                   LLDLL|                   WWLDD|                W|                         NULL|                         NULL|\n",
      "|  116| 12|Sat|1995-11-04|NULL|Manchester City|  1–0|         Bolton|     28397|       Maine Road|     Robbie Hart|https://fbref.com...|   NULL|   NULL|1995-1996|         1|         0|         1|           W|                   LLLDL|                   LLDLW|                L|                         NULL|                         NULL|\n",
      "|  117| 12|Sat|1995-11-04|NULL|        Arsenal|  1–0| Manchester Utd|     38317|         Highbury|     Paul Durkin|https://fbref.com...|   NULL|   NULL|1995-1996|         1|         0|         1|           W|                   WLWWL|                   DDWWW|                L|                         NULL|                         NULL|\n",
      "|  118| 12|Sun|1995-11-05|NULL|        Everton|  1–0|      Blackburn|     30097|    Goodison Park|     Alan Wilkie|https://fbref.com...|   NULL|   NULL|1995-1996|         1|         0|         1|           W|                   LLDDL|                   WLWDW|                L|                         NULL|                         NULL|\n",
      "|  119| 12|Mon|1995-11-06|NULL|Nott'ham Forest|  4–1|      Wimbledon|     20810|      City Ground|     Paul Alcock|https://fbref.com...|   NULL|   NULL|1995-1996|         4|         1|         3|           W|                   DWWWD|                   LLLLL|                L|                         NULL|                         NULL|\n",
      "|  120| 14|Wed|1995-11-08|NULL|  Newcastle Utd|  1–0|      Blackburn|     36473|  St. James' Park|Dermot Gallagher|https://fbref.com...|   NULL|   NULL|1995-1996|         1|         0|         1|           W|                   WWWDW|                   LWDWL|                L|                         NULL|                         NULL|\n",
      "|  121| 13|Sat|1995-11-18|NULL| Sheffield Weds|  1–1|Manchester City|     24422|     Hillsborough|     Graham Poll|https://fbref.com...|   NULL|   NULL|1995-1996|         1|         1|         0|           D|                   LLWLD|                   LLDLW|                D|                         NULL|                         NULL|\n",
      "|  122| 13|Sat|1995-11-18|NULL|      Blackburn|  7–0|Nott'ham Forest|     27660|       Ewood Park|     Jeff Winter|https://fbref.com...|   NULL|   NULL|1995-1996|         7|         0|         7|           W|                   WDWLL|                   WWWDW|                L|                         NULL|                         NULL|\n",
      "|  123| 13|Sat|1995-11-18|NULL|      Liverpool|  1–2|        Everton|     40818|          Anfield|    Gerald Ashby|https://fbref.com...|   NULL|   NULL|1995-1996|         1|         2|        -1|           L|                   DDWWL|                   LDDLW|                W|                         NULL|                         NULL|\n",
      "|  124| 13|Sat|1995-11-18|NULL|         Bolton|  0–3|       West Ham|     19047|     Burnden Park|     Paul Durkin|https://fbref.com...|   NULL|   NULL|1995-1996|         0|         3|        -3|           L|                   LDLWL|                   DWDWL|                W|                         NULL|                         NULL|\n",
      "|  125| 13|Sat|1995-11-18|NULL|      Wimbledon|  0–0|  Middlesbrough|     13780|    Selhurst Park|    Keith Cooper|https://fbref.com...|   NULL|   NULL|1995-1996|         0|         0|         0|           D|                   LLLLL|                   WWWLD|                D|                         NULL|                         NULL|\n",
      "|  126| 13|Sat|1995-11-18|NULL|   Leeds United|  1–0|        Chelsea|     36209|      Elland Road|       Mike Reed|https://fbref.com...|   NULL|   NULL|1995-1996|         1|         0|         1|           W|                   WLDWD|                   WWLLD|                L|                         NULL|                         NULL|\n",
      "|  127| 13|Sat|1995-11-18|NULL|    Aston Villa|  1–1|  Newcastle Utd|     39167|       Villa Park|   Stephen Lodge|https://fbref.com...|   NULL|   NULL|1995-1996|         1|         1|         0|           D|                   WLLWW|                   WWDWW|                D|                         NULL|                         NULL|\n",
      "|  128| 13|Sat|1995-11-18|NULL| Manchester Utd|  4–1|    Southampton|     39301|     Old Trafford|     Paul Danson|https://fbref.com...|   NULL|   NULL|1995-1996|         4|         1|         3|           W|                   DWWWL|                   DLLWW|                L|                         NULL|                         NULL|\n",
      "|  129| 13|Sat|1995-11-18|NULL|      Tottenham|  2–1|        Arsenal|     32894|  White Hart Lane|     Alan Wilkie|https://fbref.com...|   NULL|   NULL|1995-1996|         2|         1|         1|           W|                   WLDDW|                   LWWLW|                L|                         NULL|                         NULL|\n",
      "|  130| 13|Sun|1995-11-19|NULL|            QPR|  1–1|  Coventry City|     11189|      Loftus Road| Martin Bodenham|https://fbref.com...|   NULL|   NULL|1995-1996|         1|         1|         0|           D|                   WLLDL|                   LDLLL|                D|                         NULL|                         NULL|\n",
      "|  131| 14|Mon|1995-11-20|NULL|    Southampton|  0–1|    Aston Villa|     13582|         The Dell|   David Elleray|https://fbref.com...|   NULL|   NULL|1995-1996|         0|         1|        -1|           L|                   LLWWL|                   LLWWD|                W|                         NULL|                         NULL|\n",
      "|  132| 14|Tue|1995-11-21|NULL|  Middlesbrough|  0–1|      Tottenham|     29487|Riverside Stadium|       Mike Reed|https://fbref.com...|   NULL|   NULL|1995-1996|         0|         1|        -1|           L|                   WWLDD|                   LDDWW|                W|                         NULL|                         NULL|\n",
      "|  133| 14|Tue|1995-11-21|NULL|        Arsenal|  4–2| Sheffield Weds|     34556|         Highbury|    Roger Dilkes|https://fbref.com...|   NULL|   NULL|1995-1996|         4|         2|         2|           W|                   WWLWL|                   LWLDD|                L|                         NULL|                         NULL|\n",
      "|  134| 14|Wed|1995-11-22|NULL|        Chelsea|  3–2|         Bolton|     17495|  Stamford Bridge|     Graham Poll|https://fbref.com...|   NULL|   NULL|1995-1996|         3|         2|         1|           W|                   WLLDL|                   DLWLL|                L|                         NULL|                         NULL|\n",
      "|  135| 14|Wed|1995-11-22|NULL|        Everton|  2–0|            QPR|     30009|    Goodison Park|     Paul Danson|https://fbref.com...|   NULL|   NULL|1995-1996|         2|         0|         2|           W|                   DDLWW|                   LLDLD|                L|                         NULL|                         NULL|\n",
      "|  136| 14|Wed|1995-11-22|NULL|  Coventry City|  0–4| Manchester Utd|     23400|   Highfield Road|     Keith Burge|https://fbref.com...|   NULL|   NULL|1995-1996|         0|         4|        -4|           L|                   DLLLD|                   WWWLW|                W|                         NULL|                         NULL|\n",
      "|  137| 14|Wed|1995-11-22|NULL|       West Ham|  0–0|      Liverpool|     24324|    Boleyn Ground|     Jeff Winter|https://fbref.com...|   NULL|   NULL|1995-1996|         0|         0|         0|           D|                   WDWLW|                   DWWLL|                D|                         NULL|                         NULL|\n",
      "|  138| 14|Wed|1995-11-22|NULL|Manchester City|  1–0|      Wimbledon|     23617|       Maine Road|     Paul Durkin|https://fbref.com...|   NULL|   NULL|1995-1996|         1|         0|         1|           W|                   LDLWD|                   LLLLD|                L|                         NULL|                         NULL|\n",
      "|  139| 15|Sat|1995-11-25|NULL|       West Ham|  1–0|            QPR|     21504|    Boleyn Ground|     Paul Alcock|https://fbref.com...|   NULL|   NULL|1995-1996|         1|         0|         1|           W|                   DWLWD|                   LDLDL|                L|                         NULL|                         NULL|\n",
      "|  140| 15|Sat|1995-11-25|NULL|  Newcastle Utd|  2–1|   Leeds United|     36572|  St. James' Park|      Steve Dunn|https://fbref.com...|   NULL|   NULL|1995-1996|         2|         1|         1|           W|                   WDWWD|                   LDWDW|                L|                         NULL|                         NULL|\n",
      "|  141| 15|Sat|1995-11-25|NULL|        Chelsea|  0–0|      Tottenham|     31059|  Stamford Bridge|   Stephen Lodge|https://fbref.com...|   NULL|   NULL|1995-1996|         0|         0|         0|           D|                   LLDLW|                   DDWWW|                D|                         NULL|                         NULL|\n",
      "|  142| 15|Sat|1995-11-25|NULL|  Middlesbrough|  2–1|      Liverpool|     29390|Riverside Stadium|Dermot Gallagher|https://fbref.com...|   NULL|   NULL|1995-1996|         2|         1|         1|           W|                   WLDDL|                   WWLLD|                L|                         NULL|                         NULL|\n",
      "|  143| 15|Sat|1995-11-25|NULL|    Southampton|  1–0|         Bolton|     14404|         The Dell|     Peter Jones|https://fbref.com...|   NULL|   NULL|1995-1996|         1|         0|         1|           W|                   LWWLL|                   LWLLL|                L|                         NULL|                         NULL|\n",
      "|  144| 15|Sat|1995-11-25|NULL|        Everton|  2–2| Sheffield Weds|     35898|    Goodison Park| Martin Bodenham|https://fbref.com...|   NULL|   NULL|1995-1996|         2|         2|         0|           D|                   DLWWW|                   WLDDL|                D|                         NULL|                         NULL|\n",
      "|  145| 15|Sat|1995-11-25|NULL|Manchester City|  1–0|    Aston Villa|     28027|       Maine Road|    Gerald Ashby|https://fbref.com...|   NULL|   NULL|1995-1996|         1|         0|         1|           W|                   DLWDW|                   LWWDW|                L|                         NULL|                         NULL|\n",
      "|  146| 15|Sat|1995-11-25|NULL|  Coventry City|  3–3|      Wimbledon|     12523|   Highfield Road|     Robbie Hart|https://fbref.com...|   NULL|   NULL|1995-1996|         3|         3|         0|           D|                   LLLDL|                   LLLDL|                D|                         NULL|                         NULL|\n",
      "|  147| 15|Sun|1995-11-26|NULL|        Arsenal|  0–0|      Blackburn|     37695|         Highbury|     Graham Poll|https://fbref.com...|   NULL|   NULL|1995-1996|         0|         0|         0|           D|                   WLWLW|                   DWLLW|                D|                         NULL|                         NULL|\n",
      "|  148| 15|Mon|1995-11-27|NULL|Nott'ham Forest|  1–1| Manchester Utd|     29263|      City Ground|    Keith Cooper|https://fbref.com...|   NULL|   NULL|1995-1996|         1|         1|         0|           D|                   WWDWL|                   WWLWW|                D|                         NULL|                         NULL|\n",
      "|  149| 16|Sat|1995-12-02|NULL|         Bolton|  1–1|Nott'ham Forest|     17342|     Burnden Park|    Roger Dilkes|https://fbref.com...|   NULL|   NULL|1995-1996|         1|         1|         0|           D|                   WLLLL|                   WDWLD|                D|                            L|                            W|\n",
      "|  150| 16|Sat|1995-12-02|NULL|   Leeds United|  0–1|Manchester City|     33249|      Elland Road|     Paul Alcock|https://fbref.com...|   NULL|   NULL|1995-1996|         0|         1|        -1|           L|                   DWDWL|                   LWDWW|                W|                            D|                            D|\n",
      "|  151| 16|Sat|1995-12-02|NULL|      Tottenham|  0–0|        Everton|     32894|  White Hart Lane|      Steve Dunn|https://fbref.com...|   NULL|   NULL|1995-1996|         0|         0|         0|           D|                   DWWWD|                   LWWWD|                D|                            D|                            D|\n",
      "|  152| 16|Sat|1995-12-02|NULL| Manchester Utd|  1–1|        Chelsea|     42019|     Old Trafford| Martin Bodenham|https://fbref.com...|   NULL|   NULL|1995-1996|         1|         1|         0|           D|                   WLWWD|                   LDLWD|                D|                            W|                            L|\n",
      "|  153| 16|Sat|1995-12-02|NULL|    Aston Villa|  1–1|        Arsenal|     37770|       Villa Park|     Jeff Winter|https://fbref.com...|   NULL|   NULL|1995-1996|         1|         1|         0|           D|                   WWDWL|                   LWLWD|                D|                            L|                            W|\n",
      "|  154| 16|Sat|1995-12-02|NULL|      Blackburn|  4–2|       West Ham|     26638|       Ewood Park|     Keith Burge|https://fbref.com...|   NULL|   NULL|1995-1996|         4|         2|         2|           W|                   WLLWD|                   WLWDW|                L|                            D|                            D|\n",
      "|  155| 16|Sat|1995-12-02|NULL|      Liverpool|  1–1|    Southampton|     38007|          Anfield|     Robbie Hart|https://fbref.com...|   NULL|   NULL|1995-1996|         1|         1|         0|           D|                   WLLDL|                   WWLLW|                D|                            W|                            L|\n",
      "|  156| 16|Sat|1995-12-02|NULL|            QPR|  1–1|  Middlesbrough|     17546|      Loftus Road|     Paul Durkin|https://fbref.com...|   NULL|   NULL|1995-1996|         1|         1|         0|           D|                   DLDLL|                   LDDLW|                D|                            L|                            W|\n",
      "|  157| 16|Sun|1995-12-03|NULL|      Wimbledon|  3–3|  Newcastle Utd|     18002|    Selhurst Park|    Gerald Ashby|https://fbref.com...|   NULL|   NULL|1995-1996|         3|         3|         0|           D|                   LLDLD|                   DWWDW|                D|                            L|                            W|\n",
      "|  158| 16|Mon|1995-12-04|NULL| Sheffield Weds|  4–3|  Coventry City|     16229|     Hillsborough|       Mike Reed|https://fbref.com...|   NULL|   NULL|1995-1996|         4|         3|         1|           W|                   LDDLD|                   LLDLD|                L|                            W|                            L|\n",
      "|  159| 17|Sat|1995-12-09|NULL|  Coventry City|  5–0|      Blackburn|     13376|   Highfield Road|      Steve Dunn|https://fbref.com...|   NULL|   NULL|1995-1996|         5|         0|         5|           W|                   LDLDL|                   LLWDW|                L|                            L|                            W|\n",
      "|  160| 17|Sat|1995-12-09|NULL|    Southampton|  0–0|        Arsenal|     15238|         The Dell|     Paul Danson|https://fbref.com...|   NULL|   NULL|1995-1996|         0|         0|         0|           D|                   WLLWD|                   WLWDD|                D|                            L|                            W|\n",
      "|  161| 17|Sat|1995-12-09|NULL|      Tottenham|  1–0|            QPR|     28851|  White Hart Lane|    Keith Cooper|https://fbref.com...|   NULL|   NULL|1995-1996|         1|         0|         1|           W|                   WWWDD|                   LDLLD|                L|                            W|                            L|\n",
      "|  162| 17|Sat|1995-12-09|NULL|         Bolton|  0–1|      Liverpool|     21042|     Burnden Park| Martin Bodenham|https://fbref.com...|   NULL|   NULL|1995-1996|         0|         1|        -1|           L|                   LLLLD|                   LLDLD|                W|                            L|                            W|\n",
      "|  163| 17|Sat|1995-12-09|NULL|  Middlesbrough|  4–1|Manchester City|     29469|Riverside Stadium|   Stephen Lodge|https://fbref.com...|   NULL|   NULL|1995-1996|         4|         1|         3|           W|                   DDLWD|                   WDWWW|                L|                            W|                            L|\n",
      "|  164| 17|Sat|1995-12-09|NULL|   Leeds United|  1–1|      Wimbledon|     27984|      Elland Road|     Graham Poll|https://fbref.com...|   NULL|   NULL|1995-1996|         1|         1|         0|           D|                   WDWLL|                   LDLDD|                D|                            W|                            L|\n",
      "|  165| 17|Sat|1995-12-09|NULL|        Chelsea|  1–0|  Newcastle Utd|     31098|  Stamford Bridge|    Roger Dilkes|https://fbref.com...|   NULL|   NULL|1995-1996|         1|         0|         1|           W|                   DLWDD|                   WWDWD|                L|                            L|                            W|\n",
      "|  166| 17|Sat|1995-12-09|NULL| Manchester Utd|  2–2| Sheffield Weds|     41849|     Old Trafford|     Peter Jones|https://fbref.com...|   NULL|   NULL|1995-1996|         2|         2|         0|           D|                   LWWDD|                   DDLDW|                D|                            D|                            D|\n",
      "|  167| 17|Sun|1995-12-10|NULL|Nott'ham Forest|  1–1|    Aston Villa|     25790|      City Ground|     Paul Durkin|https://fbref.com...|   NULL|   NULL|1995-1996|         1|         1|         0|           D|                   DWLDD|                   WDWLD|                D|                            D|                            D|\n",
      "|  168| 17|Mon|1995-12-11|NULL|        Everton|  3–0|       West Ham|     31778|    Goodison Park|       Mike Reed|https://fbref.com...|   NULL|   NULL|1995-1996|         3|         0|         3|           W|                   WWWDD|                   LWDWL|                L|                            L|                            W|\n",
      "|  169| 18|Sat|1995-12-16|NULL|       West Ham|  2–1|    Southampton|     18501|    Boleyn Ground|     Alan Wilkie|https://fbref.com...|   NULL|   NULL|1995-1996|         2|         1|         1|           W|                   WDWLL|                   LLWDD|                L|                            D|                            D|\n",
      "|  170| 18|Sat|1995-12-16|NULL|            QPR|  2–1|         Bolton|     11456|      Loftus Road|   Stephen Lodge|https://fbref.com...|   NULL|   NULL|1995-1996|         2|         1|         1|           W|                   DLLDL|                   LLLDL|                L|                            W|                            L|\n",
      "|  171| 18|Sat|1995-12-16|NULL|  Newcastle Utd|  1–0|        Everton|     36557|  St. James' Park|     Paul Durkin|https://fbref.com...|   NULL|   NULL|1995-1996|         1|         0|         1|           W|                   WDWDL|                   WWDDW|                L|                            W|                            L|\n",
      "|  172| 18|Sat|1995-12-16|NULL| Sheffield Weds|  6–2|   Leeds United|     24573|     Hillsborough|     Robbie Hart|https://fbref.com...|   NULL|   NULL|1995-1996|         6|         2|         4|           W|                   DLDWD|                   DWLLD|                L|                            L|                            W|\n",
      "|  173| 18|Sat|1995-12-16|NULL|      Wimbledon|  0–1|      Tottenham|     16193|    Selhurst Park|   David Elleray|https://fbref.com...|   NULL|   NULL|1995-1996|         0|         1|        -1|           L|                   DLDDD|                   WWDDW|                W|                            L|                            W|\n",
      "|  174| 18|Sat|1995-12-16|NULL|    Aston Villa|  4–1|  Coventry City|     28486|       Villa Park|     Paul Alcock|https://fbref.com...|   NULL|   NULL|1995-1996|         4|         1|         3|           W|                   DWLDD|                   DLDLW|                L|                            W|                            L|\n",
      "|  175| 18|Sat|1995-12-16|NULL|        Arsenal|  1–1|        Chelsea|     38295|         Highbury|    Gerald Ashby|https://fbref.com...|   NULL|   NULL|1995-1996|         1|         1|         0|           D|                   LWDDD|                   LWDDW|                D|                            L|                            W|\n",
      "|  176| 18|Sat|1995-12-16|NULL|      Blackburn|  1–0|  Middlesbrough|     27996|       Ewood Park|     Paul Danson|https://fbref.com...|   NULL|   NULL|1995-1996|         1|         0|         1|           W|                   LWDWL|                   DLWDW|                L|                            L|                            W|\n",
      "|  177| 18|Sun|1995-12-17|NULL|      Liverpool|  2–0| Manchester Utd|     40546|          Anfield|     Graham Poll|https://fbref.com...|   NULL|   NULL|1995-1996|         2|         0|         2|           W|                   LDLDW|                   WWDDD|                L|                            D|                            D|\n",
      "|  178| 18|Mon|1995-12-18|NULL|Manchester City|  1–1|Nott'ham Forest|     25660|       Maine Road|     Keith Burge|https://fbref.com...|   NULL|   NULL|1995-1996|         1|         1|         0|           D|                   DWWWL|                   WLDDD|                D|                            L|                            W|\n",
      "|  179| 19|Sat|1995-12-23|NULL| Sheffield Weds|  2–2|    Southampton|     25115|     Hillsborough|     Jeff Winter|https://fbref.com...|   NULL|   NULL|1995-1996|         2|         2|         0|           D|                   LDWDW|                   LWDDL|                D|                         NULL|                         NULL|\n",
      "|  180| 19|Sat|1995-12-23|NULL|      Tottenham|  2–2|         Bolton|     30702|  White Hart Lane|     Paul Danson|https://fbref.com...|   NULL|   NULL|1995-1996|         2|         2|         0|           D|                   WDDWW|                   LLDLL|                D|                         NULL|                         NULL|\n",
      "|  181| 19|Sat|1995-12-23|NULL|      Liverpool|  3–1|        Arsenal|     39806|          Anfield|    Keith Cooper|https://fbref.com...|   NULL|   NULL|1995-1996|         3|         1|         2|           W|                   DLDWW|                   WDDDD|                L|                         NULL|                         NULL|\n",
      "|  182| 19|Sat|1995-12-23|NULL|  Coventry City|  2–1|        Everton|     16639|   Highfield Road|   Stephen Lodge|https://fbref.com...|   NULL|   NULL|1995-1996|         2|         1|         1|           W|                   LDLWL|                   WDDWL|                L|                         NULL|                         NULL|\n",
      "|  183| 19|Sat|1995-12-23|NULL|      Wimbledon|  1–1|      Blackburn|      7105|    Selhurst Park| Martin Bodenham|https://fbref.com...|   NULL|   NULL|1995-1996|         1|         1|         0|           D|                   LDDDL|                   WDWLW|                D|                         NULL|                         NULL|\n",
      "|  184| 19|Sat|1995-12-23|NULL|            QPR|  1–0|    Aston Villa|     14778|      Loftus Road|     Alan Wilkie|https://fbref.com...|   NULL|   NULL|1995-1996|         1|         0|         1|           W|                   LLDLW|                   WLDDW|                L|                         NULL|                         NULL|\n",
      "|  185| 19|Sat|1995-12-23|NULL|Manchester City|  0–1|        Chelsea|     28668|       Maine Road|    Gary Willard|https://fbref.com...|   NULL|   NULL|1995-1996|         0|         1|        -1|           L|                   WWWLD|                   WDDWD|                W|                         NULL|                         NULL|\n",
      "|  186| 19|Sat|1995-12-23|NULL|  Newcastle Utd|  3–1|Nott'ham Forest|     36531|  St. James' Park|   David Elleray|https://fbref.com...|   NULL|   NULL|1995-1996|         3|         1|         2|           W|                   DWDLW|                   LDDDD|                L|                         NULL|                         NULL|\n",
      "|  187| 19|Sat|1995-12-23|NULL|  Middlesbrough|  4–2|       West Ham|     28640|Riverside Stadium|      Steve Dunn|https://fbref.com...|   NULL|   NULL|1995-1996|         4|         2|         2|           W|                   LWDWL|                   DWLLW|                L|                         NULL|                         NULL|\n",
      "|  188| 19|Sun|1995-12-24|NULL|   Leeds United|  3–1| Manchester Utd|     39801|      Elland Road|Dermot Gallagher|https://fbref.com...|   NULL|   NULL|1995-1996|         3|         1|         2|           W|                   WLLDL|                   WDDDL|                L|                         NULL|                         NULL|\n",
      "|  189| 20|Tue|1995-12-26|NULL|        Everton|  4–0|  Middlesbrough|     40019|    Goodison Park|     Peter Jones|https://fbref.com...|   NULL|   NULL|1995-1996|         4|         0|         4|           W|                   DDWLL|                   WDWLW|                L|                         NULL|                         NULL|\n",
      "|  190| 20|Tue|1995-12-26|NULL|        Chelsea|  1–2|      Wimbledon|     21906|  Stamford Bridge|Dermot Gallagher|https://fbref.com...|   NULL|   NULL|1995-1996|         1|         2|        -1|           L|                   DDWDW|                   DDDLD|                W|                         NULL|                         NULL|\n",
      "|  191| 20|Tue|1995-12-26|NULL|Nott'ham Forest|  1–0| Sheffield Weds|     27810|      City Ground|    Gerald Ashby|https://fbref.com...|   NULL|   NULL|1995-1996|         1|         0|         1|           W|                   DDDDL|                   DWDWD|                L|                         NULL|                         NULL|\n",
      "|  192| 20|Tue|1995-12-26|NULL|      Blackburn|  2–0|Manchester City|     28915|       Ewood Park|    Keith Cooper|https://fbref.com...|   NULL|   NULL|1995-1996|         2|         0|         2|           W|                   DWLWD|                   WWLDL|                L|                         NULL|                         NULL|\n",
      "|  193| 20|Tue|1995-12-26|NULL|    Southampton|  0–0|      Tottenham|     15238|         The Dell|     Paul Durkin|https://fbref.com...|   NULL|   NULL|1995-1996|         0|         0|         0|           D|                   WDDLD|                   DDWWD|                D|                         NULL|                         NULL|\n",
      "|  194| 20|Tue|1995-12-26|NULL|        Arsenal|  3–0|            QPR|     38259|         Highbury|       Mike Reed|https://fbref.com...|   NULL|   NULL|1995-1996|         3|         0|         3|           W|                   DDDDL|                   LDLWW|                L|                         NULL|                         NULL|\n",
      "|  195| 20|Wed|1995-12-27|NULL| Manchester Utd|  2–0|  Newcastle Utd|     42024|     Old Trafford|     Paul Alcock|https://fbref.com...|   NULL|   NULL|1995-1996|         2|         0|         2|           W|                   DDDLL|                   WDLWW|                L|                         NULL|                         NULL|\n",
      "|  196| 20|Wed|1995-12-27|NULL|         Bolton|  0–2|   Leeds United|     18414|     Burnden Park|   David Elleray|https://fbref.com...|   NULL|   NULL|1995-1996|         0|         2|        -2|           L|                   LDLLD|                   LLDLW|                W|                         NULL|                         NULL|\n",
      "|  197| 21|Sat|1995-12-30|NULL|        Everton|  2–0|   Leeds United|     40009|    Goodison Park|     Jeff Winter|https://fbref.com...|   NULL|   NULL|1995-1996|         2|         0|         2|           W|                   DWLLW|                   LDLWW|                L|                         NULL|                         NULL|\n",
      "|  198| 21|Sat|1995-12-30|NULL|        Arsenal|  1–3|      Wimbledon|     37640|         Highbury|   Stephen Lodge|https://fbref.com...|   NULL|   NULL|1995-1996|         1|         3|        -2|           L|                   DDDLW|                   DDLDW|                W|                         NULL|                         NULL|\n",
      "|  199| 21|Sat|1995-12-30|NULL|        Chelsea|  2–2|      Liverpool|     31137|  Stamford Bridge|     Keith Burge|https://fbref.com...|   NULL|   NULL|1995-1996|         2|         2|         0|           D|                   DWDWL|                   LDWWW|                D|                         NULL|                         NULL|\n",
      "+-----+---+---+----------+----+---------------+-----+---------------+----------+-----------------+----------------+--------------------+-------+-------+---------+----------+----------+----------+------------+------------------------+------------------------+-----------------+-----------------------------+-----------------------------+\n",
      "only showing top 200 rows\n",
      "\n"
     ]
    }
   ],
   "source": [
    "df.show(200)"
   ]
  },
  {
   "cell_type": "code",
   "execution_count": 250,
   "metadata": {},
   "outputs": [],
   "source": [
    "df = df.withColumn(\"Away_last_match_between_clubs\", when(col(\"Home_last_match_between_clubs\") == \"W\", \"L\") \\\n",
    "                                                    .when(col(\"Home_last_match_between_clubs\") == \"D\", \"D\") \\\n",
    "                                                    .when(col(\"Home_last_match_between_clubs\") == \"L\", \"W\") \\\n",
    "                                                    .otherwise(None))"
   ]
  }
 ],
 "metadata": {
  "kernelspec": {
   "display_name": "Python 3",
   "language": "python",
   "name": "python3"
  },
  "language_info": {
   "codemirror_mode": {
    "name": "ipython",
    "version": 3
   },
   "file_extension": ".py",
   "mimetype": "text/x-python",
   "name": "python",
   "nbconvert_exporter": "python",
   "pygments_lexer": "ipython3",
   "version": "3.12.3"
  }
 },
 "nbformat": 4,
 "nbformat_minor": 2
}
