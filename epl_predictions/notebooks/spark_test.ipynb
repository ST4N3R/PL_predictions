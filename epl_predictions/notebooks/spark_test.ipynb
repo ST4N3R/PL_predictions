{
 "cells": [
  {
   "cell_type": "code",
   "execution_count": 50,
   "metadata": {},
   "outputs": [],
   "source": [
    "from pyspark.sql import SparkSession\n",
    "from pyspark.sql.functions import to_date, monotonically_increasing_id, struct, col, split, regexp_replace, when"
   ]
  },
  {
   "cell_type": "code",
   "execution_count": 2,
   "metadata": {},
   "outputs": [],
   "source": [
    "spark = SparkSession.builder.appName(\"epl\").getOrCreate()"
   ]
  },
  {
   "cell_type": "code",
   "execution_count": 3,
   "metadata": {},
   "outputs": [
    {
     "data": {
      "text/html": [
       "\n",
       "            <div>\n",
       "                <p><b>SparkSession - in-memory</b></p>\n",
       "                \n",
       "        <div>\n",
       "            <p><b>SparkContext</b></p>\n",
       "\n",
       "            <p><a href=\"http://192.168.1.110:4040\">Spark UI</a></p>\n",
       "\n",
       "            <dl>\n",
       "              <dt>Version</dt>\n",
       "                <dd><code>v3.5.3</code></dd>\n",
       "              <dt>Master</dt>\n",
       "                <dd><code>local[*]</code></dd>\n",
       "              <dt>AppName</dt>\n",
       "                <dd><code>epl</code></dd>\n",
       "            </dl>\n",
       "        </div>\n",
       "        \n",
       "            </div>\n",
       "        "
      ],
      "text/plain": [
       "<pyspark.sql.session.SparkSession at 0x167772ae360>"
      ]
     },
     "execution_count": 3,
     "metadata": {},
     "output_type": "execute_result"
    }
   ],
   "source": [
    "spark"
   ]
  },
  {
   "cell_type": "code",
   "execution_count": 27,
   "metadata": {},
   "outputs": [],
   "source": [
    "resutls_path = r\"C:\\Users\\Stanisław\\Desktop\\Programowanie\\GitHub\\PL_predictions\\epl_predictions\\data\\raw\\results.csv\"\n",
    "\n",
    "df = spark.read.option(\"header\", True).csv(resutls_path)"
   ]
  },
  {
   "cell_type": "code",
   "execution_count": 28,
   "metadata": {},
   "outputs": [
    {
     "name": "stdout",
     "output_type": "stream",
     "text": [
      "+---+---+----------+----+-------------+-----+---------------+----------+---------------+------------+--------------------+-----+-------+-------+-----+---------+\n",
      "| Wk|Day|      Date|Time|         Home|Score|           Away|Attendance|          Venue|     Referee|        Match Report|Notes|xG_Home|xG_Away|index|   Season|\n",
      "+---+---+----------+----+-------------+-----+---------------+----------+---------------+------------+--------------------+-----+-------+-------+-----+---------+\n",
      "|  1|Sat|1995-08-19|NULL|  Southampton|  3–4|Nott'ham Forest|    15,164|       The Dell|Gary Willard|https://fbref.com...| NULL|   NULL|   NULL|    0|1995-1996|\n",
      "|  1|Sat|1995-08-19|NULL|Newcastle Utd|  3–0|  Coventry City|    36,485|St. James' Park|Roger Dilkes|https://fbref.com...| NULL|   NULL|   NULL|    1|1995-1996|\n",
      "|  1|Sat|1995-08-19|NULL|    Wimbledon|  3–2|         Bolton|     9,317|  Selhurst Park|Keith Cooper|https://fbref.com...| NULL|   NULL|   NULL|    2|1995-1996|\n",
      "|  1|Sat|1995-08-19|NULL|    Liverpool|  1–0| Sheffield Weds|    40,535|        Anfield| Paul Durkin|https://fbref.com...| NULL|   NULL|   NULL|    3|1995-1996|\n",
      "|  1|Sat|1995-08-19|NULL|     West Ham|  1–2|   Leeds United|    22,901|  Boleyn Ground| Keith Burge|https://fbref.com...| NULL|   NULL|   NULL|    4|1995-1996|\n",
      "+---+---+----------+----+-------------+-----+---------------+----------+---------------+------------+--------------------+-----+-------+-------+-----+---------+\n",
      "only showing top 5 rows\n",
      "\n"
     ]
    }
   ],
   "source": [
    "df.show(5)"
   ]
  },
  {
   "cell_type": "code",
   "execution_count": 46,
   "metadata": {},
   "outputs": [
    {
     "name": "stdout",
     "output_type": "stream",
     "text": [
      "+---+---+----------+-----+--------------+-----+---------------+----------+------------------+------------+--------------------+-----+-------+-------+-----+---------+----------+----------+\n",
      "| Wk|Day|      Date| Time|          Home|Score|           Away|Attendance|             Venue|     Referee|        Match Report|Notes|xG_Home|xG_Away|index|   Season|Home_score|Away_score|\n",
      "+---+---+----------+-----+--------------+-----+---------------+----------+------------------+------------+--------------------+-----+-------+-------+-----+---------+----------+----------+\n",
      "|  9|Fri|2024-10-25|20:00|Leicester City|  1–3|Nott'ham Forest|    31,879|King Power Stadium|Craig Pawson|https://fbref.com...| NULL|    0.6|    1.7|   80|2024-2025|         1|         3|\n",
      "+---+---+----------+-----+--------------+-----+---------------+----------+------------------+------------+--------------------+-----+-------+-------+-----+---------+----------+----------+\n",
      "\n"
     ]
    }
   ],
   "source": [
    "last_row = df.withColumn('id', monotonically_increasing_id()).select(max(struct('id', *df.columns)).alias('x')).select(col('x.*')).drop('id')\n",
    "\n",
    "last_row.show()"
   ]
  },
  {
   "cell_type": "code",
   "execution_count": 30,
   "metadata": {},
   "outputs": [],
   "source": [
    "df = df.withColumn(\"Date\", to_date(col(\"Date\"), \"yyyy-MM-dd\"))"
   ]
  },
  {
   "cell_type": "code",
   "execution_count": 40,
   "metadata": {},
   "outputs": [],
   "source": [
    "df = df.withColumn(\"Home_score\", split(col(\"Score\"), \"–\").getItem(0).cast(\"integer\"))\n",
    "df = df.withColumn(\"Away_score\", split(col(\"Score\"), \"–\").getItem(1).cast(\"integer\"))"
   ]
  },
  {
   "cell_type": "code",
   "execution_count": 43,
   "metadata": {},
   "outputs": [],
   "source": [
    "df = df.withColumn(\"xG_Home\", col(\"xG_Home\").cast(\"float\"))\n",
    "df = df.withColumn(\"xG_Away\", col(\"xG_Away\").cast(\"float\"))"
   ]
  },
  {
   "cell_type": "code",
   "execution_count": 48,
   "metadata": {},
   "outputs": [],
   "source": [
    "df = df.drop(\"Notes\")"
   ]
  },
  {
   "cell_type": "code",
   "execution_count": 51,
   "metadata": {},
   "outputs": [],
   "source": [
    "df = df.withColumn(\"Attendance\", regexp_replace(col(\"Attendance\"), \",\", \"\").cast(\"integer\"))"
   ]
  },
  {
   "cell_type": "code",
   "execution_count": 54,
   "metadata": {},
   "outputs": [],
   "source": [
    "df = df.withColumn(\"Score_diff\", col(\"Home_score\") - col(\"Away_Score\"))\n",
    "\n",
    "result_condition = when(col(\"Score_diff\") > 0, \"W\").when(col(\"Score_diff\") == 0, \"D\").otherwise(\"L\")\n",
    "df = df.withColumn(\"Match_result\", result_condition)"
   ]
  },
  {
   "cell_type": "code",
   "execution_count": 55,
   "metadata": {},
   "outputs": [
    {
     "name": "stdout",
     "output_type": "stream",
     "text": [
      "root\n",
      " |-- Wk: string (nullable = true)\n",
      " |-- Day: string (nullable = true)\n",
      " |-- Date: date (nullable = true)\n",
      " |-- Time: string (nullable = true)\n",
      " |-- Home: string (nullable = true)\n",
      " |-- Score: string (nullable = true)\n",
      " |-- Away: string (nullable = true)\n",
      " |-- Attendance: integer (nullable = true)\n",
      " |-- Venue: string (nullable = true)\n",
      " |-- Referee: string (nullable = true)\n",
      " |-- Match Report: string (nullable = true)\n",
      " |-- xG_Home: float (nullable = true)\n",
      " |-- xG_Away: float (nullable = true)\n",
      " |-- index: string (nullable = true)\n",
      " |-- Season: string (nullable = true)\n",
      " |-- Home_score: integer (nullable = true)\n",
      " |-- Away_score: integer (nullable = true)\n",
      " |-- Score_diff: integer (nullable = true)\n",
      " |-- Match_result: string (nullable = false)\n",
      "\n"
     ]
    }
   ],
   "source": [
    "df.printSchema()"
   ]
  },
  {
   "cell_type": "code",
   "execution_count": 56,
   "metadata": {},
   "outputs": [
    {
     "name": "stdout",
     "output_type": "stream",
     "text": [
      "+---+---+----------+----+---------------+-----+---------------+----------+---------------+----------------+--------------------+-------+-------+-----+---------+----------+----------+----------+------------+\n",
      "| Wk|Day|      Date|Time|           Home|Score|           Away|Attendance|          Venue|         Referee|        Match Report|xG_Home|xG_Away|index|   Season|Home_score|Away_score|Score_diff|Match_result|\n",
      "+---+---+----------+----+---------------+-----+---------------+----------+---------------+----------------+--------------------+-------+-------+-----+---------+----------+----------+----------+------------+\n",
      "|  1|Sat|1995-08-19|NULL|    Southampton|  3–4|Nott'ham Forest|     15164|       The Dell|    Gary Willard|https://fbref.com...|   NULL|   NULL|    0|1995-1996|         3|         4|        -1|           L|\n",
      "|  1|Sat|1995-08-19|NULL|  Newcastle Utd|  3–0|  Coventry City|     36485|St. James' Park|    Roger Dilkes|https://fbref.com...|   NULL|   NULL|    1|1995-1996|         3|         0|         3|           W|\n",
      "|  1|Sat|1995-08-19|NULL|      Wimbledon|  3–2|         Bolton|      9317|  Selhurst Park|    Keith Cooper|https://fbref.com...|   NULL|   NULL|    2|1995-1996|         3|         2|         1|           W|\n",
      "|  1|Sat|1995-08-19|NULL|      Liverpool|  1–0| Sheffield Weds|     40535|        Anfield|     Paul Durkin|https://fbref.com...|   NULL|   NULL|    3|1995-1996|         1|         0|         1|           W|\n",
      "|  1|Sat|1995-08-19|NULL|       West Ham|  1–2|   Leeds United|     22901|  Boleyn Ground|     Keith Burge|https://fbref.com...|   NULL|   NULL|    4|1995-1996|         1|         2|        -1|           L|\n",
      "|  1|Sat|1995-08-19|NULL|      Blackburn|  1–0|            QPR|     22860|     Ewood Park|     Alan Wilkie|https://fbref.com...|   NULL|   NULL|    5|1995-1996|         1|         0|         1|           W|\n",
      "|  1|Sat|1995-08-19|NULL|    Aston Villa|  3–1| Manchester Utd|     34655|     Villa Park|     Robbie Hart|https://fbref.com...|   NULL|   NULL|    6|1995-1996|         3|         1|         2|           W|\n",
      "|  1|Sat|1995-08-19|NULL|Manchester City|  1–1|      Tottenham|     30827|     Maine Road|     Graham Poll|https://fbref.com...|   NULL|   NULL|    7|1995-1996|         1|         1|         0|           D|\n",
      "|  1|Sat|1995-08-19|NULL|        Chelsea|  0–0|        Everton|     29858|Stamford Bridge|       Mike Reed|https://fbref.com...|   NULL|   NULL|    8|1995-1996|         0|         0|         0|           D|\n",
      "|  1|Sun|1995-08-20|NULL|        Arsenal|  1–1|  Middlesbrough|     37308|       Highbury|    Gerald Ashby|https://fbref.com...|   NULL|   NULL|    9|1995-1996|         1|         1|         0|           D|\n",
      "|  2|Mon|1995-08-21|NULL|   Leeds United|  1–0|      Liverpool|     35852|    Elland Road|   David Elleray|https://fbref.com...|   NULL|   NULL|   10|1995-1996|         1|         0|         1|           W|\n",
      "|  2|Tue|1995-08-22|NULL|         Bolton|  1–3|  Newcastle Utd|     20253|   Burnden Park|     Keith Burge|https://fbref.com...|   NULL|   NULL|   11|1995-1996|         1|         3|        -2|           L|\n",
      "|  2|Wed|1995-08-23|NULL|      Tottenham|  0–1|    Aston Villa|     26726|White Hart Lane|      Steve Dunn|https://fbref.com...|   NULL|   NULL|   12|1995-1996|         0|         1|        -1|           L|\n",
      "|  2|Wed|1995-08-23|NULL|Nott'ham Forest|  0–0|        Chelsea|     27007|    City Ground|     Jeff Winter|https://fbref.com...|   NULL|   NULL|   13|1995-1996|         0|         0|         0|           D|\n",
      "|  2|Wed|1995-08-23|NULL|            QPR|  0–3|      Wimbledon|     11837|    Loftus Road|     Graham Poll|https://fbref.com...|   NULL|   NULL|   14|1995-1996|         0|         3|        -3|           L|\n",
      "|  2|Wed|1995-08-23|NULL| Sheffield Weds|  2–1|      Blackburn|     25544|   Hillsborough|     Paul Danson|https://fbref.com...|   NULL|   NULL|   15|1995-1996|         2|         1|         1|           W|\n",
      "|  2|Wed|1995-08-23|NULL| Manchester Utd|  2–1|       West Ham|     31966|   Old Trafford|Dermot Gallagher|https://fbref.com...|   NULL|   NULL|   16|1995-1996|         2|         1|         1|           W|\n",
      "|  2|Wed|1995-08-23|NULL|  Coventry City|  2–1|Manchester City|     15957| Highfield Road|     Paul Alcock|https://fbref.com...|   NULL|   NULL|   17|1995-1996|         2|         1|         1|           W|\n",
      "|  2|Wed|1995-08-23|NULL|        Everton|  0–2|        Arsenal|     35775|  Goodison Park|     Keith Burge|https://fbref.com...|   NULL|   NULL|   18|1995-1996|         0|         2|        -2|           L|\n",
      "|  3|Sat|1995-08-26|NULL|      Tottenham|  1–3|      Liverpool|     31254|White Hart Lane|    Keith Cooper|https://fbref.com...|   NULL|   NULL|   19|1995-1996|         1|         3|        -2|           L|\n",
      "+---+---+----------+----+---------------+-----+---------------+----------+---------------+----------------+--------------------+-------+-------+-----+---------+----------+----------+----------+------------+\n",
      "only showing top 20 rows\n",
      "\n"
     ]
    }
   ],
   "source": [
    "df.show()"
   ]
  },
  {
   "cell_type": "code",
   "execution_count": 47,
   "metadata": {},
   "outputs": [
    {
     "name": "stdout",
     "output_type": "stream",
     "text": [
      "+---+---+----+----+----+-----+----+----------+-----+-------+------------+-----+-------+-------+-----+------+----------+----------+\n",
      "| Wk|Day|Date|Time|Home|Score|Away|Attendance|Venue|Referee|Match Report|Notes|xG_Home|xG_Away|index|Season|Home_score|Away_score|\n",
      "+---+---+----+----+----+-----+----+----------+-----+-------+------------+-----+-------+-------+-----+------+----------+----------+\n",
      "+---+---+----+----+----+-----+----+----------+-----+-------+------------+-----+-------+-------+-----+------+----------+----------+\n",
      "\n"
     ]
    }
   ],
   "source": [
    "df.filter(col(\"Notes\").isNotNull()).show()"
   ]
  },
  {
   "cell_type": "code",
   "execution_count": null,
   "metadata": {},
   "outputs": [],
   "source": []
  }
 ],
 "metadata": {
  "kernelspec": {
   "display_name": "Python 3",
   "language": "python",
   "name": "python3"
  },
  "language_info": {
   "codemirror_mode": {
    "name": "ipython",
    "version": 3
   },
   "file_extension": ".py",
   "mimetype": "text/x-python",
   "name": "python",
   "nbconvert_exporter": "python",
   "pygments_lexer": "ipython3",
   "version": "3.12.3"
  }
 },
 "nbformat": 4,
 "nbformat_minor": 2
}
